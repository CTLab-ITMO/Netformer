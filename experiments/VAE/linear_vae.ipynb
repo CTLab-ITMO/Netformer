{
  "cells": [
    {
      "cell_type": "code",
      "execution_count": null,
      "metadata": {
        "colab": {
          "base_uri": "https://localhost:8080/",
          "height": 35
        },
        "id": "ZSXUUbnF3JMB",
        "outputId": "4ff7fba2-8602-487d-d58e-e6aa91e1fb85"
      },
      "outputs": [
        {
          "data": {
            "application/vnd.google.colaboratory.intrinsic+json": {
              "type": "string"
            },
            "text/plain": [
              "'cpu'"
            ]
          },
          "execution_count": 1,
          "metadata": {},
          "output_type": "execute_result"
        }
      ],
      "source": [
        "import torch.nn as nn\n",
        "import torch\n",
        "import math\n",
        "from torch.nn import functional as F\n",
        "\n",
        "import torch\n",
        "import torch.nn as nn\n",
        "import torch.optim as optim\n",
        "import torch.utils.data as data\n",
        "from torch.utils.data import Dataset, DataLoader\n",
        "\n",
        "import math\n",
        "import copy\n",
        "\n",
        "from tqdm import tqdm\n",
        "import matplotlib.pyplot as plt\n",
        "import seaborn as sns\n",
        "import pandas as pd\n",
        "import numpy as np\n",
        "from sklearn.model_selection import train_test_split\n",
        "\n",
        "device = 'cuda' if torch.cuda.is_available() else 'cpu'\n",
        "device"
      ]
    },
    {
      "cell_type": "code",
      "execution_count": null,
      "metadata": {
        "colab": {
          "base_uri": "https://localhost:8080/",
          "height": 764
        },
        "id": "oiNW4bCfRJGc",
        "outputId": "a780c1a6-6629-44fb-f71d-43a0274d81e2"
      },
      "outputs": [
        {
          "name": "stdout",
          "output_type": "stream",
          "text": [
            "Collecting wandb\n",
            "  Downloading wandb-0.18.0-py3-none-manylinux_2_17_x86_64.manylinux2014_x86_64.whl.metadata (9.6 kB)\n",
            "Requirement already satisfied: click!=8.0.0,>=7.1 in /usr/local/lib/python3.10/dist-packages (from wandb) (8.1.7)\n",
            "Collecting docker-pycreds>=0.4.0 (from wandb)\n",
            "  Downloading docker_pycreds-0.4.0-py2.py3-none-any.whl.metadata (1.8 kB)\n",
            "Collecting gitpython!=3.1.29,>=1.0.0 (from wandb)\n",
            "  Downloading GitPython-3.1.43-py3-none-any.whl.metadata (13 kB)\n",
            "Requirement already satisfied: platformdirs in /usr/local/lib/python3.10/dist-packages (from wandb) (4.3.2)\n",
            "Requirement already satisfied: protobuf!=4.21.0,!=5.28.0,<6,>=3.19.0 in /usr/local/lib/python3.10/dist-packages (from wandb) (3.20.3)\n",
            "Requirement already satisfied: psutil>=5.0.0 in /usr/local/lib/python3.10/dist-packages (from wandb) (5.9.5)\n",
            "Requirement already satisfied: pyyaml in /usr/local/lib/python3.10/dist-packages (from wandb) (6.0.2)\n",
            "Requirement already satisfied: requests<3,>=2.0.0 in /usr/local/lib/python3.10/dist-packages (from wandb) (2.32.3)\n",
            "Collecting sentry-sdk>=1.0.0 (from wandb)\n",
            "  Downloading sentry_sdk-2.14.0-py2.py3-none-any.whl.metadata (9.7 kB)\n",
            "Collecting setproctitle (from wandb)\n",
            "  Downloading setproctitle-1.3.3-cp310-cp310-manylinux_2_5_x86_64.manylinux1_x86_64.manylinux_2_17_x86_64.manylinux2014_x86_64.whl.metadata (9.9 kB)\n",
            "Requirement already satisfied: setuptools in /usr/local/lib/python3.10/dist-packages (from wandb) (71.0.4)\n",
            "Requirement already satisfied: six>=1.4.0 in /usr/local/lib/python3.10/dist-packages (from docker-pycreds>=0.4.0->wandb) (1.16.0)\n",
            "Collecting gitdb<5,>=4.0.1 (from gitpython!=3.1.29,>=1.0.0->wandb)\n",
            "  Downloading gitdb-4.0.11-py3-none-any.whl.metadata (1.2 kB)\n",
            "Requirement already satisfied: charset-normalizer<4,>=2 in /usr/local/lib/python3.10/dist-packages (from requests<3,>=2.0.0->wandb) (3.3.2)\n",
            "Requirement already satisfied: idna<4,>=2.5 in /usr/local/lib/python3.10/dist-packages (from requests<3,>=2.0.0->wandb) (3.8)\n",
            "Requirement already satisfied: urllib3<3,>=1.21.1 in /usr/local/lib/python3.10/dist-packages (from requests<3,>=2.0.0->wandb) (2.0.7)\n",
            "Requirement already satisfied: certifi>=2017.4.17 in /usr/local/lib/python3.10/dist-packages (from requests<3,>=2.0.0->wandb) (2024.8.30)\n",
            "Collecting smmap<6,>=3.0.1 (from gitdb<5,>=4.0.1->gitpython!=3.1.29,>=1.0.0->wandb)\n",
            "  Downloading smmap-5.0.1-py3-none-any.whl.metadata (4.3 kB)\n",
            "Downloading wandb-0.18.0-py3-none-manylinux_2_17_x86_64.manylinux2014_x86_64.whl (9.5 MB)\n",
            "\u001b[2K   \u001b[90m━━━━━━━━━━━━━━━━━━━━━━━━━━━━━━━━━━━━━━━━\u001b[0m \u001b[32m9.5/9.5 MB\u001b[0m \u001b[31m27.7 MB/s\u001b[0m eta \u001b[36m0:00:00\u001b[0m\n",
            "\u001b[?25hDownloading docker_pycreds-0.4.0-py2.py3-none-any.whl (9.0 kB)\n",
            "Downloading GitPython-3.1.43-py3-none-any.whl (207 kB)\n",
            "\u001b[2K   \u001b[90m━━━━━━━━━━━━━━━━━━━━━━━━━━━━━━━━━━━━━━━━\u001b[0m \u001b[32m207.3/207.3 kB\u001b[0m \u001b[31m13.6 MB/s\u001b[0m eta \u001b[36m0:00:00\u001b[0m\n",
            "\u001b[?25hDownloading sentry_sdk-2.14.0-py2.py3-none-any.whl (311 kB)\n",
            "\u001b[2K   \u001b[90m━━━━━━━━━━━━━━━━━━━━━━━━━━━━━━━━━━━━━━━━\u001b[0m \u001b[32m311.4/311.4 kB\u001b[0m \u001b[31m9.7 MB/s\u001b[0m eta \u001b[36m0:00:00\u001b[0m\n",
            "\u001b[?25hDownloading setproctitle-1.3.3-cp310-cp310-manylinux_2_5_x86_64.manylinux1_x86_64.manylinux_2_17_x86_64.manylinux2014_x86_64.whl (30 kB)\n",
            "Downloading gitdb-4.0.11-py3-none-any.whl (62 kB)\n",
            "\u001b[2K   \u001b[90m━━━━━━━━━━━━━━━━━━━━━━━━━━━━━━━━━━━━━━━━\u001b[0m \u001b[32m62.7/62.7 kB\u001b[0m \u001b[31m2.7 MB/s\u001b[0m eta \u001b[36m0:00:00\u001b[0m\n",
            "\u001b[?25hDownloading smmap-5.0.1-py3-none-any.whl (24 kB)\n",
            "Installing collected packages: smmap, setproctitle, sentry-sdk, docker-pycreds, gitdb, gitpython, wandb\n",
            "Successfully installed docker-pycreds-0.4.0 gitdb-4.0.11 gitpython-3.1.43 sentry-sdk-2.14.0 setproctitle-1.3.3 smmap-5.0.1 wandb-0.18.0\n"
          ]
        },
        {
          "name": "stderr",
          "output_type": "stream",
          "text": [
            "\u001b[34m\u001b[1mwandb\u001b[0m: Using wandb-core as the SDK backend. Please refer to https://wandb.me/wandb-core for more information.\n"
          ]
        },
        {
          "data": {
            "application/javascript": [
              "\n",
              "        window._wandbApiKey = new Promise((resolve, reject) => {\n",
              "            function loadScript(url) {\n",
              "            return new Promise(function(resolve, reject) {\n",
              "                let newScript = document.createElement(\"script\");\n",
              "                newScript.onerror = reject;\n",
              "                newScript.onload = resolve;\n",
              "                document.body.appendChild(newScript);\n",
              "                newScript.src = url;\n",
              "            });\n",
              "            }\n",
              "            loadScript(\"https://cdn.jsdelivr.net/npm/postmate/build/postmate.min.js\").then(() => {\n",
              "            const iframe = document.createElement('iframe')\n",
              "            iframe.style.cssText = \"width:0;height:0;border:none\"\n",
              "            document.body.appendChild(iframe)\n",
              "            const handshake = new Postmate({\n",
              "                container: iframe,\n",
              "                url: 'https://wandb.ai/authorize'\n",
              "            });\n",
              "            const timeout = setTimeout(() => reject(\"Couldn't auto authenticate\"), 5000)\n",
              "            handshake.then(function(child) {\n",
              "                child.on('authorize', data => {\n",
              "                    clearTimeout(timeout)\n",
              "                    resolve(data)\n",
              "                });\n",
              "            });\n",
              "            })\n",
              "        });\n",
              "    "
            ],
            "text/plain": [
              "<IPython.core.display.Javascript object>"
            ]
          },
          "metadata": {},
          "output_type": "display_data"
        },
        {
          "name": "stderr",
          "output_type": "stream",
          "text": [
            "\u001b[34m\u001b[1mwandb\u001b[0m: Appending key for api.wandb.ai to your netrc file: /root/.netrc\n"
          ]
        },
        {
          "data": {
            "text/plain": [
              "True"
            ]
          },
          "execution_count": 2,
          "metadata": {},
          "output_type": "execute_result"
        }
      ],
      "source": [
        "!pip install wandb\n",
        "import wandb\n",
        "wandb.login()"
      ]
    },
    {
      "cell_type": "code",
      "execution_count": null,
      "metadata": {
        "colab": {
          "base_uri": "https://localhost:8080/"
        },
        "id": "Ee1g3AYJ3Jkm",
        "outputId": "aaa765ab-427f-4e2a-8a78-d2713f1ab057"
      },
      "outputs": [
        {
          "name": "stdout",
          "output_type": "stream",
          "text": [
            "Collecting pymfe\n",
            "  Downloading pymfe-0.4.3-py3-none-any.whl.metadata (14 kB)\n",
            "Requirement already satisfied: numpy in /usr/local/lib/python3.10/dist-packages (from pymfe) (1.26.4)\n",
            "Requirement already satisfied: scipy in /usr/local/lib/python3.10/dist-packages (from pymfe) (1.13.1)\n",
            "Requirement already satisfied: scikit-learn in /usr/local/lib/python3.10/dist-packages (from pymfe) (1.3.2)\n",
            "Requirement already satisfied: patsy in /usr/local/lib/python3.10/dist-packages (from pymfe) (0.5.6)\n",
            "Requirement already satisfied: pandas in /usr/local/lib/python3.10/dist-packages (from pymfe) (2.1.4)\n",
            "Requirement already satisfied: statsmodels in /usr/local/lib/python3.10/dist-packages (from pymfe) (0.14.2)\n",
            "Collecting texttable (from pymfe)\n",
            "  Downloading texttable-1.7.0-py2.py3-none-any.whl.metadata (9.8 kB)\n",
            "Requirement already satisfied: tqdm in /usr/local/lib/python3.10/dist-packages (from pymfe) (4.66.5)\n",
            "Collecting igraph>=0.10.1 (from pymfe)\n",
            "  Downloading igraph-0.11.6-cp39-abi3-manylinux_2_17_x86_64.manylinux2014_x86_64.whl.metadata (3.9 kB)\n",
            "Collecting gower (from pymfe)\n",
            "  Downloading gower-0.1.2-py3-none-any.whl.metadata (3.7 kB)\n",
            "Requirement already satisfied: python-dateutil>=2.8.2 in /usr/local/lib/python3.10/dist-packages (from pandas->pymfe) (2.8.2)\n",
            "Requirement already satisfied: pytz>=2020.1 in /usr/local/lib/python3.10/dist-packages (from pandas->pymfe) (2024.1)\n",
            "Requirement already satisfied: tzdata>=2022.1 in /usr/local/lib/python3.10/dist-packages (from pandas->pymfe) (2024.1)\n",
            "Requirement already satisfied: six in /usr/local/lib/python3.10/dist-packages (from patsy->pymfe) (1.16.0)\n",
            "Requirement already satisfied: joblib>=1.1.1 in /usr/local/lib/python3.10/dist-packages (from scikit-learn->pymfe) (1.4.2)\n",
            "Requirement already satisfied: threadpoolctl>=2.0.0 in /usr/local/lib/python3.10/dist-packages (from scikit-learn->pymfe) (3.5.0)\n",
            "Requirement already satisfied: packaging>=21.3 in /usr/local/lib/python3.10/dist-packages (from statsmodels->pymfe) (24.1)\n",
            "Downloading pymfe-0.4.3-py3-none-any.whl (155 kB)\n",
            "\u001b[2K   \u001b[90m━━━━━━━━━━━━━━━━━━━━━━━━━━━━━━━━━━━━━━━━\u001b[0m \u001b[32m156.0/156.0 kB\u001b[0m \u001b[31m2.5 MB/s\u001b[0m eta \u001b[36m0:00:00\u001b[0m\n",
            "\u001b[?25hDownloading igraph-0.11.6-cp39-abi3-manylinux_2_17_x86_64.manylinux2014_x86_64.whl (3.1 MB)\n",
            "\u001b[2K   \u001b[90m━━━━━━━━━━━━━━━━━━━━━━━━━━━━━━━━━━━━━━━━\u001b[0m \u001b[32m3.1/3.1 MB\u001b[0m \u001b[31m21.9 MB/s\u001b[0m eta \u001b[36m0:00:00\u001b[0m\n",
            "\u001b[?25hDownloading texttable-1.7.0-py2.py3-none-any.whl (10 kB)\n",
            "Downloading gower-0.1.2-py3-none-any.whl (5.2 kB)\n",
            "Installing collected packages: texttable, igraph, gower, pymfe\n",
            "Successfully installed gower-0.1.2 igraph-0.11.6 pymfe-0.4.3 texttable-1.7.0\n"
          ]
        }
      ],
      "source": [
        "!pip install pymfe\n",
        "from pymfe.mfe import MFE"
      ]
    },
    {
      "cell_type": "code",
      "execution_count": null,
      "metadata": {
        "id": "2KAX8JgY3Kem"
      },
      "outputs": [],
      "source": [
        "torch.manual_seed(0)\n",
        "np.random.seed(0)\n",
        "import random\n",
        "random.seed(0)"
      ]
    },
    {
      "cell_type": "code",
      "execution_count": null,
      "metadata": {
        "colab": {
          "base_uri": "https://localhost:8080/"
        },
        "id": "-zLidM3x3aar",
        "outputId": "76e84da5-5698-45d3-9f4d-c7a7dd9d6f2d"
      },
      "outputs": [
        {
          "name": "stdout",
          "output_type": "stream",
          "text": [
            "--2024-09-12 06:49:42--  https://www.dropbox.com/scl/fi/vka3aonbo9qlsh0mhtlvw/random_regressions.csv?rlkey=6ey79ntvfkb056kplnbmc5d6z\n",
            "Resolving www.dropbox.com (www.dropbox.com)... 162.125.5.18, 2620:100:601d:18::a27d:512\n",
            "Connecting to www.dropbox.com (www.dropbox.com)|162.125.5.18|:443... connected.\n",
            "HTTP request sent, awaiting response... 302 Found\n",
            "Location: https://uc6a1585dab403ccfdcda7393f30.dl.dropboxusercontent.com/cd/0/inline/CaZXzKtejMQbeqv_3gSmyzSasGT9AnZ3wnSas_N50lkm3xAtjTHQVbm80Q4ixoSnHzQ7oi1V6okInS1scAIvUyGVgmAl5pcjP2J_O84CkuqAfmauoSl0-GRVbuxNgfBqyid7PVtTw4xdb4W36igF3TfO/file# [following]\n",
            "--2024-09-12 06:49:43--  https://uc6a1585dab403ccfdcda7393f30.dl.dropboxusercontent.com/cd/0/inline/CaZXzKtejMQbeqv_3gSmyzSasGT9AnZ3wnSas_N50lkm3xAtjTHQVbm80Q4ixoSnHzQ7oi1V6okInS1scAIvUyGVgmAl5pcjP2J_O84CkuqAfmauoSl0-GRVbuxNgfBqyid7PVtTw4xdb4W36igF3TfO/file\n",
            "Resolving uc6a1585dab403ccfdcda7393f30.dl.dropboxusercontent.com (uc6a1585dab403ccfdcda7393f30.dl.dropboxusercontent.com)... 162.125.5.15, 2620:100:601d:15::a27d:50f\n",
            "Connecting to uc6a1585dab403ccfdcda7393f30.dl.dropboxusercontent.com (uc6a1585dab403ccfdcda7393f30.dl.dropboxusercontent.com)|162.125.5.15|:443... connected.\n",
            "HTTP request sent, awaiting response... 200 OK\n",
            "Length: 4375219 (4.2M) [text/plain]\n",
            "Saving to: ‘random_regressions.csv’\n",
            "\n",
            "random_regressions. 100%[===================>]   4.17M  26.4MB/s    in 0.2s    \n",
            "\n",
            "2024-09-12 06:49:44 (26.4 MB/s) - ‘random_regressions.csv’ saved [4375219/4375219]\n",
            "\n",
            "Downloading...\n",
            "From (original): https://drive.google.com/uc?id=1w3qFkPECtwFnlaP-OPgM2NEn8mQENj0W\n",
            "From (redirected): https://drive.google.com/uc?id=1w3qFkPECtwFnlaP-OPgM2NEn8mQENj0W&confirm=t&uuid=4c7ecd2b-d899-4714-859a-2419bad1a510\n",
            "To: /content/fitted 2.zip\n",
            "100% 2.42M/2.42M [00:00<00:00, 191MB/s]\n",
            "Archive:  fitted 2.zip\n",
            "   creating: fitted 2/\n",
            "  inflating: __MACOSX/._fitted 2     \n",
            "  inflating: fitted 2/.DS_Store      \n",
            "  inflating: __MACOSX/fitted 2/._.DS_Store  \n",
            "   creating: fitted 2/reg0/\n",
            "  inflating: __MACOSX/fitted 2/._reg0  \n",
            "   creating: fitted 2/reg1/\n",
            "  inflating: __MACOSX/fitted 2/._reg1  \n",
            "  inflating: fitted 2/base_models.zip  \n",
            "  inflating: __MACOSX/fitted 2/._base_models.zip  \n",
            "   creating: fitted 2/reg3/\n",
            "  inflating: __MACOSX/fitted 2/._reg3  \n",
            "   creating: fitted 2/reg2/\n",
            "  inflating: __MACOSX/fitted 2/._reg2  \n",
            "   creating: fitted 2/base_models/\n",
            "  inflating: __MACOSX/fitted 2/._base_models  \n",
            "  inflating: fitted 2/reg0/model98.pt  \n",
            "  inflating: __MACOSX/fitted 2/reg0/._model98.pt  \n",
            "  inflating: fitted 2/reg0/model1.pt  \n",
            "  inflating: __MACOSX/fitted 2/reg0/._model1.pt  \n",
            "  inflating: fitted 2/reg0/model88.pt  \n",
            "  inflating: __MACOSX/fitted 2/reg0/._model88.pt  \n",
            "  inflating: fitted 2/reg0/model5.pt  \n",
            "  inflating: __MACOSX/fitted 2/reg0/._model5.pt  \n",
            "  inflating: fitted 2/reg0/model4.pt  \n",
            "  inflating: __MACOSX/fitted 2/reg0/._model4.pt  \n",
            "  inflating: fitted 2/reg0/model99.pt  \n",
            "  inflating: __MACOSX/fitted 2/reg0/._model99.pt  \n",
            "  inflating: fitted 2/reg0/model0.pt  \n",
            "  inflating: __MACOSX/fitted 2/reg0/._model0.pt  \n",
            "  inflating: fitted 2/reg0/model89.pt  \n",
            "  inflating: __MACOSX/fitted 2/reg0/._model89.pt  \n",
            "  inflating: fitted 2/reg0/model105.pt  \n",
            "  inflating: __MACOSX/fitted 2/reg0/._model105.pt  \n",
            "  inflating: fitted 2/reg0/model154.pt  \n",
            "  inflating: __MACOSX/fitted 2/reg0/._model154.pt  \n",
            "  inflating: fitted 2/reg0/model131.pt  \n",
            "  inflating: __MACOSX/fitted 2/reg0/._model131.pt  \n",
            "  inflating: fitted 2/reg0/model55.pt  \n",
            "  inflating: __MACOSX/fitted 2/reg0/._model55.pt  \n",
            "  inflating: fitted 2/reg0/model30.pt  \n",
            "  inflating: __MACOSX/fitted 2/reg0/._model30.pt  \n",
            "  inflating: fitted 2/reg0/model61.pt  \n",
            "  inflating: __MACOSX/fitted 2/reg0/._model61.pt  \n",
            "  inflating: fitted 2/reg0/model92.pt  \n",
            "  inflating: __MACOSX/fitted 2/reg0/._model92.pt  \n",
            "  inflating: fitted 2/reg0/model82.pt  \n",
            "  inflating: __MACOSX/fitted 2/reg0/._model82.pt  \n",
            "  inflating: fitted 2/reg0/model71.pt  \n",
            "  inflating: __MACOSX/fitted 2/reg0/._model71.pt  \n",
            "  inflating: fitted 2/reg0/model20.pt  \n",
            "  inflating: __MACOSX/fitted 2/reg0/._model20.pt  \n",
            "  inflating: fitted 2/reg0/model14.pt  \n",
            "  inflating: __MACOSX/fitted 2/reg0/._model14.pt  \n",
            "  inflating: fitted 2/reg0/model45.pt  \n",
            "  inflating: __MACOSX/fitted 2/reg0/._model45.pt  \n",
            "  inflating: fitted 2/reg0/model121.pt  \n",
            "  inflating: __MACOSX/fitted 2/reg0/._model121.pt  \n",
            "  inflating: fitted 2/reg0/model144.pt  \n",
            "  inflating: __MACOSX/fitted 2/reg0/._model144.pt  \n",
            "  inflating: fitted 2/reg0/model115.pt  \n",
            "  inflating: __MACOSX/fitted 2/reg0/._model115.pt  \n",
            "  inflating: fitted 2/reg0/model135.pt  \n",
            "  inflating: __MACOSX/fitted 2/reg0/._model135.pt  \n",
            "  inflating: fitted 2/reg0/model150.pt  \n",
            "  inflating: __MACOSX/fitted 2/reg0/._model150.pt  \n",
            "  inflating: fitted 2/reg0/model101.pt  \n",
            "  inflating: __MACOSX/fitted 2/reg0/._model101.pt  \n",
            "  inflating: fitted 2/reg0/model65.pt  \n",
            "  inflating: __MACOSX/fitted 2/reg0/._model65.pt  \n",
            "  inflating: fitted 2/reg0/model34.pt  \n",
            "  inflating: __MACOSX/fitted 2/reg0/._model34.pt  \n",
            "  inflating: fitted 2/reg0/model96.pt  \n",
            "  inflating: __MACOSX/fitted 2/reg0/._model96.pt  \n",
            "  inflating: fitted 2/reg0/model51.pt  \n",
            "  inflating: __MACOSX/fitted 2/reg0/._model51.pt  \n",
            "  inflating: fitted 2/reg0/model41.pt  \n",
            "  inflating: __MACOSX/fitted 2/reg0/._model41.pt  \n",
            "  inflating: fitted 2/reg0/model10.pt  \n",
            "  inflating: __MACOSX/fitted 2/reg0/._model10.pt  \n",
            "  inflating: fitted 2/reg0/model86.pt  \n",
            "  inflating: __MACOSX/fitted 2/reg0/._model86.pt  \n",
            "  inflating: fitted 2/reg0/model24.pt  \n",
            "  inflating: __MACOSX/fitted 2/reg0/._model24.pt  \n",
            "  inflating: fitted 2/reg0/model75.pt  \n",
            "  inflating: __MACOSX/fitted 2/reg0/._model75.pt  \n",
            "  inflating: fitted 2/reg0/model111.pt  \n",
            "  inflating: __MACOSX/fitted 2/reg0/._model111.pt  \n",
            "  inflating: fitted 2/reg0/model140.pt  \n",
            "  inflating: __MACOSX/fitted 2/reg0/._model140.pt  \n",
            "  inflating: fitted 2/reg0/model125.pt  \n",
            "  inflating: __MACOSX/fitted 2/reg0/._model125.pt  \n",
            "  inflating: fitted 2/reg0/model134.pt  \n",
            "  inflating: __MACOSX/fitted 2/reg0/._model134.pt  \n",
            "  inflating: fitted 2/reg0/model151.pt  \n",
            "  inflating: __MACOSX/fitted 2/reg0/._model151.pt  \n",
            "  inflating: fitted 2/reg0/model100.pt  \n",
            "  inflating: __MACOSX/fitted 2/reg0/._model100.pt  \n",
            "  inflating: fitted 2/reg0/model64.pt  \n",
            "  inflating: __MACOSX/fitted 2/reg0/._model64.pt  \n",
            "  inflating: fitted 2/reg0/model35.pt  \n",
            "  inflating: __MACOSX/fitted 2/reg0/._model35.pt  \n",
            "  inflating: fitted 2/reg0/model97.pt  \n",
            "  inflating: __MACOSX/fitted 2/reg0/._model97.pt  \n",
            "  inflating: fitted 2/reg0/model50.pt  \n",
            "  inflating: __MACOSX/fitted 2/reg0/._model50.pt  \n",
            "  inflating: fitted 2/reg0/model40.pt  \n",
            "  inflating: __MACOSX/fitted 2/reg0/._model40.pt  \n",
            "  inflating: fitted 2/reg0/model11.pt  \n",
            "  inflating: __MACOSX/fitted 2/reg0/._model11.pt  \n",
            "  inflating: fitted 2/reg0/model87.pt  \n",
            "  inflating: __MACOSX/fitted 2/reg0/._model87.pt  \n",
            "  inflating: fitted 2/reg0/model25.pt  \n",
            "  inflating: __MACOSX/fitted 2/reg0/._model25.pt  \n",
            "  inflating: fitted 2/reg0/model74.pt  \n",
            "  inflating: __MACOSX/fitted 2/reg0/._model74.pt  \n",
            "  inflating: fitted 2/reg0/model110.pt  \n",
            "  inflating: __MACOSX/fitted 2/reg0/._model110.pt  \n",
            "  inflating: fitted 2/reg0/model141.pt  \n",
            "  inflating: __MACOSX/fitted 2/reg0/._model141.pt  \n",
            "  inflating: fitted 2/reg0/model124.pt  \n",
            "  inflating: __MACOSX/fitted 2/reg0/._model124.pt  \n",
            "  inflating: fitted 2/reg0/model104.pt  \n",
            "  inflating: __MACOSX/fitted 2/reg0/._model104.pt  \n",
            "  inflating: fitted 2/reg0/model155.pt  \n",
            "  inflating: __MACOSX/fitted 2/reg0/._model155.pt  \n",
            "  inflating: fitted 2/reg0/model130.pt  \n",
            "  inflating: __MACOSX/fitted 2/reg0/._model130.pt  \n",
            "  inflating: fitted 2/reg0/model54.pt  \n",
            "  inflating: __MACOSX/fitted 2/reg0/._model54.pt  \n",
            "  inflating: fitted 2/reg0/model31.pt  \n",
            "  inflating: __MACOSX/fitted 2/reg0/._model31.pt  \n",
            "  inflating: fitted 2/reg0/model60.pt  \n",
            "  inflating: __MACOSX/fitted 2/reg0/._model60.pt  \n",
            "  inflating: fitted 2/reg0/model93.pt  \n",
            "  inflating: __MACOSX/fitted 2/reg0/._model93.pt  \n",
            "  inflating: fitted 2/reg0/model83.pt  \n",
            "  inflating: __MACOSX/fitted 2/reg0/._model83.pt  \n",
            "  inflating: fitted 2/reg0/model70.pt  \n",
            "  inflating: __MACOSX/fitted 2/reg0/._model70.pt  \n",
            "  inflating: fitted 2/reg0/model21.pt  \n",
            "  inflating: __MACOSX/fitted 2/reg0/._model21.pt  \n",
            "  inflating: fitted 2/reg0/model15.pt  \n",
            "  inflating: __MACOSX/fitted 2/reg0/._model15.pt  \n",
            "  inflating: fitted 2/reg0/model44.pt  \n",
            "  inflating: __MACOSX/fitted 2/reg0/._model44.pt  \n",
            "  inflating: fitted 2/reg0/model120.pt  \n",
            "  inflating: __MACOSX/fitted 2/reg0/._model120.pt  \n",
            "  inflating: fitted 2/reg0/model145.pt  \n",
            "  inflating: __MACOSX/fitted 2/reg0/._model145.pt  \n",
            "  inflating: fitted 2/reg0/model114.pt  \n",
            "  inflating: __MACOSX/fitted 2/reg0/._model114.pt  \n",
            "  inflating: fitted 2/reg0/model137.pt  \n",
            "  inflating: __MACOSX/fitted 2/reg0/._model137.pt  \n",
            "  inflating: fitted 2/reg0/model103.pt  \n",
            "  inflating: __MACOSX/fitted 2/reg0/._model103.pt  \n",
            "  inflating: fitted 2/reg0/model152.pt  \n",
            "  inflating: __MACOSX/fitted 2/reg0/._model152.pt  \n",
            "  inflating: fitted 2/reg0/model94.pt  \n",
            "  inflating: __MACOSX/fitted 2/reg0/._model94.pt  \n",
            "  inflating: fitted 2/reg0/model36.pt  \n",
            "  inflating: __MACOSX/fitted 2/reg0/._model36.pt  \n",
            "  inflating: fitted 2/reg0/model67.pt  \n",
            "  inflating: __MACOSX/fitted 2/reg0/._model67.pt  \n",
            "  inflating: fitted 2/reg0/model53.pt  \n",
            "  inflating: __MACOSX/fitted 2/reg0/._model53.pt  \n",
            "  inflating: fitted 2/reg0/model12.pt  \n",
            "  inflating: __MACOSX/fitted 2/reg0/._model12.pt  \n",
            "  inflating: fitted 2/reg0/model43.pt  \n",
            "  inflating: __MACOSX/fitted 2/reg0/._model43.pt  \n",
            "  inflating: fitted 2/reg0/model77.pt  \n",
            "  inflating: __MACOSX/fitted 2/reg0/._model77.pt  \n",
            "  inflating: fitted 2/reg0/model26.pt  \n",
            "  inflating: __MACOSX/fitted 2/reg0/._model26.pt  \n",
            "  inflating: fitted 2/reg0/model84.pt  \n",
            "  inflating: __MACOSX/fitted 2/reg0/._model84.pt  \n",
            "  inflating: fitted 2/reg0/model142.pt  \n",
            "  inflating: __MACOSX/fitted 2/reg0/._model142.pt  \n",
            "  inflating: fitted 2/reg0/model113.pt  \n",
            "  inflating: __MACOSX/fitted 2/reg0/._model113.pt  \n",
            "  inflating: fitted 2/reg0/model127.pt  \n",
            "  inflating: __MACOSX/fitted 2/reg0/._model127.pt  \n",
            "  inflating: fitted 2/reg0/model107.pt  \n",
            "  inflating: __MACOSX/fitted 2/reg0/._model107.pt  \n",
            "  inflating: fitted 2/reg0/model133.pt  \n",
            "  inflating: __MACOSX/fitted 2/reg0/._model133.pt  \n",
            "  inflating: fitted 2/reg0/model57.pt  \n",
            "  inflating: __MACOSX/fitted 2/reg0/._model57.pt  \n",
            "  inflating: fitted 2/reg0/model90.pt  \n",
            "  inflating: __MACOSX/fitted 2/reg0/._model90.pt  \n",
            "  inflating: fitted 2/reg0/model63.pt  \n",
            "  inflating: __MACOSX/fitted 2/reg0/._model63.pt  \n",
            "  inflating: fitted 2/reg0/model32.pt  \n",
            "  inflating: __MACOSX/fitted 2/reg0/._model32.pt  \n",
            "  inflating: fitted 2/reg0/model22.pt  \n",
            "  inflating: __MACOSX/fitted 2/reg0/._model22.pt  \n",
            "  inflating: fitted 2/reg0/model9.pt  \n",
            "  inflating: __MACOSX/fitted 2/reg0/._model9.pt  \n",
            "  inflating: fitted 2/reg0/model73.pt  \n",
            "  inflating: __MACOSX/fitted 2/reg0/._model73.pt  \n",
            "  inflating: fitted 2/reg0/model80.pt  \n",
            "  inflating: __MACOSX/fitted 2/reg0/._model80.pt  \n",
            "  inflating: fitted 2/reg0/model47.pt  \n",
            "  inflating: __MACOSX/fitted 2/reg0/._model47.pt  \n",
            "  inflating: fitted 2/reg0/model16.pt  \n",
            "  inflating: __MACOSX/fitted 2/reg0/._model16.pt  \n",
            "  inflating: fitted 2/reg0/model123.pt  \n",
            "  inflating: __MACOSX/fitted 2/reg0/._model123.pt  \n",
            "  inflating: fitted 2/reg0/model117.pt  \n",
            "  inflating: __MACOSX/fitted 2/reg0/._model117.pt  \n",
            "  inflating: fitted 2/reg0/model146.pt  \n",
            "  inflating: __MACOSX/fitted 2/reg0/._model146.pt  \n",
            "  inflating: fitted 2/reg0/model106.pt  \n",
            "  inflating: __MACOSX/fitted 2/reg0/._model106.pt  \n",
            "  inflating: fitted 2/reg0/model132.pt  \n",
            "  inflating: __MACOSX/fitted 2/reg0/._model132.pt  \n",
            "  inflating: fitted 2/reg0/model56.pt  \n",
            "  inflating: __MACOSX/fitted 2/reg0/._model56.pt  \n",
            "  inflating: fitted 2/reg0/model91.pt  \n",
            "  inflating: __MACOSX/fitted 2/reg0/._model91.pt  \n",
            "  inflating: fitted 2/reg0/model62.pt  \n",
            "  inflating: __MACOSX/fitted 2/reg0/._model62.pt  \n",
            "  inflating: fitted 2/reg0/model33.pt  \n",
            "  inflating: __MACOSX/fitted 2/reg0/._model33.pt  \n",
            "  inflating: fitted 2/reg0/model23.pt  \n",
            "  inflating: __MACOSX/fitted 2/reg0/._model23.pt  \n",
            "  inflating: fitted 2/reg0/model72.pt  \n",
            "  inflating: __MACOSX/fitted 2/reg0/._model72.pt  \n",
            "  inflating: fitted 2/reg0/model8.pt  \n",
            "  inflating: __MACOSX/fitted 2/reg0/._model8.pt  \n",
            "  inflating: fitted 2/reg0/model81.pt  \n",
            "  inflating: __MACOSX/fitted 2/reg0/._model81.pt  \n",
            "  inflating: fitted 2/reg0/model46.pt  \n",
            "  inflating: __MACOSX/fitted 2/reg0/._model46.pt  \n",
            "  inflating: fitted 2/reg0/model17.pt  \n",
            "  inflating: __MACOSX/fitted 2/reg0/._model17.pt  \n",
            "  inflating: fitted 2/reg0/model122.pt  \n",
            "  inflating: __MACOSX/fitted 2/reg0/._model122.pt  \n",
            "  inflating: fitted 2/reg0/model116.pt  \n",
            "  inflating: __MACOSX/fitted 2/reg0/._model116.pt  \n",
            "  inflating: fitted 2/reg0/model147.pt  \n",
            "  inflating: __MACOSX/fitted 2/reg0/._model147.pt  \n",
            "  inflating: fitted 2/reg0/model136.pt  \n",
            "  inflating: __MACOSX/fitted 2/reg0/._model136.pt  \n",
            "  inflating: fitted 2/reg0/model102.pt  \n",
            "  inflating: __MACOSX/fitted 2/reg0/._model102.pt  \n",
            "  inflating: fitted 2/reg0/model153.pt  \n",
            "  inflating: __MACOSX/fitted 2/reg0/._model153.pt  \n",
            "  inflating: fitted 2/reg0/model95.pt  \n",
            "  inflating: __MACOSX/fitted 2/reg0/._model95.pt  \n",
            "  inflating: fitted 2/reg0/model37.pt  \n",
            "  inflating: __MACOSX/fitted 2/reg0/._model37.pt  \n",
            "  inflating: fitted 2/reg0/model66.pt  \n",
            "  inflating: __MACOSX/fitted 2/reg0/._model66.pt  \n",
            "  inflating: fitted 2/reg0/model52.pt  \n",
            "  inflating: __MACOSX/fitted 2/reg0/._model52.pt  \n",
            "  inflating: fitted 2/reg0/model13.pt  \n",
            "  inflating: __MACOSX/fitted 2/reg0/._model13.pt  \n",
            "  inflating: fitted 2/reg0/model42.pt  \n",
            "  inflating: __MACOSX/fitted 2/reg0/._model42.pt  \n",
            "  inflating: fitted 2/reg0/model76.pt  \n",
            "  inflating: __MACOSX/fitted 2/reg0/._model76.pt  \n",
            "  inflating: fitted 2/reg0/model27.pt  \n",
            "  inflating: __MACOSX/fitted 2/reg0/._model27.pt  \n",
            "  inflating: fitted 2/reg0/model85.pt  \n",
            "  inflating: __MACOSX/fitted 2/reg0/._model85.pt  \n",
            "  inflating: fitted 2/reg0/model143.pt  \n",
            "  inflating: __MACOSX/fitted 2/reg0/._model143.pt  \n",
            "  inflating: fitted 2/reg0/model112.pt  \n",
            "  inflating: __MACOSX/fitted 2/reg0/._model112.pt  \n",
            "  inflating: fitted 2/reg0/model126.pt  \n",
            "  inflating: __MACOSX/fitted 2/reg0/._model126.pt  \n",
            "  inflating: fitted 2/reg0/model59.pt  \n",
            "  inflating: __MACOSX/fitted 2/reg0/._model59.pt  \n",
            "  inflating: fitted 2/reg0/models.csv  \n",
            "  inflating: __MACOSX/fitted 2/reg0/._models.csv  \n",
            "  inflating: fitted 2/reg0/model109.pt  \n",
            "  inflating: __MACOSX/fitted 2/reg0/._model109.pt  \n",
            "  inflating: fitted 2/reg0/model148.pt  \n",
            "  inflating: __MACOSX/fitted 2/reg0/._model148.pt  \n",
            "  inflating: fitted 2/reg0/model119.pt  \n",
            "  inflating: __MACOSX/fitted 2/reg0/._model119.pt  \n",
            "  inflating: fitted 2/reg0/model18.pt  \n",
            "  inflating: __MACOSX/fitted 2/reg0/._model18.pt  \n",
            "  inflating: fitted 2/reg0/model49.pt  \n",
            "  inflating: __MACOSX/fitted 2/reg0/._model49.pt  \n",
            "  inflating: fitted 2/reg0/model7.pt  \n",
            "  inflating: __MACOSX/fitted 2/reg0/._model7.pt  \n",
            "  inflating: fitted 2/reg0/model69.pt  \n",
            "  inflating: __MACOSX/fitted 2/reg0/._model69.pt  \n",
            "  inflating: fitted 2/reg0/model38.pt  \n",
            "  inflating: __MACOSX/fitted 2/reg0/._model38.pt  \n",
            "  inflating: fitted 2/reg0/model139.pt  \n",
            "  inflating: __MACOSX/fitted 2/reg0/._model139.pt  \n",
            "  inflating: fitted 2/reg0/model129.pt  \n",
            "  inflating: __MACOSX/fitted 2/reg0/._model129.pt  \n",
            "  inflating: fitted 2/reg0/model28.pt  \n",
            "  inflating: __MACOSX/fitted 2/reg0/._model28.pt  \n",
            "  inflating: fitted 2/reg0/model3.pt  \n",
            "  inflating: __MACOSX/fitted 2/reg0/._model3.pt  \n",
            "  inflating: fitted 2/reg0/model79.pt  \n",
            "  inflating: __MACOSX/fitted 2/reg0/._model79.pt  \n",
            "  inflating: fitted 2/reg0/model68.pt  \n",
            "  inflating: __MACOSX/fitted 2/reg0/._model68.pt  \n",
            "  inflating: fitted 2/reg0/model39.pt  \n",
            "  inflating: __MACOSX/fitted 2/reg0/._model39.pt  \n",
            "  inflating: fitted 2/reg0/model138.pt  \n",
            "  inflating: __MACOSX/fitted 2/reg0/._model138.pt  \n",
            "  inflating: fitted 2/reg0/model128.pt  \n",
            "  inflating: __MACOSX/fitted 2/reg0/._model128.pt  \n",
            "  inflating: fitted 2/reg0/model29.pt  \n",
            "  inflating: __MACOSX/fitted 2/reg0/._model29.pt  \n",
            "  inflating: fitted 2/reg0/model78.pt  \n",
            "  inflating: __MACOSX/fitted 2/reg0/._model78.pt  \n",
            "  inflating: fitted 2/reg0/model2.pt  \n",
            "  inflating: __MACOSX/fitted 2/reg0/._model2.pt  \n",
            "  inflating: fitted 2/reg0/model58.pt  \n",
            "  inflating: __MACOSX/fitted 2/reg0/._model58.pt  \n",
            "  inflating: fitted 2/reg0/model108.pt  \n",
            "  inflating: __MACOSX/fitted 2/reg0/._model108.pt  \n",
            "  inflating: fitted 2/reg0/model149.pt  \n",
            "  inflating: __MACOSX/fitted 2/reg0/._model149.pt  \n",
            "  inflating: fitted 2/reg0/model118.pt  \n",
            "  inflating: __MACOSX/fitted 2/reg0/._model118.pt  \n",
            "  inflating: fitted 2/reg0/model19.pt  \n",
            "  inflating: __MACOSX/fitted 2/reg0/._model19.pt  \n",
            "  inflating: fitted 2/reg0/model48.pt  \n",
            "  inflating: __MACOSX/fitted 2/reg0/._model48.pt  \n",
            "  inflating: fitted 2/reg0/model6.pt  \n",
            "  inflating: __MACOSX/fitted 2/reg0/._model6.pt  \n",
            "  inflating: fitted 2/reg1/model98.pt  \n",
            "  inflating: __MACOSX/fitted 2/reg1/._model98.pt  \n",
            "  inflating: fitted 2/reg1/model1.pt  \n",
            "  inflating: __MACOSX/fitted 2/reg1/._model1.pt  \n",
            "  inflating: fitted 2/reg1/model88.pt  \n",
            "  inflating: __MACOSX/fitted 2/reg1/._model88.pt  \n",
            "  inflating: fitted 2/reg1/model5.pt  \n",
            "  inflating: __MACOSX/fitted 2/reg1/._model5.pt  \n",
            "  inflating: fitted 2/reg1/model4.pt  \n",
            "  inflating: __MACOSX/fitted 2/reg1/._model4.pt  \n",
            "  inflating: fitted 2/reg1/model99.pt  \n",
            "  inflating: __MACOSX/fitted 2/reg1/._model99.pt  \n",
            "  inflating: fitted 2/reg1/model0.pt  \n",
            "  inflating: __MACOSX/fitted 2/reg1/._model0.pt  \n",
            "  inflating: fitted 2/reg1/model89.pt  \n",
            "  inflating: __MACOSX/fitted 2/reg1/._model89.pt  \n",
            "  inflating: fitted 2/reg1/model105.pt  \n",
            "  inflating: __MACOSX/fitted 2/reg1/._model105.pt  \n",
            "  inflating: fitted 2/reg1/model154.pt  \n",
            "  inflating: __MACOSX/fitted 2/reg1/._model154.pt  \n",
            "  inflating: fitted 2/reg1/model131.pt  \n",
            "  inflating: __MACOSX/fitted 2/reg1/._model131.pt  \n",
            "  inflating: fitted 2/reg1/model55.pt  \n",
            "  inflating: __MACOSX/fitted 2/reg1/._model55.pt  \n",
            "  inflating: fitted 2/reg1/model30.pt  \n",
            "  inflating: __MACOSX/fitted 2/reg1/._model30.pt  \n",
            "  inflating: fitted 2/reg1/model61.pt  \n",
            "  inflating: __MACOSX/fitted 2/reg1/._model61.pt  \n",
            "  inflating: fitted 2/reg1/model92.pt  \n",
            "  inflating: __MACOSX/fitted 2/reg1/._model92.pt  \n",
            "  inflating: fitted 2/reg1/model82.pt  \n",
            "  inflating: __MACOSX/fitted 2/reg1/._model82.pt  \n",
            "  inflating: fitted 2/reg1/model71.pt  \n",
            "  inflating: __MACOSX/fitted 2/reg1/._model71.pt  \n",
            "  inflating: fitted 2/reg1/model20.pt  \n",
            "  inflating: __MACOSX/fitted 2/reg1/._model20.pt  \n",
            "  inflating: fitted 2/reg1/model14.pt  \n",
            "  inflating: __MACOSX/fitted 2/reg1/._model14.pt  \n",
            "  inflating: fitted 2/reg1/model45.pt  \n",
            "  inflating: __MACOSX/fitted 2/reg1/._model45.pt  \n",
            "  inflating: fitted 2/reg1/model121.pt  \n",
            "  inflating: __MACOSX/fitted 2/reg1/._model121.pt  \n",
            "  inflating: fitted 2/reg1/model144.pt  \n",
            "  inflating: __MACOSX/fitted 2/reg1/._model144.pt  \n",
            "  inflating: fitted 2/reg1/model115.pt  \n",
            "  inflating: __MACOSX/fitted 2/reg1/._model115.pt  \n",
            "  inflating: fitted 2/reg1/model135.pt  \n",
            "  inflating: __MACOSX/fitted 2/reg1/._model135.pt  \n",
            "  inflating: fitted 2/reg1/model150.pt  \n",
            "  inflating: __MACOSX/fitted 2/reg1/._model150.pt  \n",
            "  inflating: fitted 2/reg1/model101.pt  \n",
            "  inflating: __MACOSX/fitted 2/reg1/._model101.pt  \n",
            "  inflating: fitted 2/reg1/model65.pt  \n",
            "  inflating: __MACOSX/fitted 2/reg1/._model65.pt  \n",
            "  inflating: fitted 2/reg1/model34.pt  \n",
            "  inflating: __MACOSX/fitted 2/reg1/._model34.pt  \n",
            "  inflating: fitted 2/reg1/model96.pt  \n",
            "  inflating: __MACOSX/fitted 2/reg1/._model96.pt  \n",
            "  inflating: fitted 2/reg1/model51.pt  \n",
            "  inflating: __MACOSX/fitted 2/reg1/._model51.pt  \n",
            "  inflating: fitted 2/reg1/model41.pt  \n",
            "  inflating: __MACOSX/fitted 2/reg1/._model41.pt  \n",
            "  inflating: fitted 2/reg1/model10.pt  \n",
            "  inflating: __MACOSX/fitted 2/reg1/._model10.pt  \n",
            "  inflating: fitted 2/reg1/model86.pt  \n",
            "  inflating: __MACOSX/fitted 2/reg1/._model86.pt  \n",
            "  inflating: fitted 2/reg1/model24.pt  \n",
            "  inflating: __MACOSX/fitted 2/reg1/._model24.pt  \n",
            "  inflating: fitted 2/reg1/model75.pt  \n",
            "  inflating: __MACOSX/fitted 2/reg1/._model75.pt  \n",
            "  inflating: fitted 2/reg1/model111.pt  \n",
            "  inflating: __MACOSX/fitted 2/reg1/._model111.pt  \n",
            "  inflating: fitted 2/reg1/model140.pt  \n",
            "  inflating: __MACOSX/fitted 2/reg1/._model140.pt  \n",
            "  inflating: fitted 2/reg1/model125.pt  \n",
            "  inflating: __MACOSX/fitted 2/reg1/._model125.pt  \n",
            "  inflating: fitted 2/reg1/model134.pt  \n",
            "  inflating: __MACOSX/fitted 2/reg1/._model134.pt  \n",
            "  inflating: fitted 2/reg1/model151.pt  \n",
            "  inflating: __MACOSX/fitted 2/reg1/._model151.pt  \n",
            "  inflating: fitted 2/reg1/model100.pt  \n",
            "  inflating: __MACOSX/fitted 2/reg1/._model100.pt  \n",
            "  inflating: fitted 2/reg1/model64.pt  \n",
            "  inflating: __MACOSX/fitted 2/reg1/._model64.pt  \n",
            "  inflating: fitted 2/reg1/model35.pt  \n",
            "  inflating: __MACOSX/fitted 2/reg1/._model35.pt  \n",
            "  inflating: fitted 2/reg1/model97.pt  \n",
            "  inflating: __MACOSX/fitted 2/reg1/._model97.pt  \n",
            "  inflating: fitted 2/reg1/model50.pt  \n",
            "  inflating: __MACOSX/fitted 2/reg1/._model50.pt  \n",
            "  inflating: fitted 2/reg1/model40.pt  \n",
            "  inflating: __MACOSX/fitted 2/reg1/._model40.pt  \n",
            "  inflating: fitted 2/reg1/model11.pt  \n",
            "  inflating: __MACOSX/fitted 2/reg1/._model11.pt  \n",
            "  inflating: fitted 2/reg1/model87.pt  \n",
            "  inflating: __MACOSX/fitted 2/reg1/._model87.pt  \n",
            "  inflating: fitted 2/reg1/model25.pt  \n",
            "  inflating: __MACOSX/fitted 2/reg1/._model25.pt  \n",
            "  inflating: fitted 2/reg1/model74.pt  \n",
            "  inflating: __MACOSX/fitted 2/reg1/._model74.pt  \n",
            "  inflating: fitted 2/reg1/model110.pt  \n",
            "  inflating: __MACOSX/fitted 2/reg1/._model110.pt  \n",
            "  inflating: fitted 2/reg1/model141.pt  \n",
            "  inflating: __MACOSX/fitted 2/reg1/._model141.pt  \n",
            "  inflating: fitted 2/reg1/model124.pt  \n",
            "  inflating: __MACOSX/fitted 2/reg1/._model124.pt  \n",
            "  inflating: fitted 2/reg1/model104.pt  \n",
            "  inflating: __MACOSX/fitted 2/reg1/._model104.pt  \n",
            "  inflating: fitted 2/reg1/model155.pt  \n",
            "  inflating: __MACOSX/fitted 2/reg1/._model155.pt  \n",
            "  inflating: fitted 2/reg1/model130.pt  \n",
            "  inflating: __MACOSX/fitted 2/reg1/._model130.pt  \n",
            "  inflating: fitted 2/reg1/model54.pt  \n",
            "  inflating: __MACOSX/fitted 2/reg1/._model54.pt  \n",
            "  inflating: fitted 2/reg1/model31.pt  \n",
            "  inflating: __MACOSX/fitted 2/reg1/._model31.pt  \n",
            "  inflating: fitted 2/reg1/model60.pt  \n",
            "  inflating: __MACOSX/fitted 2/reg1/._model60.pt  \n",
            "  inflating: fitted 2/reg1/model93.pt  \n",
            "  inflating: __MACOSX/fitted 2/reg1/._model93.pt  \n",
            "  inflating: fitted 2/reg1/model83.pt  \n",
            "  inflating: __MACOSX/fitted 2/reg1/._model83.pt  \n",
            "  inflating: fitted 2/reg1/model70.pt  \n",
            "  inflating: __MACOSX/fitted 2/reg1/._model70.pt  \n",
            "  inflating: fitted 2/reg1/model21.pt  \n",
            "  inflating: __MACOSX/fitted 2/reg1/._model21.pt  \n",
            "  inflating: fitted 2/reg1/model15.pt  \n",
            "  inflating: __MACOSX/fitted 2/reg1/._model15.pt  \n",
            "  inflating: fitted 2/reg1/model44.pt  \n",
            "  inflating: __MACOSX/fitted 2/reg1/._model44.pt  \n",
            "  inflating: fitted 2/reg1/model120.pt  \n",
            "  inflating: __MACOSX/fitted 2/reg1/._model120.pt  \n",
            "  inflating: fitted 2/reg1/model145.pt  \n",
            "  inflating: __MACOSX/fitted 2/reg1/._model145.pt  \n",
            "  inflating: fitted 2/reg1/model114.pt  \n",
            "  inflating: __MACOSX/fitted 2/reg1/._model114.pt  \n",
            "  inflating: fitted 2/reg1/model137.pt  \n",
            "  inflating: __MACOSX/fitted 2/reg1/._model137.pt  \n",
            "  inflating: fitted 2/reg1/model103.pt  \n",
            "  inflating: __MACOSX/fitted 2/reg1/._model103.pt  \n",
            "  inflating: fitted 2/reg1/model152.pt  \n",
            "  inflating: __MACOSX/fitted 2/reg1/._model152.pt  \n",
            "  inflating: fitted 2/reg1/model94.pt  \n",
            "  inflating: __MACOSX/fitted 2/reg1/._model94.pt  \n",
            "  inflating: fitted 2/reg1/model36.pt  \n",
            "  inflating: __MACOSX/fitted 2/reg1/._model36.pt  \n",
            "  inflating: fitted 2/reg1/model67.pt  \n",
            "  inflating: __MACOSX/fitted 2/reg1/._model67.pt  \n",
            "  inflating: fitted 2/reg1/model53.pt  \n",
            "  inflating: __MACOSX/fitted 2/reg1/._model53.pt  \n",
            "  inflating: fitted 2/reg1/model12.pt  \n",
            "  inflating: __MACOSX/fitted 2/reg1/._model12.pt  \n",
            "  inflating: fitted 2/reg1/model43.pt  \n",
            "  inflating: __MACOSX/fitted 2/reg1/._model43.pt  \n",
            "  inflating: fitted 2/reg1/model77.pt  \n",
            "  inflating: __MACOSX/fitted 2/reg1/._model77.pt  \n",
            "  inflating: fitted 2/reg1/model26.pt  \n",
            "  inflating: __MACOSX/fitted 2/reg1/._model26.pt  \n",
            "  inflating: fitted 2/reg1/model84.pt  \n",
            "  inflating: __MACOSX/fitted 2/reg1/._model84.pt  \n",
            "  inflating: fitted 2/reg1/model142.pt  \n",
            "  inflating: __MACOSX/fitted 2/reg1/._model142.pt  \n",
            "  inflating: fitted 2/reg1/model113.pt  \n",
            "  inflating: __MACOSX/fitted 2/reg1/._model113.pt  \n",
            "  inflating: fitted 2/reg1/model127.pt  \n",
            "  inflating: __MACOSX/fitted 2/reg1/._model127.pt  \n",
            "  inflating: fitted 2/reg1/model107.pt  \n",
            "  inflating: __MACOSX/fitted 2/reg1/._model107.pt  \n",
            "  inflating: fitted 2/reg1/model133.pt  \n",
            "  inflating: __MACOSX/fitted 2/reg1/._model133.pt  \n",
            "  inflating: fitted 2/reg1/model57.pt  \n",
            "  inflating: __MACOSX/fitted 2/reg1/._model57.pt  \n",
            "  inflating: fitted 2/reg1/model90.pt  \n",
            "  inflating: __MACOSX/fitted 2/reg1/._model90.pt  \n",
            "  inflating: fitted 2/reg1/model63.pt  \n",
            "  inflating: __MACOSX/fitted 2/reg1/._model63.pt  \n",
            "  inflating: fitted 2/reg1/model32.pt  \n",
            "  inflating: __MACOSX/fitted 2/reg1/._model32.pt  \n",
            "  inflating: fitted 2/reg1/model22.pt  \n",
            "  inflating: __MACOSX/fitted 2/reg1/._model22.pt  \n",
            "  inflating: fitted 2/reg1/model9.pt  \n",
            "  inflating: __MACOSX/fitted 2/reg1/._model9.pt  \n",
            "  inflating: fitted 2/reg1/model73.pt  \n",
            "  inflating: __MACOSX/fitted 2/reg1/._model73.pt  \n",
            "  inflating: fitted 2/reg1/model80.pt  \n",
            "  inflating: __MACOSX/fitted 2/reg1/._model80.pt  \n",
            "  inflating: fitted 2/reg1/model47.pt  \n",
            "  inflating: __MACOSX/fitted 2/reg1/._model47.pt  \n",
            "  inflating: fitted 2/reg1/model16.pt  \n",
            "  inflating: __MACOSX/fitted 2/reg1/._model16.pt  \n",
            "  inflating: fitted 2/reg1/model123.pt  \n",
            "  inflating: __MACOSX/fitted 2/reg1/._model123.pt  \n",
            "  inflating: fitted 2/reg1/model117.pt  \n",
            "  inflating: __MACOSX/fitted 2/reg1/._model117.pt  \n",
            "  inflating: fitted 2/reg1/model146.pt  \n",
            "  inflating: __MACOSX/fitted 2/reg1/._model146.pt  \n",
            "  inflating: fitted 2/reg1/model106.pt  \n",
            "  inflating: __MACOSX/fitted 2/reg1/._model106.pt  \n",
            "  inflating: fitted 2/reg1/model132.pt  \n",
            "  inflating: __MACOSX/fitted 2/reg1/._model132.pt  \n",
            "  inflating: fitted 2/reg1/model56.pt  \n",
            "  inflating: __MACOSX/fitted 2/reg1/._model56.pt  \n",
            "  inflating: fitted 2/reg1/model91.pt  \n",
            "  inflating: __MACOSX/fitted 2/reg1/._model91.pt  \n",
            "  inflating: fitted 2/reg1/model62.pt  \n",
            "  inflating: __MACOSX/fitted 2/reg1/._model62.pt  \n",
            "  inflating: fitted 2/reg1/model33.pt  \n",
            "  inflating: __MACOSX/fitted 2/reg1/._model33.pt  \n",
            "  inflating: fitted 2/reg1/model23.pt  \n",
            "  inflating: __MACOSX/fitted 2/reg1/._model23.pt  \n",
            "  inflating: fitted 2/reg1/model72.pt  \n",
            "  inflating: __MACOSX/fitted 2/reg1/._model72.pt  \n",
            "  inflating: fitted 2/reg1/model8.pt  \n",
            "  inflating: __MACOSX/fitted 2/reg1/._model8.pt  \n",
            "  inflating: fitted 2/reg1/model81.pt  \n",
            "  inflating: __MACOSX/fitted 2/reg1/._model81.pt  \n",
            "  inflating: fitted 2/reg1/model46.pt  \n",
            "  inflating: __MACOSX/fitted 2/reg1/._model46.pt  \n",
            "  inflating: fitted 2/reg1/model17.pt  \n",
            "  inflating: __MACOSX/fitted 2/reg1/._model17.pt  \n",
            "  inflating: fitted 2/reg1/model122.pt  \n",
            "  inflating: __MACOSX/fitted 2/reg1/._model122.pt  \n",
            "  inflating: fitted 2/reg1/model116.pt  \n",
            "  inflating: __MACOSX/fitted 2/reg1/._model116.pt  \n",
            "  inflating: fitted 2/reg1/model147.pt  \n",
            "  inflating: __MACOSX/fitted 2/reg1/._model147.pt  \n",
            "  inflating: fitted 2/reg1/model136.pt  \n",
            "  inflating: __MACOSX/fitted 2/reg1/._model136.pt  \n",
            "  inflating: fitted 2/reg1/model102.pt  \n",
            "  inflating: __MACOSX/fitted 2/reg1/._model102.pt  \n",
            "  inflating: fitted 2/reg1/model153.pt  \n",
            "  inflating: __MACOSX/fitted 2/reg1/._model153.pt  \n",
            "  inflating: fitted 2/reg1/model95.pt  \n",
            "  inflating: __MACOSX/fitted 2/reg1/._model95.pt  \n",
            "  inflating: fitted 2/reg1/model37.pt  \n",
            "  inflating: __MACOSX/fitted 2/reg1/._model37.pt  \n",
            "  inflating: fitted 2/reg1/model66.pt  \n",
            "  inflating: __MACOSX/fitted 2/reg1/._model66.pt  \n",
            "  inflating: fitted 2/reg1/model52.pt  \n",
            "  inflating: __MACOSX/fitted 2/reg1/._model52.pt  \n",
            "  inflating: fitted 2/reg1/model13.pt  \n",
            "  inflating: __MACOSX/fitted 2/reg1/._model13.pt  \n",
            "  inflating: fitted 2/reg1/model42.pt  \n",
            "  inflating: __MACOSX/fitted 2/reg1/._model42.pt  \n",
            "  inflating: fitted 2/reg1/model76.pt  \n",
            "  inflating: __MACOSX/fitted 2/reg1/._model76.pt  \n",
            "  inflating: fitted 2/reg1/model27.pt  \n",
            "  inflating: __MACOSX/fitted 2/reg1/._model27.pt  \n",
            "  inflating: fitted 2/reg1/model85.pt  \n",
            "  inflating: __MACOSX/fitted 2/reg1/._model85.pt  \n",
            "  inflating: fitted 2/reg1/model143.pt  \n",
            "  inflating: __MACOSX/fitted 2/reg1/._model143.pt  \n",
            "  inflating: fitted 2/reg1/model112.pt  \n",
            "  inflating: __MACOSX/fitted 2/reg1/._model112.pt  \n",
            "  inflating: fitted 2/reg1/model126.pt  \n",
            "  inflating: __MACOSX/fitted 2/reg1/._model126.pt  \n",
            "  inflating: fitted 2/reg1/model59.pt  \n",
            "  inflating: __MACOSX/fitted 2/reg1/._model59.pt  \n",
            "  inflating: fitted 2/reg1/models.csv  \n",
            "  inflating: __MACOSX/fitted 2/reg1/._models.csv  \n",
            "  inflating: fitted 2/reg1/model109.pt  \n",
            "  inflating: __MACOSX/fitted 2/reg1/._model109.pt  \n",
            "  inflating: fitted 2/reg1/model148.pt  \n",
            "  inflating: __MACOSX/fitted 2/reg1/._model148.pt  \n",
            "  inflating: fitted 2/reg1/model119.pt  \n",
            "  inflating: __MACOSX/fitted 2/reg1/._model119.pt  \n",
            "  inflating: fitted 2/reg1/model18.pt  \n",
            "  inflating: __MACOSX/fitted 2/reg1/._model18.pt  \n",
            "  inflating: fitted 2/reg1/model49.pt  \n",
            "  inflating: __MACOSX/fitted 2/reg1/._model49.pt  \n",
            "  inflating: fitted 2/reg1/model7.pt  \n",
            "  inflating: __MACOSX/fitted 2/reg1/._model7.pt  \n",
            "  inflating: fitted 2/reg1/model69.pt  \n",
            "  inflating: __MACOSX/fitted 2/reg1/._model69.pt  \n",
            "  inflating: fitted 2/reg1/model38.pt  \n",
            "  inflating: __MACOSX/fitted 2/reg1/._model38.pt  \n",
            "  inflating: fitted 2/reg1/model139.pt  \n",
            "  inflating: __MACOSX/fitted 2/reg1/._model139.pt  \n",
            "  inflating: fitted 2/reg1/model129.pt  \n",
            "  inflating: __MACOSX/fitted 2/reg1/._model129.pt  \n",
            "  inflating: fitted 2/reg1/model28.pt  \n",
            "  inflating: __MACOSX/fitted 2/reg1/._model28.pt  \n",
            "  inflating: fitted 2/reg1/model3.pt  \n",
            "  inflating: __MACOSX/fitted 2/reg1/._model3.pt  \n",
            "  inflating: fitted 2/reg1/model79.pt  \n",
            "  inflating: __MACOSX/fitted 2/reg1/._model79.pt  \n",
            "  inflating: fitted 2/reg1/model68.pt  \n",
            "  inflating: __MACOSX/fitted 2/reg1/._model68.pt  \n",
            "  inflating: fitted 2/reg1/model39.pt  \n",
            "  inflating: __MACOSX/fitted 2/reg1/._model39.pt  \n",
            "  inflating: fitted 2/reg1/model138.pt  \n",
            "  inflating: __MACOSX/fitted 2/reg1/._model138.pt  \n",
            "  inflating: fitted 2/reg1/model128.pt  \n",
            "  inflating: __MACOSX/fitted 2/reg1/._model128.pt  \n",
            "  inflating: fitted 2/reg1/model29.pt  \n",
            "  inflating: __MACOSX/fitted 2/reg1/._model29.pt  \n",
            "  inflating: fitted 2/reg1/model78.pt  \n",
            "  inflating: __MACOSX/fitted 2/reg1/._model78.pt  \n",
            "  inflating: fitted 2/reg1/model2.pt  \n",
            "  inflating: __MACOSX/fitted 2/reg1/._model2.pt  \n",
            "  inflating: fitted 2/reg1/model58.pt  \n",
            "  inflating: __MACOSX/fitted 2/reg1/._model58.pt  \n",
            "  inflating: fitted 2/reg1/model108.pt  \n",
            "  inflating: __MACOSX/fitted 2/reg1/._model108.pt  \n",
            "  inflating: fitted 2/reg1/model149.pt  \n",
            "  inflating: __MACOSX/fitted 2/reg1/._model149.pt  \n",
            "  inflating: fitted 2/reg1/model118.pt  \n",
            "  inflating: __MACOSX/fitted 2/reg1/._model118.pt  \n",
            "  inflating: fitted 2/reg1/model19.pt  \n",
            "  inflating: __MACOSX/fitted 2/reg1/._model19.pt  \n",
            "  inflating: fitted 2/reg1/model48.pt  \n",
            "  inflating: __MACOSX/fitted 2/reg1/._model48.pt  \n",
            "  inflating: fitted 2/reg1/model6.pt  \n",
            "  inflating: __MACOSX/fitted 2/reg1/._model6.pt  \n",
            "  inflating: fitted 2/reg3/model98.pt  \n",
            "  inflating: __MACOSX/fitted 2/reg3/._model98.pt  \n",
            "  inflating: fitted 2/reg3/model1.pt  \n",
            "  inflating: __MACOSX/fitted 2/reg3/._model1.pt  \n",
            "  inflating: fitted 2/reg3/model88.pt  \n",
            "  inflating: __MACOSX/fitted 2/reg3/._model88.pt  \n",
            "  inflating: fitted 2/reg3/model5.pt  \n",
            "  inflating: __MACOSX/fitted 2/reg3/._model5.pt  \n",
            "  inflating: fitted 2/reg3/model4.pt  \n",
            "  inflating: __MACOSX/fitted 2/reg3/._model4.pt  \n",
            "  inflating: fitted 2/reg3/model99.pt  \n",
            "  inflating: __MACOSX/fitted 2/reg3/._model99.pt  \n",
            "  inflating: fitted 2/reg3/model0.pt  \n",
            "  inflating: __MACOSX/fitted 2/reg3/._model0.pt  \n",
            "  inflating: fitted 2/reg3/model89.pt  \n",
            "  inflating: __MACOSX/fitted 2/reg3/._model89.pt  \n",
            "  inflating: fitted 2/reg3/model105.pt  \n",
            "  inflating: __MACOSX/fitted 2/reg3/._model105.pt  \n",
            "  inflating: fitted 2/reg3/model154.pt  \n",
            "  inflating: __MACOSX/fitted 2/reg3/._model154.pt  \n",
            "  inflating: fitted 2/reg3/model131.pt  \n",
            "  inflating: __MACOSX/fitted 2/reg3/._model131.pt  \n",
            "  inflating: fitted 2/reg3/model55.pt  \n",
            "  inflating: __MACOSX/fitted 2/reg3/._model55.pt  \n",
            "  inflating: fitted 2/reg3/model30.pt  \n",
            "  inflating: __MACOSX/fitted 2/reg3/._model30.pt  \n",
            "  inflating: fitted 2/reg3/model61.pt  \n",
            "  inflating: __MACOSX/fitted 2/reg3/._model61.pt  \n",
            "  inflating: fitted 2/reg3/model92.pt  \n",
            "  inflating: __MACOSX/fitted 2/reg3/._model92.pt  \n",
            "  inflating: fitted 2/reg3/model82.pt  \n",
            "  inflating: __MACOSX/fitted 2/reg3/._model82.pt  \n",
            "  inflating: fitted 2/reg3/model71.pt  \n",
            "  inflating: __MACOSX/fitted 2/reg3/._model71.pt  \n",
            "  inflating: fitted 2/reg3/model20.pt  \n",
            "  inflating: __MACOSX/fitted 2/reg3/._model20.pt  \n",
            "  inflating: fitted 2/reg3/model14.pt  \n",
            "  inflating: __MACOSX/fitted 2/reg3/._model14.pt  \n",
            "  inflating: fitted 2/reg3/model45.pt  \n",
            "  inflating: __MACOSX/fitted 2/reg3/._model45.pt  \n",
            "  inflating: fitted 2/reg3/model121.pt  \n",
            "  inflating: __MACOSX/fitted 2/reg3/._model121.pt  \n",
            "  inflating: fitted 2/reg3/model144.pt  \n",
            "  inflating: __MACOSX/fitted 2/reg3/._model144.pt  \n",
            "  inflating: fitted 2/reg3/model115.pt  \n",
            "  inflating: __MACOSX/fitted 2/reg3/._model115.pt  \n",
            "  inflating: fitted 2/reg3/model135.pt  \n",
            "  inflating: __MACOSX/fitted 2/reg3/._model135.pt  \n",
            "  inflating: fitted 2/reg3/model150.pt  \n",
            "  inflating: __MACOSX/fitted 2/reg3/._model150.pt  \n",
            "  inflating: fitted 2/reg3/model101.pt  \n",
            "  inflating: __MACOSX/fitted 2/reg3/._model101.pt  \n",
            "  inflating: fitted 2/reg3/model65.pt  \n",
            "  inflating: __MACOSX/fitted 2/reg3/._model65.pt  \n",
            "  inflating: fitted 2/reg3/model34.pt  \n",
            "  inflating: __MACOSX/fitted 2/reg3/._model34.pt  \n",
            "  inflating: fitted 2/reg3/model96.pt  \n",
            "  inflating: __MACOSX/fitted 2/reg3/._model96.pt  \n",
            "  inflating: fitted 2/reg3/model51.pt  \n",
            "  inflating: __MACOSX/fitted 2/reg3/._model51.pt  \n",
            "  inflating: fitted 2/reg3/model41.pt  \n",
            "  inflating: __MACOSX/fitted 2/reg3/._model41.pt  \n",
            "  inflating: fitted 2/reg3/model10.pt  \n",
            "  inflating: __MACOSX/fitted 2/reg3/._model10.pt  \n",
            "  inflating: fitted 2/reg3/model86.pt  \n",
            "  inflating: __MACOSX/fitted 2/reg3/._model86.pt  \n",
            "  inflating: fitted 2/reg3/model24.pt  \n",
            "  inflating: __MACOSX/fitted 2/reg3/._model24.pt  \n",
            "  inflating: fitted 2/reg3/model75.pt  \n",
            "  inflating: __MACOSX/fitted 2/reg3/._model75.pt  \n",
            "  inflating: fitted 2/reg3/model111.pt  \n",
            "  inflating: __MACOSX/fitted 2/reg3/._model111.pt  \n",
            "  inflating: fitted 2/reg3/model140.pt  \n",
            "  inflating: __MACOSX/fitted 2/reg3/._model140.pt  \n",
            "  inflating: fitted 2/reg3/model125.pt  \n",
            "  inflating: __MACOSX/fitted 2/reg3/._model125.pt  \n",
            "  inflating: fitted 2/reg3/model134.pt  \n",
            "  inflating: __MACOSX/fitted 2/reg3/._model134.pt  \n",
            "  inflating: fitted 2/reg3/model151.pt  \n",
            "  inflating: __MACOSX/fitted 2/reg3/._model151.pt  \n",
            "  inflating: fitted 2/reg3/model100.pt  \n",
            "  inflating: __MACOSX/fitted 2/reg3/._model100.pt  \n",
            "  inflating: fitted 2/reg3/model64.pt  \n",
            "  inflating: __MACOSX/fitted 2/reg3/._model64.pt  \n",
            "  inflating: fitted 2/reg3/model35.pt  \n",
            "  inflating: __MACOSX/fitted 2/reg3/._model35.pt  \n",
            "  inflating: fitted 2/reg3/model97.pt  \n",
            "  inflating: __MACOSX/fitted 2/reg3/._model97.pt  \n",
            "  inflating: fitted 2/reg3/model50.pt  \n",
            "  inflating: __MACOSX/fitted 2/reg3/._model50.pt  \n",
            "  inflating: fitted 2/reg3/model40.pt  \n",
            "  inflating: __MACOSX/fitted 2/reg3/._model40.pt  \n",
            "  inflating: fitted 2/reg3/model11.pt  \n",
            "  inflating: __MACOSX/fitted 2/reg3/._model11.pt  \n",
            "  inflating: fitted 2/reg3/model87.pt  \n",
            "  inflating: __MACOSX/fitted 2/reg3/._model87.pt  \n",
            "  inflating: fitted 2/reg3/model25.pt  \n",
            "  inflating: __MACOSX/fitted 2/reg3/._model25.pt  \n",
            "  inflating: fitted 2/reg3/model74.pt  \n",
            "  inflating: __MACOSX/fitted 2/reg3/._model74.pt  \n",
            "  inflating: fitted 2/reg3/model110.pt  \n",
            "  inflating: __MACOSX/fitted 2/reg3/._model110.pt  \n",
            "  inflating: fitted 2/reg3/model141.pt  \n",
            "  inflating: __MACOSX/fitted 2/reg3/._model141.pt  \n",
            "  inflating: fitted 2/reg3/model124.pt  \n",
            "  inflating: __MACOSX/fitted 2/reg3/._model124.pt  \n",
            "  inflating: fitted 2/reg3/model104.pt  \n",
            "  inflating: __MACOSX/fitted 2/reg3/._model104.pt  \n",
            "  inflating: fitted 2/reg3/model155.pt  \n",
            "  inflating: __MACOSX/fitted 2/reg3/._model155.pt  \n",
            "  inflating: fitted 2/reg3/model130.pt  \n",
            "  inflating: __MACOSX/fitted 2/reg3/._model130.pt  \n",
            "  inflating: fitted 2/reg3/model54.pt  \n",
            "  inflating: __MACOSX/fitted 2/reg3/._model54.pt  \n",
            "  inflating: fitted 2/reg3/model31.pt  \n",
            "  inflating: __MACOSX/fitted 2/reg3/._model31.pt  \n",
            "  inflating: fitted 2/reg3/model60.pt  \n",
            "  inflating: __MACOSX/fitted 2/reg3/._model60.pt  \n",
            "  inflating: fitted 2/reg3/model93.pt  \n",
            "  inflating: __MACOSX/fitted 2/reg3/._model93.pt  \n",
            "  inflating: fitted 2/reg3/model83.pt  \n",
            "  inflating: __MACOSX/fitted 2/reg3/._model83.pt  \n",
            "  inflating: fitted 2/reg3/model70.pt  \n",
            "  inflating: __MACOSX/fitted 2/reg3/._model70.pt  \n",
            "  inflating: fitted 2/reg3/model21.pt  \n",
            "  inflating: __MACOSX/fitted 2/reg3/._model21.pt  \n",
            "  inflating: fitted 2/reg3/model15.pt  \n",
            "  inflating: __MACOSX/fitted 2/reg3/._model15.pt  \n",
            "  inflating: fitted 2/reg3/model44.pt  \n",
            "  inflating: __MACOSX/fitted 2/reg3/._model44.pt  \n",
            "  inflating: fitted 2/reg3/model120.pt  \n",
            "  inflating: __MACOSX/fitted 2/reg3/._model120.pt  \n",
            "  inflating: fitted 2/reg3/model145.pt  \n",
            "  inflating: __MACOSX/fitted 2/reg3/._model145.pt  \n",
            "  inflating: fitted 2/reg3/model114.pt  \n",
            "  inflating: __MACOSX/fitted 2/reg3/._model114.pt  \n",
            "  inflating: fitted 2/reg3/model137.pt  \n",
            "  inflating: __MACOSX/fitted 2/reg3/._model137.pt  \n",
            "  inflating: fitted 2/reg3/model103.pt  \n",
            "  inflating: __MACOSX/fitted 2/reg3/._model103.pt  \n",
            "  inflating: fitted 2/reg3/model152.pt  \n",
            "  inflating: __MACOSX/fitted 2/reg3/._model152.pt  \n",
            "  inflating: fitted 2/reg3/model94.pt  \n",
            "  inflating: __MACOSX/fitted 2/reg3/._model94.pt  \n",
            "  inflating: fitted 2/reg3/model36.pt  \n",
            "  inflating: __MACOSX/fitted 2/reg3/._model36.pt  \n",
            "  inflating: fitted 2/reg3/model67.pt  \n",
            "  inflating: __MACOSX/fitted 2/reg3/._model67.pt  \n",
            "  inflating: fitted 2/reg3/model53.pt  \n",
            "  inflating: __MACOSX/fitted 2/reg3/._model53.pt  \n",
            "  inflating: fitted 2/reg3/model12.pt  \n",
            "  inflating: __MACOSX/fitted 2/reg3/._model12.pt  \n",
            "  inflating: fitted 2/reg3/model43.pt  \n",
            "  inflating: __MACOSX/fitted 2/reg3/._model43.pt  \n",
            "  inflating: fitted 2/reg3/model77.pt  \n",
            "  inflating: __MACOSX/fitted 2/reg3/._model77.pt  \n",
            "  inflating: fitted 2/reg3/model26.pt  \n",
            "  inflating: __MACOSX/fitted 2/reg3/._model26.pt  \n",
            "  inflating: fitted 2/reg3/model84.pt  \n",
            "  inflating: __MACOSX/fitted 2/reg3/._model84.pt  \n",
            "  inflating: fitted 2/reg3/model142.pt  \n",
            "  inflating: __MACOSX/fitted 2/reg3/._model142.pt  \n",
            "  inflating: fitted 2/reg3/model113.pt  \n",
            "  inflating: __MACOSX/fitted 2/reg3/._model113.pt  \n",
            "  inflating: fitted 2/reg3/model127.pt  \n",
            "  inflating: __MACOSX/fitted 2/reg3/._model127.pt  \n",
            "  inflating: fitted 2/reg3/model107.pt  \n",
            "  inflating: __MACOSX/fitted 2/reg3/._model107.pt  \n",
            "  inflating: fitted 2/reg3/model133.pt  \n",
            "  inflating: __MACOSX/fitted 2/reg3/._model133.pt  \n",
            "  inflating: fitted 2/reg3/model57.pt  \n",
            "  inflating: __MACOSX/fitted 2/reg3/._model57.pt  \n",
            "  inflating: fitted 2/reg3/model90.pt  \n",
            "  inflating: __MACOSX/fitted 2/reg3/._model90.pt  \n",
            "  inflating: fitted 2/reg3/model63.pt  \n",
            "  inflating: __MACOSX/fitted 2/reg3/._model63.pt  \n",
            "  inflating: fitted 2/reg3/model32.pt  \n",
            "  inflating: __MACOSX/fitted 2/reg3/._model32.pt  \n",
            "  inflating: fitted 2/reg3/model22.pt  \n",
            "  inflating: __MACOSX/fitted 2/reg3/._model22.pt  \n",
            "  inflating: fitted 2/reg3/model9.pt  \n",
            "  inflating: __MACOSX/fitted 2/reg3/._model9.pt  \n",
            "  inflating: fitted 2/reg3/model73.pt  \n",
            "  inflating: __MACOSX/fitted 2/reg3/._model73.pt  \n",
            "  inflating: fitted 2/reg3/model80.pt  \n",
            "  inflating: __MACOSX/fitted 2/reg3/._model80.pt  \n",
            "  inflating: fitted 2/reg3/model47.pt  \n",
            "  inflating: __MACOSX/fitted 2/reg3/._model47.pt  \n",
            "  inflating: fitted 2/reg3/model16.pt  \n",
            "  inflating: __MACOSX/fitted 2/reg3/._model16.pt  \n",
            "  inflating: fitted 2/reg3/model123.pt  \n",
            "  inflating: __MACOSX/fitted 2/reg3/._model123.pt  \n",
            "  inflating: fitted 2/reg3/model117.pt  \n",
            "  inflating: __MACOSX/fitted 2/reg3/._model117.pt  \n",
            "  inflating: fitted 2/reg3/model146.pt  \n",
            "  inflating: __MACOSX/fitted 2/reg3/._model146.pt  \n",
            "  inflating: fitted 2/reg3/model106.pt  \n",
            "  inflating: __MACOSX/fitted 2/reg3/._model106.pt  \n",
            "  inflating: fitted 2/reg3/model132.pt  \n",
            "  inflating: __MACOSX/fitted 2/reg3/._model132.pt  \n",
            "  inflating: fitted 2/reg3/model56.pt  \n",
            "  inflating: __MACOSX/fitted 2/reg3/._model56.pt  \n",
            "  inflating: fitted 2/reg3/model91.pt  \n",
            "  inflating: __MACOSX/fitted 2/reg3/._model91.pt  \n",
            "  inflating: fitted 2/reg3/model62.pt  \n",
            "  inflating: __MACOSX/fitted 2/reg3/._model62.pt  \n",
            "  inflating: fitted 2/reg3/model33.pt  \n",
            "  inflating: __MACOSX/fitted 2/reg3/._model33.pt  \n",
            "  inflating: fitted 2/reg3/model23.pt  \n",
            "  inflating: __MACOSX/fitted 2/reg3/._model23.pt  \n",
            "  inflating: fitted 2/reg3/model72.pt  \n",
            "  inflating: __MACOSX/fitted 2/reg3/._model72.pt  \n",
            "  inflating: fitted 2/reg3/model8.pt  \n",
            "  inflating: __MACOSX/fitted 2/reg3/._model8.pt  \n",
            "  inflating: fitted 2/reg3/model81.pt  \n",
            "  inflating: __MACOSX/fitted 2/reg3/._model81.pt  \n",
            "  inflating: fitted 2/reg3/model46.pt  \n",
            "  inflating: __MACOSX/fitted 2/reg3/._model46.pt  \n",
            "  inflating: fitted 2/reg3/model17.pt  \n",
            "  inflating: __MACOSX/fitted 2/reg3/._model17.pt  \n",
            "  inflating: fitted 2/reg3/model122.pt  \n",
            "  inflating: __MACOSX/fitted 2/reg3/._model122.pt  \n",
            "  inflating: fitted 2/reg3/model116.pt  \n",
            "  inflating: __MACOSX/fitted 2/reg3/._model116.pt  \n",
            "  inflating: fitted 2/reg3/model147.pt  \n",
            "  inflating: __MACOSX/fitted 2/reg3/._model147.pt  \n",
            "  inflating: fitted 2/reg3/model136.pt  \n",
            "  inflating: __MACOSX/fitted 2/reg3/._model136.pt  \n",
            "  inflating: fitted 2/reg3/model102.pt  \n",
            "  inflating: __MACOSX/fitted 2/reg3/._model102.pt  \n",
            "  inflating: fitted 2/reg3/model153.pt  \n",
            "  inflating: __MACOSX/fitted 2/reg3/._model153.pt  \n",
            "  inflating: fitted 2/reg3/model95.pt  \n",
            "  inflating: __MACOSX/fitted 2/reg3/._model95.pt  \n",
            "  inflating: fitted 2/reg3/model37.pt  \n",
            "  inflating: __MACOSX/fitted 2/reg3/._model37.pt  \n",
            "  inflating: fitted 2/reg3/model66.pt  \n",
            "  inflating: __MACOSX/fitted 2/reg3/._model66.pt  \n",
            "  inflating: fitted 2/reg3/model52.pt  \n",
            "  inflating: __MACOSX/fitted 2/reg3/._model52.pt  \n",
            "  inflating: fitted 2/reg3/model13.pt  \n",
            "  inflating: __MACOSX/fitted 2/reg3/._model13.pt  \n",
            "  inflating: fitted 2/reg3/model42.pt  \n",
            "  inflating: __MACOSX/fitted 2/reg3/._model42.pt  \n",
            "  inflating: fitted 2/reg3/model76.pt  \n",
            "  inflating: __MACOSX/fitted 2/reg3/._model76.pt  \n",
            "  inflating: fitted 2/reg3/model27.pt  \n",
            "  inflating: __MACOSX/fitted 2/reg3/._model27.pt  \n",
            "  inflating: fitted 2/reg3/model85.pt  \n",
            "  inflating: __MACOSX/fitted 2/reg3/._model85.pt  \n",
            "  inflating: fitted 2/reg3/model143.pt  \n",
            "  inflating: __MACOSX/fitted 2/reg3/._model143.pt  \n",
            "  inflating: fitted 2/reg3/model112.pt  \n",
            "  inflating: __MACOSX/fitted 2/reg3/._model112.pt  \n",
            "  inflating: fitted 2/reg3/model126.pt  \n",
            "  inflating: __MACOSX/fitted 2/reg3/._model126.pt  \n",
            "  inflating: fitted 2/reg3/model59.pt  \n",
            "  inflating: __MACOSX/fitted 2/reg3/._model59.pt  \n",
            "  inflating: fitted 2/reg3/models.csv  \n",
            "  inflating: __MACOSX/fitted 2/reg3/._models.csv  \n",
            "  inflating: fitted 2/reg3/model109.pt  \n",
            "  inflating: __MACOSX/fitted 2/reg3/._model109.pt  \n",
            "  inflating: fitted 2/reg3/model148.pt  \n",
            "  inflating: __MACOSX/fitted 2/reg3/._model148.pt  \n",
            "  inflating: fitted 2/reg3/model119.pt  \n",
            "  inflating: __MACOSX/fitted 2/reg3/._model119.pt  \n",
            "  inflating: fitted 2/reg3/model18.pt  \n",
            "  inflating: __MACOSX/fitted 2/reg3/._model18.pt  \n",
            "  inflating: fitted 2/reg3/model49.pt  \n",
            "  inflating: __MACOSX/fitted 2/reg3/._model49.pt  \n",
            "  inflating: fitted 2/reg3/model7.pt  \n",
            "  inflating: __MACOSX/fitted 2/reg3/._model7.pt  \n",
            "  inflating: fitted 2/reg3/model69.pt  \n",
            "  inflating: __MACOSX/fitted 2/reg3/._model69.pt  \n",
            "  inflating: fitted 2/reg3/model38.pt  \n",
            "  inflating: __MACOSX/fitted 2/reg3/._model38.pt  \n",
            "  inflating: fitted 2/reg3/model139.pt  \n",
            "  inflating: __MACOSX/fitted 2/reg3/._model139.pt  \n",
            "  inflating: fitted 2/reg3/model129.pt  \n",
            "  inflating: __MACOSX/fitted 2/reg3/._model129.pt  \n",
            "  inflating: fitted 2/reg3/model28.pt  \n",
            "  inflating: __MACOSX/fitted 2/reg3/._model28.pt  \n",
            "  inflating: fitted 2/reg3/model3.pt  \n",
            "  inflating: __MACOSX/fitted 2/reg3/._model3.pt  \n",
            "  inflating: fitted 2/reg3/model79.pt  \n",
            "  inflating: __MACOSX/fitted 2/reg3/._model79.pt  \n",
            "  inflating: fitted 2/reg3/model68.pt  \n",
            "  inflating: __MACOSX/fitted 2/reg3/._model68.pt  \n",
            "  inflating: fitted 2/reg3/model39.pt  \n",
            "  inflating: __MACOSX/fitted 2/reg3/._model39.pt  \n",
            "  inflating: fitted 2/reg3/model138.pt  \n",
            "  inflating: __MACOSX/fitted 2/reg3/._model138.pt  \n",
            "  inflating: fitted 2/reg3/model128.pt  \n",
            "  inflating: __MACOSX/fitted 2/reg3/._model128.pt  \n",
            "  inflating: fitted 2/reg3/model29.pt  \n",
            "  inflating: __MACOSX/fitted 2/reg3/._model29.pt  \n",
            "  inflating: fitted 2/reg3/model78.pt  \n",
            "  inflating: __MACOSX/fitted 2/reg3/._model78.pt  \n",
            "  inflating: fitted 2/reg3/model2.pt  \n",
            "  inflating: __MACOSX/fitted 2/reg3/._model2.pt  \n",
            "  inflating: fitted 2/reg3/model58.pt  \n",
            "  inflating: __MACOSX/fitted 2/reg3/._model58.pt  \n",
            "  inflating: fitted 2/reg3/model108.pt  \n",
            "  inflating: __MACOSX/fitted 2/reg3/._model108.pt  \n",
            "  inflating: fitted 2/reg3/model149.pt  \n",
            "  inflating: __MACOSX/fitted 2/reg3/._model149.pt  \n",
            "  inflating: fitted 2/reg3/model118.pt  \n",
            "  inflating: __MACOSX/fitted 2/reg3/._model118.pt  \n",
            "  inflating: fitted 2/reg3/model19.pt  \n",
            "  inflating: __MACOSX/fitted 2/reg3/._model19.pt  \n",
            "  inflating: fitted 2/reg3/model48.pt  \n",
            "  inflating: __MACOSX/fitted 2/reg3/._model48.pt  \n",
            "  inflating: fitted 2/reg3/model6.pt  \n",
            "  inflating: __MACOSX/fitted 2/reg3/._model6.pt  \n",
            "  inflating: fitted 2/reg2/model98.pt  \n",
            "  inflating: __MACOSX/fitted 2/reg2/._model98.pt  \n",
            "  inflating: fitted 2/reg2/model1.pt  \n",
            "  inflating: __MACOSX/fitted 2/reg2/._model1.pt  \n",
            "  inflating: fitted 2/reg2/model88.pt  \n",
            "  inflating: __MACOSX/fitted 2/reg2/._model88.pt  \n",
            "  inflating: fitted 2/reg2/model5.pt  \n",
            "  inflating: __MACOSX/fitted 2/reg2/._model5.pt  \n",
            "  inflating: fitted 2/reg2/model4.pt  \n",
            "  inflating: __MACOSX/fitted 2/reg2/._model4.pt  \n",
            "  inflating: fitted 2/reg2/model99.pt  \n",
            "  inflating: __MACOSX/fitted 2/reg2/._model99.pt  \n",
            "  inflating: fitted 2/reg2/model0.pt  \n",
            "  inflating: __MACOSX/fitted 2/reg2/._model0.pt  \n",
            "  inflating: fitted 2/reg2/model89.pt  \n",
            "  inflating: __MACOSX/fitted 2/reg2/._model89.pt  \n",
            "  inflating: fitted 2/reg2/model105.pt  \n",
            "  inflating: __MACOSX/fitted 2/reg2/._model105.pt  \n",
            "  inflating: fitted 2/reg2/model154.pt  \n",
            "  inflating: __MACOSX/fitted 2/reg2/._model154.pt  \n",
            "  inflating: fitted 2/reg2/model131.pt  \n",
            "  inflating: __MACOSX/fitted 2/reg2/._model131.pt  \n",
            "  inflating: fitted 2/reg2/model55.pt  \n",
            "  inflating: __MACOSX/fitted 2/reg2/._model55.pt  \n",
            "  inflating: fitted 2/reg2/model30.pt  \n",
            "  inflating: __MACOSX/fitted 2/reg2/._model30.pt  \n",
            "  inflating: fitted 2/reg2/model61.pt  \n",
            "  inflating: __MACOSX/fitted 2/reg2/._model61.pt  \n",
            "  inflating: fitted 2/reg2/model92.pt  \n",
            "  inflating: __MACOSX/fitted 2/reg2/._model92.pt  \n",
            "  inflating: fitted 2/reg2/model82.pt  \n",
            "  inflating: __MACOSX/fitted 2/reg2/._model82.pt  \n",
            "  inflating: fitted 2/reg2/model71.pt  \n",
            "  inflating: __MACOSX/fitted 2/reg2/._model71.pt  \n",
            "  inflating: fitted 2/reg2/model20.pt  \n",
            "  inflating: __MACOSX/fitted 2/reg2/._model20.pt  \n",
            "  inflating: fitted 2/reg2/model14.pt  \n",
            "  inflating: __MACOSX/fitted 2/reg2/._model14.pt  \n",
            "  inflating: fitted 2/reg2/model45.pt  \n",
            "  inflating: __MACOSX/fitted 2/reg2/._model45.pt  \n",
            "  inflating: fitted 2/reg2/model121.pt  \n",
            "  inflating: __MACOSX/fitted 2/reg2/._model121.pt  \n",
            "  inflating: fitted 2/reg2/model144.pt  \n",
            "  inflating: __MACOSX/fitted 2/reg2/._model144.pt  \n",
            "  inflating: fitted 2/reg2/model115.pt  \n",
            "  inflating: __MACOSX/fitted 2/reg2/._model115.pt  \n",
            "  inflating: fitted 2/reg2/model135.pt  \n",
            "  inflating: __MACOSX/fitted 2/reg2/._model135.pt  \n",
            "  inflating: fitted 2/reg2/model150.pt  \n",
            "  inflating: __MACOSX/fitted 2/reg2/._model150.pt  \n",
            "  inflating: fitted 2/reg2/model101.pt  \n",
            "  inflating: __MACOSX/fitted 2/reg2/._model101.pt  \n",
            "  inflating: fitted 2/reg2/model65.pt  \n",
            "  inflating: __MACOSX/fitted 2/reg2/._model65.pt  \n",
            "  inflating: fitted 2/reg2/model34.pt  \n",
            "  inflating: __MACOSX/fitted 2/reg2/._model34.pt  \n",
            "  inflating: fitted 2/reg2/model96.pt  \n",
            "  inflating: __MACOSX/fitted 2/reg2/._model96.pt  \n",
            "  inflating: fitted 2/reg2/model51.pt  \n",
            "  inflating: __MACOSX/fitted 2/reg2/._model51.pt  \n",
            "  inflating: fitted 2/reg2/model41.pt  \n",
            "  inflating: __MACOSX/fitted 2/reg2/._model41.pt  \n",
            "  inflating: fitted 2/reg2/model10.pt  \n",
            "  inflating: __MACOSX/fitted 2/reg2/._model10.pt  \n",
            "  inflating: fitted 2/reg2/model86.pt  \n",
            "  inflating: __MACOSX/fitted 2/reg2/._model86.pt  \n",
            "  inflating: fitted 2/reg2/model24.pt  \n",
            "  inflating: __MACOSX/fitted 2/reg2/._model24.pt  \n",
            "  inflating: fitted 2/reg2/model75.pt  \n",
            "  inflating: __MACOSX/fitted 2/reg2/._model75.pt  \n",
            "  inflating: fitted 2/reg2/model111.pt  \n",
            "  inflating: __MACOSX/fitted 2/reg2/._model111.pt  \n",
            "  inflating: fitted 2/reg2/model140.pt  \n",
            "  inflating: __MACOSX/fitted 2/reg2/._model140.pt  \n",
            "  inflating: fitted 2/reg2/model125.pt  \n",
            "  inflating: __MACOSX/fitted 2/reg2/._model125.pt  \n",
            "  inflating: fitted 2/reg2/model134.pt  \n",
            "  inflating: __MACOSX/fitted 2/reg2/._model134.pt  \n",
            "  inflating: fitted 2/reg2/model151.pt  \n",
            "  inflating: __MACOSX/fitted 2/reg2/._model151.pt  \n",
            "  inflating: fitted 2/reg2/model100.pt  \n",
            "  inflating: __MACOSX/fitted 2/reg2/._model100.pt  \n",
            "  inflating: fitted 2/reg2/model64.pt  \n",
            "  inflating: __MACOSX/fitted 2/reg2/._model64.pt  \n",
            "  inflating: fitted 2/reg2/model35.pt  \n",
            "  inflating: __MACOSX/fitted 2/reg2/._model35.pt  \n",
            "  inflating: fitted 2/reg2/model97.pt  \n",
            "  inflating: __MACOSX/fitted 2/reg2/._model97.pt  \n",
            "  inflating: fitted 2/reg2/model50.pt  \n",
            "  inflating: __MACOSX/fitted 2/reg2/._model50.pt  \n",
            "  inflating: fitted 2/reg2/model40.pt  \n",
            "  inflating: __MACOSX/fitted 2/reg2/._model40.pt  \n",
            "  inflating: fitted 2/reg2/model11.pt  \n",
            "  inflating: __MACOSX/fitted 2/reg2/._model11.pt  \n",
            "  inflating: fitted 2/reg2/model87.pt  \n",
            "  inflating: __MACOSX/fitted 2/reg2/._model87.pt  \n",
            "  inflating: fitted 2/reg2/model25.pt  \n",
            "  inflating: __MACOSX/fitted 2/reg2/._model25.pt  \n",
            "  inflating: fitted 2/reg2/model74.pt  \n",
            "  inflating: __MACOSX/fitted 2/reg2/._model74.pt  \n",
            "  inflating: fitted 2/reg2/model110.pt  \n",
            "  inflating: __MACOSX/fitted 2/reg2/._model110.pt  \n",
            "  inflating: fitted 2/reg2/model141.pt  \n",
            "  inflating: __MACOSX/fitted 2/reg2/._model141.pt  \n",
            "  inflating: fitted 2/reg2/model124.pt  \n",
            "  inflating: __MACOSX/fitted 2/reg2/._model124.pt  \n",
            "  inflating: fitted 2/reg2/model104.pt  \n",
            "  inflating: __MACOSX/fitted 2/reg2/._model104.pt  \n",
            "  inflating: fitted 2/reg2/model155.pt  \n",
            "  inflating: __MACOSX/fitted 2/reg2/._model155.pt  \n",
            "  inflating: fitted 2/reg2/model130.pt  \n",
            "  inflating: __MACOSX/fitted 2/reg2/._model130.pt  \n",
            "  inflating: fitted 2/reg2/model54.pt  \n",
            "  inflating: __MACOSX/fitted 2/reg2/._model54.pt  \n",
            "  inflating: fitted 2/reg2/model31.pt  \n",
            "  inflating: __MACOSX/fitted 2/reg2/._model31.pt  \n",
            "  inflating: fitted 2/reg2/model60.pt  \n",
            "  inflating: __MACOSX/fitted 2/reg2/._model60.pt  \n",
            "  inflating: fitted 2/reg2/model93.pt  \n",
            "  inflating: __MACOSX/fitted 2/reg2/._model93.pt  \n",
            "  inflating: fitted 2/reg2/model83.pt  \n",
            "  inflating: __MACOSX/fitted 2/reg2/._model83.pt  \n",
            "  inflating: fitted 2/reg2/model70.pt  \n",
            "  inflating: __MACOSX/fitted 2/reg2/._model70.pt  \n",
            "  inflating: fitted 2/reg2/model21.pt  \n",
            "  inflating: __MACOSX/fitted 2/reg2/._model21.pt  \n",
            "  inflating: fitted 2/reg2/model15.pt  \n",
            "  inflating: __MACOSX/fitted 2/reg2/._model15.pt  \n",
            "  inflating: fitted 2/reg2/model44.pt  \n",
            "  inflating: __MACOSX/fitted 2/reg2/._model44.pt  \n",
            "  inflating: fitted 2/reg2/model120.pt  \n",
            "  inflating: __MACOSX/fitted 2/reg2/._model120.pt  \n",
            "  inflating: fitted 2/reg2/model145.pt  \n",
            "  inflating: __MACOSX/fitted 2/reg2/._model145.pt  \n",
            "  inflating: fitted 2/reg2/model114.pt  \n",
            "  inflating: __MACOSX/fitted 2/reg2/._model114.pt  \n",
            "  inflating: fitted 2/reg2/model137.pt  \n",
            "  inflating: __MACOSX/fitted 2/reg2/._model137.pt  \n",
            "  inflating: fitted 2/reg2/model103.pt  \n",
            "  inflating: __MACOSX/fitted 2/reg2/._model103.pt  \n",
            "  inflating: fitted 2/reg2/model152.pt  \n",
            "  inflating: __MACOSX/fitted 2/reg2/._model152.pt  \n",
            "  inflating: fitted 2/reg2/model94.pt  \n",
            "  inflating: __MACOSX/fitted 2/reg2/._model94.pt  \n",
            "  inflating: fitted 2/reg2/model36.pt  \n",
            "  inflating: __MACOSX/fitted 2/reg2/._model36.pt  \n",
            "  inflating: fitted 2/reg2/model67.pt  \n",
            "  inflating: __MACOSX/fitted 2/reg2/._model67.pt  \n",
            "  inflating: fitted 2/reg2/model53.pt  \n",
            "  inflating: __MACOSX/fitted 2/reg2/._model53.pt  \n",
            "  inflating: fitted 2/reg2/model12.pt  \n",
            "  inflating: __MACOSX/fitted 2/reg2/._model12.pt  \n",
            "  inflating: fitted 2/reg2/model43.pt  \n",
            "  inflating: __MACOSX/fitted 2/reg2/._model43.pt  \n",
            "  inflating: fitted 2/reg2/model77.pt  \n",
            "  inflating: __MACOSX/fitted 2/reg2/._model77.pt  \n",
            "  inflating: fitted 2/reg2/model26.pt  \n",
            "  inflating: __MACOSX/fitted 2/reg2/._model26.pt  \n",
            "  inflating: fitted 2/reg2/model84.pt  \n",
            "  inflating: __MACOSX/fitted 2/reg2/._model84.pt  \n",
            "  inflating: fitted 2/reg2/model142.pt  \n",
            "  inflating: __MACOSX/fitted 2/reg2/._model142.pt  \n",
            "  inflating: fitted 2/reg2/model113.pt  \n",
            "  inflating: __MACOSX/fitted 2/reg2/._model113.pt  \n",
            "  inflating: fitted 2/reg2/model127.pt  \n",
            "  inflating: __MACOSX/fitted 2/reg2/._model127.pt  \n",
            "  inflating: fitted 2/reg2/model107.pt  \n",
            "  inflating: __MACOSX/fitted 2/reg2/._model107.pt  \n",
            "  inflating: fitted 2/reg2/model133.pt  \n",
            "  inflating: __MACOSX/fitted 2/reg2/._model133.pt  \n",
            "  inflating: fitted 2/reg2/model57.pt  \n",
            "  inflating: __MACOSX/fitted 2/reg2/._model57.pt  \n",
            "  inflating: fitted 2/reg2/model90.pt  \n",
            "  inflating: __MACOSX/fitted 2/reg2/._model90.pt  \n",
            "  inflating: fitted 2/reg2/model63.pt  \n",
            "  inflating: __MACOSX/fitted 2/reg2/._model63.pt  \n",
            "  inflating: fitted 2/reg2/model32.pt  \n",
            "  inflating: __MACOSX/fitted 2/reg2/._model32.pt  \n",
            "  inflating: fitted 2/reg2/model22.pt  \n",
            "  inflating: __MACOSX/fitted 2/reg2/._model22.pt  \n",
            "  inflating: fitted 2/reg2/model9.pt  \n",
            "  inflating: __MACOSX/fitted 2/reg2/._model9.pt  \n",
            "  inflating: fitted 2/reg2/model73.pt  \n",
            "  inflating: __MACOSX/fitted 2/reg2/._model73.pt  \n",
            "  inflating: fitted 2/reg2/model80.pt  \n",
            "  inflating: __MACOSX/fitted 2/reg2/._model80.pt  \n",
            "  inflating: fitted 2/reg2/model47.pt  \n",
            "  inflating: __MACOSX/fitted 2/reg2/._model47.pt  \n",
            "  inflating: fitted 2/reg2/model16.pt  \n",
            "  inflating: __MACOSX/fitted 2/reg2/._model16.pt  \n",
            "  inflating: fitted 2/reg2/model123.pt  \n",
            "  inflating: __MACOSX/fitted 2/reg2/._model123.pt  \n",
            "  inflating: fitted 2/reg2/model117.pt  \n",
            "  inflating: __MACOSX/fitted 2/reg2/._model117.pt  \n",
            "  inflating: fitted 2/reg2/model146.pt  \n",
            "  inflating: __MACOSX/fitted 2/reg2/._model146.pt  \n",
            "  inflating: fitted 2/reg2/model106.pt  \n",
            "  inflating: __MACOSX/fitted 2/reg2/._model106.pt  \n",
            "  inflating: fitted 2/reg2/model132.pt  \n",
            "  inflating: __MACOSX/fitted 2/reg2/._model132.pt  \n",
            "  inflating: fitted 2/reg2/model56.pt  \n",
            "  inflating: __MACOSX/fitted 2/reg2/._model56.pt  \n",
            "  inflating: fitted 2/reg2/model91.pt  \n",
            "  inflating: __MACOSX/fitted 2/reg2/._model91.pt  \n",
            "  inflating: fitted 2/reg2/model62.pt  \n",
            "  inflating: __MACOSX/fitted 2/reg2/._model62.pt  \n",
            "  inflating: fitted 2/reg2/model33.pt  \n",
            "  inflating: __MACOSX/fitted 2/reg2/._model33.pt  \n",
            "  inflating: fitted 2/reg2/model23.pt  \n",
            "  inflating: __MACOSX/fitted 2/reg2/._model23.pt  \n",
            "  inflating: fitted 2/reg2/model72.pt  \n",
            "  inflating: __MACOSX/fitted 2/reg2/._model72.pt  \n",
            "  inflating: fitted 2/reg2/model8.pt  \n",
            "  inflating: __MACOSX/fitted 2/reg2/._model8.pt  \n",
            "  inflating: fitted 2/reg2/model81.pt  \n",
            "  inflating: __MACOSX/fitted 2/reg2/._model81.pt  \n",
            "  inflating: fitted 2/reg2/model46.pt  \n",
            "  inflating: __MACOSX/fitted 2/reg2/._model46.pt  \n",
            "  inflating: fitted 2/reg2/model17.pt  \n",
            "  inflating: __MACOSX/fitted 2/reg2/._model17.pt  \n",
            "  inflating: fitted 2/reg2/model122.pt  \n",
            "  inflating: __MACOSX/fitted 2/reg2/._model122.pt  \n",
            "  inflating: fitted 2/reg2/model116.pt  \n",
            "  inflating: __MACOSX/fitted 2/reg2/._model116.pt  \n",
            "  inflating: fitted 2/reg2/model147.pt  \n",
            "  inflating: __MACOSX/fitted 2/reg2/._model147.pt  \n",
            "  inflating: fitted 2/reg2/model136.pt  \n",
            "  inflating: __MACOSX/fitted 2/reg2/._model136.pt  \n",
            "  inflating: fitted 2/reg2/model102.pt  \n",
            "  inflating: __MACOSX/fitted 2/reg2/._model102.pt  \n",
            "  inflating: fitted 2/reg2/model153.pt  \n",
            "  inflating: __MACOSX/fitted 2/reg2/._model153.pt  \n",
            "  inflating: fitted 2/reg2/model95.pt  \n",
            "  inflating: __MACOSX/fitted 2/reg2/._model95.pt  \n",
            "  inflating: fitted 2/reg2/model37.pt  \n",
            "  inflating: __MACOSX/fitted 2/reg2/._model37.pt  \n",
            "  inflating: fitted 2/reg2/model66.pt  \n",
            "  inflating: __MACOSX/fitted 2/reg2/._model66.pt  \n",
            "  inflating: fitted 2/reg2/model52.pt  \n",
            "  inflating: __MACOSX/fitted 2/reg2/._model52.pt  \n",
            "  inflating: fitted 2/reg2/model13.pt  \n",
            "  inflating: __MACOSX/fitted 2/reg2/._model13.pt  \n",
            "  inflating: fitted 2/reg2/model42.pt  \n",
            "  inflating: __MACOSX/fitted 2/reg2/._model42.pt  \n",
            "  inflating: fitted 2/reg2/model76.pt  \n",
            "  inflating: __MACOSX/fitted 2/reg2/._model76.pt  \n",
            "  inflating: fitted 2/reg2/model27.pt  \n",
            "  inflating: __MACOSX/fitted 2/reg2/._model27.pt  \n",
            "  inflating: fitted 2/reg2/model85.pt  \n",
            "  inflating: __MACOSX/fitted 2/reg2/._model85.pt  \n",
            "  inflating: fitted 2/reg2/model143.pt  \n",
            "  inflating: __MACOSX/fitted 2/reg2/._model143.pt  \n",
            "  inflating: fitted 2/reg2/model112.pt  \n",
            "  inflating: __MACOSX/fitted 2/reg2/._model112.pt  \n",
            "  inflating: fitted 2/reg2/model126.pt  \n",
            "  inflating: __MACOSX/fitted 2/reg2/._model126.pt  \n",
            "  inflating: fitted 2/reg2/model59.pt  \n",
            "  inflating: __MACOSX/fitted 2/reg2/._model59.pt  \n",
            "  inflating: fitted 2/reg2/models.csv  \n",
            "  inflating: __MACOSX/fitted 2/reg2/._models.csv  \n",
            "  inflating: fitted 2/reg2/model109.pt  \n",
            "  inflating: __MACOSX/fitted 2/reg2/._model109.pt  \n",
            "  inflating: fitted 2/reg2/model148.pt  \n",
            "  inflating: __MACOSX/fitted 2/reg2/._model148.pt  \n",
            "  inflating: fitted 2/reg2/model119.pt  \n",
            "  inflating: __MACOSX/fitted 2/reg2/._model119.pt  \n",
            "  inflating: fitted 2/reg2/model18.pt  \n",
            "  inflating: __MACOSX/fitted 2/reg2/._model18.pt  \n",
            "  inflating: fitted 2/reg2/model49.pt  \n",
            "  inflating: __MACOSX/fitted 2/reg2/._model49.pt  \n",
            "  inflating: fitted 2/reg2/model7.pt  \n",
            "  inflating: __MACOSX/fitted 2/reg2/._model7.pt  \n",
            "  inflating: fitted 2/reg2/model69.pt  \n",
            "  inflating: __MACOSX/fitted 2/reg2/._model69.pt  \n",
            "  inflating: fitted 2/reg2/model38.pt  \n",
            "  inflating: __MACOSX/fitted 2/reg2/._model38.pt  \n",
            "  inflating: fitted 2/reg2/model139.pt  \n",
            "  inflating: __MACOSX/fitted 2/reg2/._model139.pt  \n",
            "  inflating: fitted 2/reg2/model129.pt  \n",
            "  inflating: __MACOSX/fitted 2/reg2/._model129.pt  \n",
            "  inflating: fitted 2/reg2/model28.pt  \n",
            "  inflating: __MACOSX/fitted 2/reg2/._model28.pt  \n",
            "  inflating: fitted 2/reg2/model3.pt  \n",
            "  inflating: __MACOSX/fitted 2/reg2/._model3.pt  \n",
            "  inflating: fitted 2/reg2/model79.pt  \n",
            "  inflating: __MACOSX/fitted 2/reg2/._model79.pt  \n",
            "  inflating: fitted 2/reg2/model68.pt  \n",
            "  inflating: __MACOSX/fitted 2/reg2/._model68.pt  \n",
            "  inflating: fitted 2/reg2/model39.pt  \n",
            "  inflating: __MACOSX/fitted 2/reg2/._model39.pt  \n",
            "  inflating: fitted 2/reg2/model138.pt  \n",
            "  inflating: __MACOSX/fitted 2/reg2/._model138.pt  \n",
            "  inflating: fitted 2/reg2/model128.pt  \n",
            "  inflating: __MACOSX/fitted 2/reg2/._model128.pt  \n",
            "  inflating: fitted 2/reg2/model29.pt  \n",
            "  inflating: __MACOSX/fitted 2/reg2/._model29.pt  \n",
            "  inflating: fitted 2/reg2/model78.pt  \n",
            "  inflating: __MACOSX/fitted 2/reg2/._model78.pt  \n",
            "  inflating: fitted 2/reg2/model2.pt  \n",
            "  inflating: __MACOSX/fitted 2/reg2/._model2.pt  \n",
            "  inflating: fitted 2/reg2/model58.pt  \n",
            "  inflating: __MACOSX/fitted 2/reg2/._model58.pt  \n",
            "  inflating: fitted 2/reg2/model108.pt  \n",
            "  inflating: __MACOSX/fitted 2/reg2/._model108.pt  \n",
            "  inflating: fitted 2/reg2/model149.pt  \n",
            "  inflating: __MACOSX/fitted 2/reg2/._model149.pt  \n",
            "  inflating: fitted 2/reg2/model118.pt  \n",
            "  inflating: __MACOSX/fitted 2/reg2/._model118.pt  \n",
            "  inflating: fitted 2/reg2/model19.pt  \n",
            "  inflating: __MACOSX/fitted 2/reg2/._model19.pt  \n",
            "  inflating: fitted 2/reg2/model48.pt  \n",
            "  inflating: __MACOSX/fitted 2/reg2/._model48.pt  \n",
            "  inflating: fitted 2/reg2/model6.pt  \n",
            "  inflating: __MACOSX/fitted 2/reg2/._model6.pt  \n",
            "  inflating: fitted 2/base_models/model98.pt  \n",
            "  inflating: __MACOSX/fitted 2/base_models/._model98.pt  \n",
            "  inflating: fitted 2/base_models/model1.pt  \n",
            "  inflating: __MACOSX/fitted 2/base_models/._model1.pt  \n",
            "  inflating: fitted 2/base_models/model88.pt  \n",
            "  inflating: __MACOSX/fitted 2/base_models/._model88.pt  \n",
            "  inflating: fitted 2/base_models/model5.pt  \n",
            "  inflating: __MACOSX/fitted 2/base_models/._model5.pt  \n",
            "  inflating: fitted 2/base_models/model4.pt  \n",
            "  inflating: __MACOSX/fitted 2/base_models/._model4.pt  \n",
            "  inflating: fitted 2/base_models/model99.pt  \n",
            "  inflating: __MACOSX/fitted 2/base_models/._model99.pt  \n",
            "  inflating: fitted 2/base_models/model0.pt  \n",
            "  inflating: __MACOSX/fitted 2/base_models/._model0.pt  \n",
            "  inflating: fitted 2/base_models/model89.pt  \n",
            "  inflating: __MACOSX/fitted 2/base_models/._model89.pt  \n",
            "  inflating: fitted 2/base_models/model105.pt  \n",
            "  inflating: __MACOSX/fitted 2/base_models/._model105.pt  \n",
            "  inflating: fitted 2/base_models/model154.pt  \n",
            "  inflating: __MACOSX/fitted 2/base_models/._model154.pt  \n",
            "  inflating: fitted 2/base_models/model131.pt  \n",
            "  inflating: __MACOSX/fitted 2/base_models/._model131.pt  \n",
            "  inflating: fitted 2/base_models/model55.pt  \n",
            "  inflating: __MACOSX/fitted 2/base_models/._model55.pt  \n",
            "  inflating: fitted 2/base_models/model30.pt  \n",
            "  inflating: __MACOSX/fitted 2/base_models/._model30.pt  \n",
            "  inflating: fitted 2/base_models/model61.pt  \n",
            "  inflating: __MACOSX/fitted 2/base_models/._model61.pt  \n",
            "  inflating: fitted 2/base_models/model92.pt  \n",
            "  inflating: __MACOSX/fitted 2/base_models/._model92.pt  \n",
            "  inflating: fitted 2/base_models/model82.pt  \n",
            "  inflating: __MACOSX/fitted 2/base_models/._model82.pt  \n",
            "  inflating: fitted 2/base_models/model71.pt  \n",
            "  inflating: __MACOSX/fitted 2/base_models/._model71.pt  \n",
            "  inflating: fitted 2/base_models/model20.pt  \n",
            "  inflating: __MACOSX/fitted 2/base_models/._model20.pt  \n",
            "  inflating: fitted 2/base_models/model14.pt  \n",
            "  inflating: __MACOSX/fitted 2/base_models/._model14.pt  \n",
            "  inflating: fitted 2/base_models/model45.pt  \n",
            "  inflating: __MACOSX/fitted 2/base_models/._model45.pt  \n",
            "  inflating: fitted 2/base_models/model121.pt  \n",
            "  inflating: __MACOSX/fitted 2/base_models/._model121.pt  \n",
            "  inflating: fitted 2/base_models/model144.pt  \n",
            "  inflating: __MACOSX/fitted 2/base_models/._model144.pt  \n",
            "  inflating: fitted 2/base_models/model115.pt  \n",
            "  inflating: __MACOSX/fitted 2/base_models/._model115.pt  \n",
            "  inflating: fitted 2/base_models/model135.pt  \n",
            "  inflating: __MACOSX/fitted 2/base_models/._model135.pt  \n",
            "  inflating: fitted 2/base_models/model150.pt  \n",
            "  inflating: __MACOSX/fitted 2/base_models/._model150.pt  \n",
            "  inflating: fitted 2/base_models/model101.pt  \n",
            "  inflating: __MACOSX/fitted 2/base_models/._model101.pt  \n",
            "  inflating: fitted 2/base_models/model65.pt  \n",
            "  inflating: __MACOSX/fitted 2/base_models/._model65.pt  \n",
            "  inflating: fitted 2/base_models/model34.pt  \n",
            "  inflating: __MACOSX/fitted 2/base_models/._model34.pt  \n",
            "  inflating: fitted 2/base_models/model96.pt  \n",
            "  inflating: __MACOSX/fitted 2/base_models/._model96.pt  \n",
            "  inflating: fitted 2/base_models/model51.pt  \n",
            "  inflating: __MACOSX/fitted 2/base_models/._model51.pt  \n",
            "  inflating: fitted 2/base_models/model41.pt  \n",
            "  inflating: __MACOSX/fitted 2/base_models/._model41.pt  \n",
            "  inflating: fitted 2/base_models/model10.pt  \n",
            "  inflating: __MACOSX/fitted 2/base_models/._model10.pt  \n",
            "  inflating: fitted 2/base_models/model86.pt  \n",
            "  inflating: __MACOSX/fitted 2/base_models/._model86.pt  \n",
            "  inflating: fitted 2/base_models/model24.pt  \n",
            "  inflating: __MACOSX/fitted 2/base_models/._model24.pt  \n",
            "  inflating: fitted 2/base_models/model75.pt  \n",
            "  inflating: __MACOSX/fitted 2/base_models/._model75.pt  \n",
            "  inflating: fitted 2/base_models/model111.pt  \n",
            "  inflating: __MACOSX/fitted 2/base_models/._model111.pt  \n",
            "  inflating: fitted 2/base_models/model140.pt  \n",
            "  inflating: __MACOSX/fitted 2/base_models/._model140.pt  \n",
            "  inflating: fitted 2/base_models/model125.pt  \n",
            "  inflating: __MACOSX/fitted 2/base_models/._model125.pt  \n",
            "  inflating: fitted 2/base_models/model134.pt  \n",
            "  inflating: __MACOSX/fitted 2/base_models/._model134.pt  \n",
            "  inflating: fitted 2/base_models/model151.pt  \n",
            "  inflating: __MACOSX/fitted 2/base_models/._model151.pt  \n",
            "  inflating: fitted 2/base_models/model100.pt  \n",
            "  inflating: __MACOSX/fitted 2/base_models/._model100.pt  \n",
            "  inflating: fitted 2/base_models/model64.pt  \n",
            "  inflating: __MACOSX/fitted 2/base_models/._model64.pt  \n",
            "  inflating: fitted 2/base_models/model35.pt  \n",
            "  inflating: __MACOSX/fitted 2/base_models/._model35.pt  \n",
            "  inflating: fitted 2/base_models/model97.pt  \n",
            "  inflating: __MACOSX/fitted 2/base_models/._model97.pt  \n",
            "  inflating: fitted 2/base_models/model50.pt  \n",
            "  inflating: __MACOSX/fitted 2/base_models/._model50.pt  \n",
            "  inflating: fitted 2/base_models/model40.pt  \n",
            "  inflating: __MACOSX/fitted 2/base_models/._model40.pt  \n",
            "  inflating: fitted 2/base_models/model11.pt  \n",
            "  inflating: __MACOSX/fitted 2/base_models/._model11.pt  \n",
            "  inflating: fitted 2/base_models/model87.pt  \n",
            "  inflating: __MACOSX/fitted 2/base_models/._model87.pt  \n",
            "  inflating: fitted 2/base_models/model25.pt  \n",
            "  inflating: __MACOSX/fitted 2/base_models/._model25.pt  \n",
            "  inflating: fitted 2/base_models/model74.pt  \n",
            "  inflating: __MACOSX/fitted 2/base_models/._model74.pt  \n",
            "  inflating: fitted 2/base_models/model110.pt  \n",
            "  inflating: __MACOSX/fitted 2/base_models/._model110.pt  \n",
            "  inflating: fitted 2/base_models/model141.pt  \n",
            "  inflating: __MACOSX/fitted 2/base_models/._model141.pt  \n",
            "  inflating: fitted 2/base_models/model124.pt  \n",
            "  inflating: __MACOSX/fitted 2/base_models/._model124.pt  \n",
            "  inflating: fitted 2/base_models/model104.pt  \n",
            "  inflating: __MACOSX/fitted 2/base_models/._model104.pt  \n",
            "  inflating: fitted 2/base_models/model155.pt  \n",
            "  inflating: __MACOSX/fitted 2/base_models/._model155.pt  \n",
            "  inflating: fitted 2/base_models/model130.pt  \n",
            "  inflating: __MACOSX/fitted 2/base_models/._model130.pt  \n",
            "  inflating: fitted 2/base_models/model54.pt  \n",
            "  inflating: __MACOSX/fitted 2/base_models/._model54.pt  \n",
            "  inflating: fitted 2/base_models/model31.pt  \n",
            "  inflating: __MACOSX/fitted 2/base_models/._model31.pt  \n",
            "  inflating: fitted 2/base_models/model60.pt  \n",
            "  inflating: __MACOSX/fitted 2/base_models/._model60.pt  \n",
            "  inflating: fitted 2/base_models/model93.pt  \n",
            "  inflating: __MACOSX/fitted 2/base_models/._model93.pt  \n",
            "  inflating: fitted 2/base_models/model83.pt  \n",
            "  inflating: __MACOSX/fitted 2/base_models/._model83.pt  \n",
            "  inflating: fitted 2/base_models/model70.pt  \n",
            "  inflating: __MACOSX/fitted 2/base_models/._model70.pt  \n",
            "  inflating: fitted 2/base_models/model21.pt  \n",
            "  inflating: __MACOSX/fitted 2/base_models/._model21.pt  \n",
            "  inflating: fitted 2/base_models/model15.pt  \n",
            "  inflating: __MACOSX/fitted 2/base_models/._model15.pt  \n",
            "  inflating: fitted 2/base_models/model44.pt  \n",
            "  inflating: __MACOSX/fitted 2/base_models/._model44.pt  \n",
            "  inflating: fitted 2/base_models/model120.pt  \n",
            "  inflating: __MACOSX/fitted 2/base_models/._model120.pt  \n",
            "  inflating: fitted 2/base_models/model145.pt  \n",
            "  inflating: __MACOSX/fitted 2/base_models/._model145.pt  \n",
            "  inflating: fitted 2/base_models/model114.pt  \n",
            "  inflating: __MACOSX/fitted 2/base_models/._model114.pt  \n",
            "  inflating: fitted 2/base_models/model137.pt  \n",
            "  inflating: __MACOSX/fitted 2/base_models/._model137.pt  \n",
            "  inflating: fitted 2/base_models/model103.pt  \n",
            "  inflating: __MACOSX/fitted 2/base_models/._model103.pt  \n",
            "  inflating: fitted 2/base_models/model152.pt  \n",
            "  inflating: __MACOSX/fitted 2/base_models/._model152.pt  \n",
            "  inflating: fitted 2/base_models/model94.pt  \n",
            "  inflating: __MACOSX/fitted 2/base_models/._model94.pt  \n",
            "  inflating: fitted 2/base_models/model36.pt  \n",
            "  inflating: __MACOSX/fitted 2/base_models/._model36.pt  \n",
            "  inflating: fitted 2/base_models/model67.pt  \n",
            "  inflating: __MACOSX/fitted 2/base_models/._model67.pt  \n",
            "  inflating: fitted 2/base_models/model53.pt  \n",
            "  inflating: __MACOSX/fitted 2/base_models/._model53.pt  \n",
            "  inflating: fitted 2/base_models/model12.pt  \n",
            "  inflating: __MACOSX/fitted 2/base_models/._model12.pt  \n",
            "  inflating: fitted 2/base_models/model43.pt  \n",
            "  inflating: __MACOSX/fitted 2/base_models/._model43.pt  \n",
            "  inflating: fitted 2/base_models/model77.pt  \n",
            "  inflating: __MACOSX/fitted 2/base_models/._model77.pt  \n",
            "  inflating: fitted 2/base_models/model26.pt  \n",
            "  inflating: __MACOSX/fitted 2/base_models/._model26.pt  \n",
            "  inflating: fitted 2/base_models/model84.pt  \n",
            "  inflating: __MACOSX/fitted 2/base_models/._model84.pt  \n",
            "  inflating: fitted 2/base_models/model142.pt  \n",
            "  inflating: __MACOSX/fitted 2/base_models/._model142.pt  \n",
            "  inflating: fitted 2/base_models/model113.pt  \n",
            "  inflating: __MACOSX/fitted 2/base_models/._model113.pt  \n",
            "  inflating: fitted 2/base_models/model127.pt  \n",
            "  inflating: __MACOSX/fitted 2/base_models/._model127.pt  \n",
            "  inflating: fitted 2/base_models/model107.pt  \n",
            "  inflating: __MACOSX/fitted 2/base_models/._model107.pt  \n",
            "  inflating: fitted 2/base_models/model133.pt  \n",
            "  inflating: __MACOSX/fitted 2/base_models/._model133.pt  \n",
            "  inflating: fitted 2/base_models/model57.pt  \n",
            "  inflating: __MACOSX/fitted 2/base_models/._model57.pt  \n",
            "  inflating: fitted 2/base_models/model90.pt  \n",
            "  inflating: __MACOSX/fitted 2/base_models/._model90.pt  \n",
            "  inflating: fitted 2/base_models/model63.pt  \n",
            "  inflating: __MACOSX/fitted 2/base_models/._model63.pt  \n",
            "  inflating: fitted 2/base_models/model32.pt  \n",
            "  inflating: __MACOSX/fitted 2/base_models/._model32.pt  \n",
            "  inflating: fitted 2/base_models/model22.pt  \n",
            "  inflating: __MACOSX/fitted 2/base_models/._model22.pt  \n",
            "  inflating: fitted 2/base_models/model9.pt  \n",
            "  inflating: __MACOSX/fitted 2/base_models/._model9.pt  \n",
            "  inflating: fitted 2/base_models/model73.pt  \n",
            "  inflating: __MACOSX/fitted 2/base_models/._model73.pt  \n",
            "  inflating: fitted 2/base_models/model80.pt  \n",
            "  inflating: __MACOSX/fitted 2/base_models/._model80.pt  \n",
            "  inflating: fitted 2/base_models/model47.pt  \n",
            "  inflating: __MACOSX/fitted 2/base_models/._model47.pt  \n",
            "  inflating: fitted 2/base_models/model16.pt  \n",
            "  inflating: __MACOSX/fitted 2/base_models/._model16.pt  \n",
            "  inflating: fitted 2/base_models/model123.pt  \n",
            "  inflating: __MACOSX/fitted 2/base_models/._model123.pt  \n",
            "  inflating: fitted 2/base_models/model117.pt  \n",
            "  inflating: __MACOSX/fitted 2/base_models/._model117.pt  \n",
            "  inflating: fitted 2/base_models/model146.pt  \n",
            "  inflating: __MACOSX/fitted 2/base_models/._model146.pt  \n",
            "  inflating: fitted 2/base_models/model106.pt  \n",
            "  inflating: __MACOSX/fitted 2/base_models/._model106.pt  \n",
            "  inflating: fitted 2/base_models/model132.pt  \n",
            "  inflating: __MACOSX/fitted 2/base_models/._model132.pt  \n",
            "  inflating: fitted 2/base_models/model56.pt  \n",
            "  inflating: __MACOSX/fitted 2/base_models/._model56.pt  \n",
            "  inflating: fitted 2/base_models/model91.pt  \n",
            "  inflating: __MACOSX/fitted 2/base_models/._model91.pt  \n",
            "  inflating: fitted 2/base_models/model62.pt  \n",
            "  inflating: __MACOSX/fitted 2/base_models/._model62.pt  \n",
            "  inflating: fitted 2/base_models/model33.pt  \n",
            "  inflating: __MACOSX/fitted 2/base_models/._model33.pt  \n",
            "  inflating: fitted 2/base_models/model23.pt  \n",
            "  inflating: __MACOSX/fitted 2/base_models/._model23.pt  \n",
            "  inflating: fitted 2/base_models/model72.pt  \n",
            "  inflating: __MACOSX/fitted 2/base_models/._model72.pt  \n",
            "  inflating: fitted 2/base_models/model8.pt  \n",
            "  inflating: __MACOSX/fitted 2/base_models/._model8.pt  \n",
            "  inflating: fitted 2/base_models/model81.pt  \n",
            "  inflating: __MACOSX/fitted 2/base_models/._model81.pt  \n",
            "  inflating: fitted 2/base_models/model46.pt  \n",
            "  inflating: __MACOSX/fitted 2/base_models/._model46.pt  \n",
            "  inflating: fitted 2/base_models/model17.pt  \n",
            "  inflating: __MACOSX/fitted 2/base_models/._model17.pt  \n",
            "  inflating: fitted 2/base_models/model122.pt  \n",
            "  inflating: __MACOSX/fitted 2/base_models/._model122.pt  \n",
            "  inflating: fitted 2/base_models/model116.pt  \n",
            "  inflating: __MACOSX/fitted 2/base_models/._model116.pt  \n",
            "  inflating: fitted 2/base_models/model147.pt  \n",
            "  inflating: __MACOSX/fitted 2/base_models/._model147.pt  \n",
            "  inflating: fitted 2/base_models/model136.pt  \n",
            "  inflating: __MACOSX/fitted 2/base_models/._model136.pt  \n",
            "  inflating: fitted 2/base_models/model102.pt  \n",
            "  inflating: __MACOSX/fitted 2/base_models/._model102.pt  \n",
            "  inflating: fitted 2/base_models/model153.pt  \n",
            "  inflating: __MACOSX/fitted 2/base_models/._model153.pt  \n",
            "  inflating: fitted 2/base_models/model95.pt  \n",
            "  inflating: __MACOSX/fitted 2/base_models/._model95.pt  \n",
            "  inflating: fitted 2/base_models/model37.pt  \n",
            "  inflating: __MACOSX/fitted 2/base_models/._model37.pt  \n",
            "  inflating: fitted 2/base_models/model66.pt  \n",
            "  inflating: __MACOSX/fitted 2/base_models/._model66.pt  \n",
            "  inflating: fitted 2/base_models/model52.pt  \n",
            "  inflating: __MACOSX/fitted 2/base_models/._model52.pt  \n",
            "  inflating: fitted 2/base_models/model13.pt  \n",
            "  inflating: __MACOSX/fitted 2/base_models/._model13.pt  \n",
            "  inflating: fitted 2/base_models/model42.pt  \n",
            "  inflating: __MACOSX/fitted 2/base_models/._model42.pt  \n",
            "  inflating: fitted 2/base_models/model76.pt  \n",
            "  inflating: __MACOSX/fitted 2/base_models/._model76.pt  \n",
            "  inflating: fitted 2/base_models/model27.pt  \n",
            "  inflating: __MACOSX/fitted 2/base_models/._model27.pt  \n",
            "  inflating: fitted 2/base_models/model85.pt  \n",
            "  inflating: __MACOSX/fitted 2/base_models/._model85.pt  \n",
            "  inflating: fitted 2/base_models/model143.pt  \n",
            "  inflating: __MACOSX/fitted 2/base_models/._model143.pt  \n",
            "  inflating: fitted 2/base_models/model112.pt  \n",
            "  inflating: __MACOSX/fitted 2/base_models/._model112.pt  \n",
            "  inflating: fitted 2/base_models/model126.pt  \n",
            "  inflating: __MACOSX/fitted 2/base_models/._model126.pt  \n",
            "  inflating: fitted 2/base_models/model59.pt  \n",
            "  inflating: __MACOSX/fitted 2/base_models/._model59.pt  \n",
            "  inflating: fitted 2/base_models/models.csv  \n",
            "  inflating: __MACOSX/fitted 2/base_models/._models.csv  \n",
            "  inflating: fitted 2/base_models/model109.pt  \n",
            "  inflating: __MACOSX/fitted 2/base_models/._model109.pt  \n",
            "  inflating: fitted 2/base_models/model148.pt  \n",
            "  inflating: __MACOSX/fitted 2/base_models/._model148.pt  \n",
            "  inflating: fitted 2/base_models/model119.pt  \n",
            "  inflating: __MACOSX/fitted 2/base_models/._model119.pt  \n",
            "  inflating: fitted 2/base_models/model18.pt  \n",
            "  inflating: __MACOSX/fitted 2/base_models/._model18.pt  \n",
            "  inflating: fitted 2/base_models/model49.pt  \n",
            "  inflating: __MACOSX/fitted 2/base_models/._model49.pt  \n",
            "  inflating: fitted 2/base_models/model7.pt  \n",
            "  inflating: __MACOSX/fitted 2/base_models/._model7.pt  \n",
            "  inflating: fitted 2/base_models/model69.pt  \n",
            "  inflating: __MACOSX/fitted 2/base_models/._model69.pt  \n",
            "  inflating: fitted 2/base_models/model38.pt  \n",
            "  inflating: __MACOSX/fitted 2/base_models/._model38.pt  \n",
            "  inflating: fitted 2/base_models/model139.pt  \n",
            "  inflating: __MACOSX/fitted 2/base_models/._model139.pt  \n",
            "  inflating: fitted 2/base_models/model129.pt  \n",
            "  inflating: __MACOSX/fitted 2/base_models/._model129.pt  \n",
            "  inflating: fitted 2/base_models/model28.pt  \n",
            "  inflating: __MACOSX/fitted 2/base_models/._model28.pt  \n",
            "  inflating: fitted 2/base_models/model3.pt  \n",
            "  inflating: __MACOSX/fitted 2/base_models/._model3.pt  \n",
            "  inflating: fitted 2/base_models/model79.pt  \n",
            "  inflating: __MACOSX/fitted 2/base_models/._model79.pt  \n",
            "  inflating: fitted 2/base_models/model68.pt  \n",
            "  inflating: __MACOSX/fitted 2/base_models/._model68.pt  \n",
            "  inflating: fitted 2/base_models/model39.pt  \n",
            "  inflating: __MACOSX/fitted 2/base_models/._model39.pt  \n",
            "  inflating: fitted 2/base_models/model138.pt  \n",
            "  inflating: __MACOSX/fitted 2/base_models/._model138.pt  \n",
            "  inflating: fitted 2/base_models/model128.pt  \n",
            "  inflating: __MACOSX/fitted 2/base_models/._model128.pt  \n",
            "  inflating: fitted 2/base_models/model29.pt  \n",
            "  inflating: __MACOSX/fitted 2/base_models/._model29.pt  \n",
            "  inflating: fitted 2/base_models/model78.pt  \n",
            "  inflating: __MACOSX/fitted 2/base_models/._model78.pt  \n",
            "  inflating: fitted 2/base_models/model2.pt  \n",
            "  inflating: __MACOSX/fitted 2/base_models/._model2.pt  \n",
            "  inflating: fitted 2/base_models/model58.pt  \n",
            "  inflating: __MACOSX/fitted 2/base_models/._model58.pt  \n",
            "  inflating: fitted 2/base_models/model108.pt  \n",
            "  inflating: __MACOSX/fitted 2/base_models/._model108.pt  \n",
            "  inflating: fitted 2/base_models/model149.pt  \n",
            "  inflating: __MACOSX/fitted 2/base_models/._model149.pt  \n",
            "  inflating: fitted 2/base_models/model118.pt  \n",
            "  inflating: __MACOSX/fitted 2/base_models/._model118.pt  \n",
            "  inflating: fitted 2/base_models/model19.pt  \n",
            "  inflating: __MACOSX/fitted 2/base_models/._model19.pt  \n",
            "  inflating: fitted 2/base_models/model48.pt  \n",
            "  inflating: __MACOSX/fitted 2/base_models/._model48.pt  \n",
            "  inflating: fitted 2/base_models/model6.pt  \n",
            "  inflating: __MACOSX/fitted 2/base_models/._model6.pt  \n"
          ]
        }
      ],
      "source": [
        "# regressions\n",
        "!wget -O random_regressions.csv https://www.dropbox.com/scl/fi/vka3aonbo9qlsh0mhtlvw/random_regressions.csv?rlkey=6ey79ntvfkb056kplnbmc5d6z&st=6fepsd26&dl=0\n",
        "\n",
        "# fitted nets\n",
        "!gdown 1w3qFkPECtwFnlaP-OPgM2NEn8mQENj0W\n",
        "!yes | unzip \"fitted 2.zip\"\n",
        "# !wget -O dataset.zip https://www.dropbox.com/scl/fo/17c1dgkhl1aqoxewqgzki/AAyM7JM9QxznSQbPlof4JOE?rlkey=rvwdpkn28uqxtku2cifi112d6&st=2sd8h56b&dl=0\n",
        "# !yes | unzip \"dataset.zip\""
      ]
    },
    {
      "cell_type": "code",
      "execution_count": null,
      "metadata": {
        "id": "Vso-FMBD3H3G"
      },
      "outputs": [],
      "source": [
        "from random import randint, choice, random\n",
        "\n",
        "act = {\n",
        "    \"ReLU\": {\n",
        "        \"layer\": nn.ReLU,\n",
        "        \"args\": {},\n",
        "    },\n",
        "    \"Tanh\": {\n",
        "        \"layer\": nn.Tanh,\n",
        "        \"args\": {},\n",
        "    },\n",
        "    \"Sigmoid\": {\n",
        "        \"layer\": nn.Sigmoid,\n",
        "        \"args\": {},\n",
        "    },\n",
        "}\n",
        "\n",
        "class Net(nn.Module):\n",
        "    def __init__(self, input_size, output_size):\n",
        "        super(Net, self).__init__()\n",
        "\n",
        "        self.layers = nn.Sequential()\n",
        "        self.current_size = input_size\n",
        "\n",
        "        self.count_layers = randint(1, 3)\n",
        "\n",
        "        for i in range(self.count_layers):\n",
        "            self.layers.append(self.make_linear())\n",
        "            # if random() < .2: self.layers.append(self.make_normalization_layer())\n",
        "            self.layers.append(self.make_activation_layer())\n",
        "\n",
        "        self.layers.append(self.make_linear(output_size))\n",
        "\n",
        "    def forward(self, x):\n",
        "        return self.layers(x)\n",
        "\n",
        "    def make_linear(self, output_size=None) -> nn.Linear:\n",
        "        input_size = self.current_size\n",
        "\n",
        "        if output_size is None:\n",
        "            output_size = randint(4, 8)\n",
        "\n",
        "        self.current_size = output_size\n",
        "\n",
        "        return nn.Linear(in_features=input_size,\n",
        "                         out_features=output_size,\n",
        "                         bias=choice([True, False]))\n",
        "\n",
        "    def make_activation_layer(self) -> nn.Module:\n",
        "        layer_info = choice(list(act.values()))\n",
        "\n",
        "        args = layer_info[\"args\"]\n",
        "        eval_args = {}\n",
        "        for key, value in args.items():\n",
        "            eval_args[key] = value() if callable(value) else value\n",
        "\n",
        "        return layer_info[\"layer\"](**eval_args)\n",
        "\n",
        "    def make_normalization_layer(self) -> nn.Module:\n",
        "        return choice([\n",
        "            nn.BatchNorm1d(self.current_size),\n",
        "            nn.LayerNorm(self.current_size),\n",
        "        ])"
      ]
    },
    {
      "cell_type": "code",
      "execution_count": null,
      "metadata": {
        "id": "bVF8wcYzClo4"
      },
      "outputs": [],
      "source": [
        "act_map = {nn.ReLU: 2,\n",
        "           nn.Tanh: 3,\n",
        "           nn.Sigmoid: 1}\n",
        "\n",
        "def matrix_converter(net):\n",
        "\n",
        "    matrix = torch.zeros(64, 64) + torch.full((64, 64), 0)\n",
        "    count_matrix = torch.zeros(64, 64)\n",
        "    dims = [0, 0]\n",
        "    last_layer = 0\n",
        "    layer_count = 1\n",
        "\n",
        "    if net.__class__ != nn.Sequential:\n",
        "        net = net.layers\n",
        "    for i in range(len(net)):\n",
        "        layer = net[i]\n",
        "        if layer.__class__ in act_map.keys():\n",
        "            for _ in range(last_layer):\n",
        "                matrix[dims[0], dims[1]] = act_map[layer.__class__]\n",
        "                count_matrix[dims[0], dims[1]] = layer_count\n",
        "                dims[0] += 1\n",
        "                dims[1] += 1\n",
        "            layer_count += 1\n",
        "        else:\n",
        "            matrix[dims[0]:dims[0]+layer.out_features, dims[1]:dims[1]+layer.in_features] = layer.weight\n",
        "            count_matrix[dims[0]:dims[0]+layer.out_features, dims[1]:dims[1]+layer.in_features] = layer_count * torch.eye(layer.out_features, layer.in_features)\n",
        "            dims[0] += layer.out_features\n",
        "            dims[1] += layer.in_features\n",
        "            last_layer = layer.out_features\n",
        "            layer_count += 1\n",
        "    return matrix, count_matrix"
      ]
    },
    {
      "cell_type": "code",
      "execution_count": null,
      "metadata": {
        "id": "jalryJu83VaW"
      },
      "outputs": [],
      "source": [
        "act_map = {nn.ReLU: 2,\n",
        "           nn.Tanh: 3,\n",
        "           nn.Sigmoid: 1}\n",
        "\n",
        "def converter(net: nn.Module) -> torch.Tensor:\n",
        "    matrix = torch.zeros((64, 64))\n",
        "    x_p, y_p = 0, 0\n",
        "    for layer in net.layers:\n",
        "        if isinstance(layer, nn.Linear):\n",
        "            matrix[x_p:x_p+layer.weight.shape[0], y_p:y_p+layer.weight.shape[1]] = layer.weight\n",
        "            x_p += layer.weight.shape[0]\n",
        "            y_p += layer.weight.shape[1]\n",
        "        else:\n",
        "            matrix[x_p, y_p] = act_map[layer.__class__]\n",
        "            x_p += 1\n",
        "            y_p += 1\n",
        "    return matrix\n",
        "\n",
        "def reverse_converter(weights: torch.Tensor, net: nn.Module) -> nn.Module: #\n",
        "    x_p, y_p = 0, 0\n",
        "    layers = []\n",
        "    net_copy = copy.deepcopy(net)\n",
        "    for layer in net_copy.layers:\n",
        "        if isinstance(layer, nn.Linear):\n",
        "            layer.weight = nn.Parameter(weights[x_p:x_p+layer.weight.shape[0], y_p:y_p+layer.weight.shape[1]])\n",
        "            x_p += layer.weight.shape[0]\n",
        "            y_p += layer.weight.shape[1]\n",
        "        else:\n",
        "            x_p += 1\n",
        "            y_p += 1\n",
        "        layers += [layer]\n",
        "    return RNet(layers)"
      ]
    },
    {
      "cell_type": "code",
      "execution_count": null,
      "metadata": {
        "id": "zfO6XJWivXlA"
      },
      "outputs": [],
      "source": [
        "class RNet(nn.Module):\n",
        "    def __init__(self, in_layers):\n",
        "        super().__init__()\n",
        "        self.layers = nn.Sequential()\n",
        "        for i in in_layers:\n",
        "            self.layers.append(i)\n",
        "    def forward(self, x):\n",
        "        self.emb = self.layers[:-1](x)\n",
        "        return self.layers[-1](self.emb)"
      ]
    },
    {
      "cell_type": "code",
      "execution_count": null,
      "metadata": {
        "id": "Ab7ABFKNK3nG"
      },
      "outputs": [],
      "source": [
        "N_REGS = 4\n",
        "N_NETS = 156\n",
        "REGS_BATCHSIZE = 1\n",
        "NETS_BATCHSIZE = 12"
      ]
    },
    {
      "cell_type": "code",
      "execution_count": null,
      "metadata": {
        "id": "wOsj0bBq8v2L"
      },
      "outputs": [],
      "source": [
        "regs = pd.read_csv('/content/random_regressions.csv')\n",
        "uniq_regs = regs[\"reg_id\"].unique()\n",
        "reg_data = [regs[regs[\"reg_id\"] == i] for i in uniq_regs]"
      ]
    },
    {
      "cell_type": "code",
      "execution_count": null,
      "metadata": {
        "id": "GAA0OOp6HNT0"
      },
      "outputs": [],
      "source": [
        "class RegDataset(Dataset):\n",
        "    def __init__(self, df):\n",
        "        super().__init__()\n",
        "        self.features = torch.tensor(df.drop(columns=['reg_id', 'y']).values, dtype=torch.float32)\n",
        "        self.targets = torch.tensor(df['y'].values, dtype=torch.float32)\n",
        "\n",
        "    def __len__(self):\n",
        "        return len(self.targets)\n",
        "\n",
        "    def __getitem__(self, idx):\n",
        "        return self.features[idx], self.targets[idx]"
      ]
    },
    {
      "cell_type": "code",
      "execution_count": null,
      "metadata": {
        "id": "ljNOKgqWJlQ8"
      },
      "outputs": [],
      "source": [
        "reg_datasets = []\n",
        "reg_dataloaders = []\n",
        "for reg in reg_data[:N_REGS]:\n",
        "    train_data, valid_data = train_test_split(reg, test_size=0.2)\n",
        "    train_dataset = RegDataset(train_data)\n",
        "    valid_dataset = RegDataset(valid_data)\n",
        "    reg_datasets += [[train_dataset, valid_dataset]]\n",
        "    train_loader = DataLoader(train_dataset, batch_size=REGS_BATCHSIZE, shuffle=True)\n",
        "    valid_loader = DataLoader(valid_dataset, batch_size=REGS_BATCHSIZE, shuffle=False)\n",
        "    reg_dataloaders += [[train_loader, valid_loader]]"
      ]
    },
    {
      "cell_type": "code",
      "execution_count": null,
      "metadata": {
        "id": "uw3zRxWkMPWc"
      },
      "outputs": [],
      "source": [
        "class NetDataset(Dataset):\n",
        "    def __init__(self, start, end):\n",
        "        self.nets_num = []\n",
        "        self.converted_nets = []\n",
        "        self.regs = []\n",
        "        for i in range(N_REGS):\n",
        "            for j in range(start, end):\n",
        "                net = torch.load(f\"/content/fitted 2/reg{i}/model{j}.pt\", map_location=torch.device('cpu'))\n",
        "                converted_net = converter(net)\n",
        "                self.converted_nets += [converted_net.unsqueeze(0)]\n",
        "\n",
        "                self.regs += [i]\n",
        "                self.nets_num += [j]\n",
        "\n",
        "    def __len__(self):\n",
        "        return len(self.nets_num)\n",
        "\n",
        "    def __getitem__(self, idx):\n",
        "        return self.converted_nets[idx], self.nets_num[idx], self.regs[idx]\n",
        "\n",
        "def collate_fn(data):\n",
        "    nets = torch.empty(NETS_BATCHSIZE, 1, 64, 64)\n",
        "    nets_num = torch.empty(NETS_BATCHSIZE, 1)\n",
        "    reg = torch.empty(NETS_BATCHSIZE, 1)\n",
        "\n",
        "    for i, elem in enumerate(data):\n",
        "        nets[i] = torch.tensor(elem[0])\n",
        "        nets_num[i] = torch.tensor(elem[1])\n",
        "        reg[i] = torch.tensor(elem[2])\n",
        "    return nets, nets_num, reg"
      ]
    },
    {
      "cell_type": "code",
      "execution_count": null,
      "metadata": {
        "colab": {
          "base_uri": "https://localhost:8080/"
        },
        "id": "URhjyKDmOwVy",
        "outputId": "e37a494d-a423-416a-c900-213e502c0bb8"
      },
      "outputs": [
        {
          "name": "stderr",
          "output_type": "stream",
          "text": [
            "<ipython-input-14-c7d25f251431>:8: FutureWarning: You are using `torch.load` with `weights_only=False` (the current default value), which uses the default pickle module implicitly. It is possible to construct malicious pickle data which will execute arbitrary code during unpickling (See https://github.com/pytorch/pytorch/blob/main/SECURITY.md#untrusted-models for more details). In a future release, the default value for `weights_only` will be flipped to `True`. This limits the functions that could be executed during unpickling. Arbitrary objects will no longer be allowed to be loaded via this mode unless they are explicitly allowlisted by the user via `torch.serialization.add_safe_globals`. We recommend you start setting `weights_only=True` for any use case where you don't have full control of the loaded file. Please open an issue on GitHub for any issues related to this experimental feature.\n",
            "  net = torch.load(f\"/content/fitted 2/reg{i}/model{j}.pt\", map_location=torch.device('cpu'))\n"
          ]
        }
      ],
      "source": [
        "# df = pd.read_csv('/content/models.csv')\n",
        "# train, val = train_test_split(df, train_size=0.8)\n",
        "\n",
        "# train_dataset = NetDataset(0, 79)\n",
        "# valid_dataset = NetDataset(80, 99)\n",
        "\n",
        "train_dataset = NetDataset(0, 120)\n",
        "valid_dataset = NetDataset(120, 156)\n",
        "\n",
        "train_dataloader = DataLoader(train_dataset, collate_fn=collate_fn, batch_size=NETS_BATCHSIZE, shuffle=True)\n",
        "valid_dataloader = DataLoader(valid_dataset, collate_fn=collate_fn, batch_size=NETS_BATCHSIZE, shuffle=False)"
      ]
    },
    {
      "cell_type": "code",
      "execution_count": null,
      "metadata": {
        "colab": {
          "base_uri": "https://localhost:8080/"
        },
        "id": "8lZcQnZ9_wBG",
        "outputId": "b6153de6-96a3-4d62-9ca8-8088af9e03ae"
      },
      "outputs": [
        {
          "data": {
            "text/plain": [
              "tensor([[-0.3604, -0.1105, -0.7219, -0.3692, -0.1126,  0.1502, -0.6595,  0.1718,\n",
              "         -0.0256, -0.3288],\n",
              "        [-0.3940, -0.0869,  0.2298,  0.1490, -0.5923, -0.2522,  0.5530, -0.3136,\n",
              "          0.1687,  0.0712],\n",
              "        [ 0.4279,  0.1517,  0.7527,  0.3645,  0.1853, -0.1404,  0.7168, -0.1719,\n",
              "         -0.0055,  0.3787],\n",
              "        [-0.7234, -0.1973, -0.5761, -0.4872, -0.2679, -0.1609, -0.4157, -0.2212,\n",
              "         -0.1417, -0.3668],\n",
              "        [-0.6290, -0.3690, -0.2903, -0.1558, -0.3791, -0.1682, -0.7425, -0.0055,\n",
              "         -0.0339, -0.4633],\n",
              "        [ 0.7029,  0.1985,  0.6042,  0.5124,  0.2223,  0.1443,  0.4214,  0.2209,\n",
              "          0.1419,  0.3493],\n",
              "        [ 0.5729,  0.3452,  0.2265,  0.1318,  0.3741,  0.1963,  0.6697,  0.0611,\n",
              "          0.0286,  0.4340]], grad_fn=<SliceBackward0>)"
            ]
          },
          "execution_count": 25,
          "metadata": {},
          "output_type": "execute_result"
        }
      ],
      "source": [
        "train_dataset[0][0][0][:7, :10]"
      ]
    },
    {
      "cell_type": "code",
      "execution_count": null,
      "metadata": {
        "colab": {
          "base_uri": "https://localhost:8080/"
        },
        "id": "48RBZ-muAiEG",
        "outputId": "0d601844-6d3d-4b4f-a1f6-49f63c366cf5"
      },
      "outputs": [
        {
          "data": {
            "text/plain": [
              "tensor([[ 1.0000e+00,  0.0000e+00,  0.0000e+00,  0.0000e+00,  0.0000e+00,\n",
              "          0.0000e+00,  0.0000e+00,  0.0000e+00,  0.0000e+00,  0.0000e+00],\n",
              "        [ 0.0000e+00, -3.9568e+00,  4.4296e+00,  6.0010e+00, -4.0556e+00,\n",
              "         -3.9639e+00,  5.9573e+00,  6.1152e+00,  0.0000e+00,  0.0000e+00],\n",
              "        [ 0.0000e+00, -4.0400e+00,  4.4464e+00,  6.1591e+00, -3.9307e+00,\n",
              "         -4.0949e+00,  6.2050e+00,  6.1655e+00,  0.0000e+00,  0.0000e+00],\n",
              "        [ 0.0000e+00,  7.1633e+00,  5.0245e+00, -4.0747e+00,  7.1329e+00,\n",
              "          7.2179e+00, -4.0448e+00, -4.1928e+00,  0.0000e+00,  0.0000e+00],\n",
              "        [ 0.0000e+00, -7.0786e-02, -2.0360e-02, -7.6265e-02, -1.2522e-01,\n",
              "          1.0618e-01, -7.3601e-02, -1.4004e-01,  0.0000e+00,  0.0000e+00],\n",
              "        [ 0.0000e+00, -4.0225e+00,  4.4956e+00,  6.0377e+00, -3.8789e+00,\n",
              "         -3.9639e+00,  5.8627e+00,  5.9487e+00,  0.0000e+00,  0.0000e+00],\n",
              "        [ 0.0000e+00,  7.2157e+00,  5.0064e+00, -3.9432e+00,  7.2653e+00,\n",
              "          7.2453e+00, -4.2499e+00, -4.0632e+00,  0.0000e+00,  0.0000e+00],\n",
              "        [ 0.0000e+00,  1.6819e-02, -1.9180e-01,  8.6660e-02, -4.0670e-02,\n",
              "         -1.8415e-01,  5.9520e-03, -9.7478e-04,  0.0000e+00,  0.0000e+00],\n",
              "        [ 0.0000e+00,  0.0000e+00,  0.0000e+00,  0.0000e+00,  0.0000e+00,\n",
              "          0.0000e+00,  0.0000e+00,  0.0000e+00,  2.0000e+00,  0.0000e+00],\n",
              "        [ 0.0000e+00,  0.0000e+00,  0.0000e+00,  0.0000e+00,  0.0000e+00,\n",
              "          0.0000e+00,  0.0000e+00,  0.0000e+00,  0.0000e+00,  7.2819e+00]],\n",
              "       grad_fn=<SliceBackward0>)"
            ]
          },
          "execution_count": 26,
          "metadata": {},
          "output_type": "execute_result"
        }
      ],
      "source": [
        "train_dataset[0][0][0][7:17, 10:20]"
      ]
    },
    {
      "cell_type": "code",
      "execution_count": null,
      "metadata": {
        "colab": {
          "base_uri": "https://localhost:8080/"
        },
        "id": "6P2Telu6Ii1A",
        "outputId": "1f6602f2-cbb4-42d0-d876-fba0f6165594"
      },
      "outputs": [
        {
          "name": "stdout",
          "output_type": "stream",
          "text": [
            "torch.Size([12, 1, 64, 64])\n"
          ]
        },
        {
          "name": "stderr",
          "output_type": "stream",
          "text": [
            "<ipython-input-14-c7d25f251431>:27: UserWarning: To copy construct from a tensor, it is recommended to use sourceTensor.clone().detach() or sourceTensor.clone().detach().requires_grad_(True), rather than torch.tensor(sourceTensor).\n",
            "  nets[i] = torch.tensor(elem[0])\n"
          ]
        }
      ],
      "source": [
        "for i in train_dataloader:\n",
        "    print(i[0].shape)\n",
        "    break"
      ]
    },
    {
      "cell_type": "code",
      "execution_count": null,
      "metadata": {
        "colab": {
          "base_uri": "https://localhost:8080/"
        },
        "id": "xE7ko5494bzV",
        "outputId": "219b42ea-b2fa-4d13-d24c-f32ce8da8b42"
      },
      "outputs": [
        {
          "data": {
            "text/plain": [
              "(480, 144)"
            ]
          },
          "execution_count": 28,
          "metadata": {},
          "output_type": "execute_result"
        }
      ],
      "source": [
        "len(train_dataset), len(valid_dataset)"
      ]
    },
    {
      "cell_type": "code",
      "execution_count": null,
      "metadata": {
        "id": "hdvjBZ0iPPhL"
      },
      "outputs": [],
      "source": [
        "class Down(nn.Module):\n",
        "    def __init__(self, in_channels, out_channels):\n",
        "        super().__init__()\n",
        "        self.conv_block = nn.Sequential(\n",
        "            nn.Conv2d(in_channels, out_channels, kernel_size=3, padding=1),\n",
        "            nn.ReLU(),\n",
        "            nn.MaxPool2d(2)\n",
        "        )\n",
        "\n",
        "    def forward(self, x):\n",
        "        return self.conv_block(x)\n",
        "\n",
        "class Up(nn.Module):\n",
        "    def __init__(self, in_channels, out_channels):\n",
        "        super().__init__()\n",
        "        self.up = nn.ConvTranspose2d(in_channels, in_channels // 2, kernel_size=2, stride=2)\n",
        "\n",
        "    def forward(self, x1):\n",
        "        x1 = self.up(x1)\n",
        "        return x1"
      ]
    },
    {
      "cell_type": "code",
      "execution_count": null,
      "metadata": {
        "id": "9Jss8BciPnm0"
      },
      "outputs": [],
      "source": [
        "class CNNEncoder(nn.Module):\n",
        "    def __init__(self):\n",
        "        super().__init__()\n",
        "        self.down0 = nn.Conv2d(1, 4, 3, padding=1)\n",
        "        self.down1 = (Down(4, 8))\n",
        "        self.down2 = (Down(8, 16))\n",
        "\n",
        "        self.fc_sigma = nn.Linear(4096, 4096)\n",
        "        self.fc_mu = nn.Linear(4096, 4096)\n",
        "        self.N = torch.distributions.Normal(0, 1)\n",
        "        self.N.loc = self.N.loc.to(device)\n",
        "        self.N.scale = self.N.scale.to(device)\n",
        "\n",
        "        self.kl = 0\n",
        "    def forward(self, x):\n",
        "        x1 = self.down0(x)\n",
        "        x2 = self.down1(x1)\n",
        "        x3 = self.down2(x2)\n",
        "        x_flatten = x3.reshape(x.shape[0], -1)\n",
        "\n",
        "        # mu = self.fc_mu(x_flatten)\n",
        "        # sigma = torch.exp(self.fc_sigma(x_flatten))\n",
        "        # z = mu + sigma*self.N.sample(mu.shape)\n",
        "        # self.kl = (sigma**2 + mu**2 - torch.log(sigma) - 1/2).sum()\n",
        "        return x_flatten\n",
        "\n",
        "\n",
        "\n",
        "class CNNDecoder(nn.Module):\n",
        "    def __init__(self):\n",
        "        super().__init__()\n",
        "        self.up3 = (Up(16, 8))\n",
        "        self.up4 = (Up(8, 4))\n",
        "        self.up5 = nn.Conv2d(4, 1, 3, padding=1)\n",
        "\n",
        "    def forward(self, x):\n",
        "        x3 = x.view((NETS_BATCHSIZE, 16, 16, 16))\n",
        "        x = self.up3(x3)\n",
        "        x = self.up4(x)\n",
        "        x = self.up5(x)\n",
        "        return x"
      ]
    },
    {
      "cell_type": "code",
      "execution_count": null,
      "metadata": {
        "id": "3HFveerWPhlM"
      },
      "outputs": [],
      "source": [
        "class CNNVAE(nn.Module):\n",
        "    def __init__(self):\n",
        "        super().__init__()\n",
        "        self.cnn_encoder = CNNEncoder()\n",
        "        self.cnn_decoder = CNNDecoder()\n",
        "    def forward(self, x):\n",
        "        x = self.cnn_encoder(x)\n",
        "        x = self.cnn_decoder(x)\n",
        "        return x"
      ]
    },
    {
      "cell_type": "code",
      "execution_count": null,
      "metadata": {
        "id": "F_mNjbGFf5lw"
      },
      "outputs": [],
      "source": [
        "class CNNVAE(nn.Module):\n",
        "    def __init__(self):\n",
        "        super().__init__()\n",
        "        self.down1 = nn.Linear(64 * 64, 32 * 32)\n",
        "        self.up3 = nn.Linear(32 * 32, 64 * 64)\n",
        "\n",
        "        # self.fc_sigma = nn.Linear(32 * 32, 32 * 32)\n",
        "        # self.fc_mu = nn.Linear(32 * 32, 32 * 32)\n",
        "\n",
        "        # self.N = torch.distributions.Normal(0, 1)\n",
        "        # self.N.loc = self.N.loc.to(device)\n",
        "        # self.N.scale = self.N.scale.to(device)\n",
        "        self.kl = 0\n",
        "\n",
        "    def forward(self, x):\n",
        "        x = x.view(NETS_BATCHSIZE, 64 * 64)\n",
        "        x = F.relu(self.down1(x))\n",
        "        # x = F.relu(self.down3(x))\n",
        "\n",
        "        # mu = self.fc_mu(x)\n",
        "        # sigma = torch.exp(self.fc_sigma(x))\n",
        "        # x = mu + sigma*self.N.sample(mu.shape)\n",
        "        # self.kl = (sigma**2 + mu**2 - torch.log(sigma) - 1/2).sum()\n",
        "\n",
        "        x = self.up3(x)\n",
        "        x = x.view(NETS_BATCHSIZE, 1, 64, 64)\n",
        "        return x"
      ]
    },
    {
      "cell_type": "code",
      "execution_count": null,
      "metadata": {
        "id": "FIzwnYrViTjz"
      },
      "outputs": [],
      "source": [
        "class Encoder(nn.Module):\n",
        "    def __init__(self):\n",
        "        super().__init__()\n",
        "        self.down1 = nn.Linear(64 * 64, 45 * 45)\n",
        "\n",
        "    def forward(self, x):\n",
        "        x = x.view(NETS_BATCHSIZE, 64 * 64)\n",
        "        x = F.relu(self.down1(x))\n",
        "        return x\n",
        "\n",
        "class Decoder(nn.Module):\n",
        "    def __init__(self):\n",
        "        super().__init__()\n",
        "        self.up1 = nn.Linear(45 * 45, 64 * 64)\n",
        "\n",
        "    def forward(self, x):\n",
        "        x = self.up1(x)\n",
        "        x = x.view(NETS_BATCHSIZE, 1, 64, 64)\n",
        "        return x\n",
        "\n",
        "class AE(nn.Module):\n",
        "    def __init__(self):\n",
        "        super().__init__()\n",
        "        self.encoder = Encoder()\n",
        "        self.decoder = Decoder()\n",
        "    def forward(self, x):\n",
        "        x = self.encoder(x)\n",
        "        x = self.decoder(x)\n",
        "        return x"
      ]
    },
    {
      "cell_type": "code",
      "execution_count": null,
      "metadata": {
        "id": "zw0UgCfEhypt"
      },
      "outputs": [],
      "source": [
        "class VAE(nn.Module):\n",
        "    def __init__(self):\n",
        "        super().__init__()\n",
        "        self.fc_sigma = nn.Linear(45 * 45, 45 * 45)\n",
        "        self.fc_mu = nn.Linear(45 * 45, 45 * 45)\n",
        "\n",
        "        self.N = torch.distributions.Normal(0, 1)\n",
        "        self.N.loc = self.N.loc.to(device)\n",
        "        self.N.scale = self.N.scale.to(device)\n",
        "        self.kl = 0\n",
        "\n",
        "    def forward(self, x):\n",
        "        mu = self.fc_mu(x)\n",
        "        sigma = torch.exp(self.fc_sigma(x))\n",
        "        x = mu + sigma*self.N.sample(mu.shape)\n",
        "        self.kl = (sigma**2 + mu**2 - torch.log(sigma) - 1/2).sum()\n",
        "        return x"
      ]
    },
    {
      "cell_type": "code",
      "execution_count": null,
      "metadata": {
        "id": "Nf1vUnaGK8px"
      },
      "outputs": [],
      "source": [
        "class AE_VAE(nn.Module):\n",
        "    def __init__(self):\n",
        "        super().__init__()\n",
        "        self.ae = torch.load(\"fitted_model.pt\")\n",
        "        self.ae.eval()\n",
        "        self.vae = VAE()\n",
        "        self.vae.train()\n",
        "\n",
        "    def forward(self, x):\n",
        "        with torch.no_grad():\n",
        "            x = self.ae.encoder(x)\n",
        "        x = self.vae(x)\n",
        "        with torch.no_grad():\n",
        "            x = self.ae.decoder(x)\n",
        "        return x"
      ]
    },
    {
      "cell_type": "code",
      "execution_count": null,
      "metadata": {
        "id": "cZnjcQkpEZOj"
      },
      "outputs": [],
      "source": [
        "class AE_VAE(nn.Module):\n",
        "    def __init__(self):\n",
        "        super().__init__()\n",
        "        self.ae = AE()\n",
        "        self.vae = VAE()\n",
        "\n",
        "    def forward(self, x):\n",
        "        x = self.ae.encoder(x)\n",
        "        x = self.vae(x)\n",
        "        x = self.ae.decoder(x)\n",
        "        return x"
      ]
    },
    {
      "cell_type": "code",
      "execution_count": null,
      "metadata": {
        "id": "1vyhXVlB6fZ8"
      },
      "outputs": [],
      "source": [
        "# class CNNVAE(nn.Module):\n",
        "#     def __init__(self):\n",
        "#         super().__init__()\n",
        "#         self.down1 = nn.Linear(64 * 64, 45 * 45)\n",
        "#         self.up3 = nn.Linear(45 * 45, 64 * 64)\n",
        "\n",
        "#     def forward(self, x):\n",
        "#         x = x.view(NETS_BATCHSIZE, 1, 64 * 64)\n",
        "#         x = F.relu(self.down1(x))\n",
        "#         x = self.up3(x)\n",
        "#         x = x.view(NETS_BATCHSIZE, 1, 64, 64)\n",
        "#         return x"
      ]
    },
    {
      "cell_type": "code",
      "execution_count": null,
      "metadata": {
        "id": "6VQrImfQPkqT"
      },
      "outputs": [],
      "source": [
        "def valid_model(model, valid_loader):\n",
        "    mse = 0\n",
        "    smape = 0\n",
        "    model.eval()\n",
        "    for data in valid_loader:\n",
        "        x, y = data\n",
        "        x, y = x.to(device), y.to(device)\n",
        "        with torch.no_grad():\n",
        "            output = model(x)\n",
        "        mse += ((output.T - y) ** 2).sum()\n",
        "        smape += (output - y).abs() / (output.abs() + y.abs()) / 2\n",
        "    return mse / len(valid_loader), smape / len(valid_loader)"
      ]
    },
    {
      "cell_type": "code",
      "execution_count": null,
      "metadata": {
        "id": "yMlEvx9NtuLd"
      },
      "outputs": [],
      "source": [
        "def valid_cos_sim(model1, model2, valid_loader):\n",
        "    cos_sim = 0\n",
        "    with torch.no_grad():\n",
        "        for data in valid_loader:\n",
        "            x, y = data\n",
        "            x, y = x.to(device), y.to(device)\n",
        "            model1(x)\n",
        "            model2(x)\n",
        "\n",
        "            cos_sim += (F.cosine_similarity(model1.emb, model2.emb).sum() / x.shape[0])\n",
        "            model1.emb.detach()\n",
        "            model2.emb.detach()\n",
        "    return cos_sim / len(valid_loader)"
      ]
    },
    {
      "cell_type": "code",
      "execution_count": null,
      "metadata": {
        "id": "bDCbkv8BQ2hG"
      },
      "outputs": [],
      "source": [
        "lr = 3e-4\n",
        "kl_c = 0.000005"
      ]
    },
    {
      "cell_type": "code",
      "execution_count": null,
      "metadata": {
        "colab": {
          "base_uri": "https://localhost:8080/",
          "height": 515,
          "referenced_widgets": [
            "5f1af8c9a56d488581a35e8ed12d0759",
            "2df1bfee7f4f4086a72e249547599b68",
            "9f095a769e74452ba9df1a3308a02f77",
            "644a4d5099114a0fbd9ce67edd53ba42",
            "7a448bebdf7049a485f2daa8078d7b71",
            "5952e00e1240438f87752f29fb05c201",
            "52550b6d511c4e958a7cc862433e74cf",
            "fd4cfe23b2824a88b3ee32dfe7d7ca28"
          ]
        },
        "id": "ee7B_fJvQG2j",
        "outputId": "805dbbd4-9a21-4a9b-9734-aef60acbf08a"
      },
      "outputs": [
        {
          "data": {
            "text/html": [
              "Finishing last run (ID:slo5rr11) before initializing another..."
            ],
            "text/plain": [
              "<IPython.core.display.HTML object>"
            ]
          },
          "metadata": {},
          "output_type": "display_data"
        },
        {
          "data": {
            "application/vnd.jupyter.widget-view+json": {
              "model_id": "5f1af8c9a56d488581a35e8ed12d0759",
              "version_major": 2,
              "version_minor": 0
            },
            "text/plain": [
              "VBox(children=(Label(value='0.020 MB of 0.020 MB uploaded\\r'), FloatProgress(value=1.0, max=1.0)))"
            ]
          },
          "metadata": {},
          "output_type": "display_data"
        },
        {
          "data": {
            "text/html": [
              "<style>\n",
              "    table.wandb td:nth-child(1) { padding: 0 10px; text-align: left ; width: auto;} td:nth-child(2) {text-align: left ; width: 100%}\n",
              "    .wandb-row { display: flex; flex-direction: row; flex-wrap: wrap; justify-content: flex-start; width: 100% }\n",
              "    .wandb-col { display: flex; flex-direction: column; flex-basis: 100%; flex: 1; padding: 10px; }\n",
              "    </style>\n",
              "<div class=\"wandb-row\"><div class=\"wandb-col\"><h3>Run history:</h3><br/><table class=\"wandb\"><tr><td>cos_sim</td><td>▅▅▅▆▆▆▆▇▇▇▇▇▇▇▇███████▇▄▃▁</td></tr><tr><td>gen_model_metric</td><td>▁▁▁▁▁▁▁▁▁▁▁▁▁▁▁▁▁▁▁▁▁▁▁▁▁█</td></tr><tr><td>loss_mse</td><td>▁▁▁▁▁▁▁▁▁▁▁▁▁▁▁▁▁▁▁▁▁▁▁▁▁█</td></tr><tr><td>mape</td><td>▅▅▄▃▄▃▃▃▂▂▂▂▂▁▁▁▁▁▁▁▁▁▂▅▆█</td></tr><tr><td>mse</td><td>▁▁▁▁▁▁▁▁▁▁▁▁▁▁▁▁▁▁▁▁▁▁▁▁▁█</td></tr><tr><td>smape</td><td>█▆▅▄▄▄▄▃▃▃▃▃▂▂▂▂▂▁▂▁▁▁▂▅▅▆</td></tr><tr><td>train_kl</td><td>▁▁▁▁▁▁▁▁▁▁▁▁▁▁▁▁▁▁▁▁▁▁▁▁▁█</td></tr><tr><td>train_loss</td><td>▁▁▁▁▁▁▁▁▁▁▁▁▁▁▁▁▁▁▁▁▁▁▁▁▁█</td></tr><tr><td>true_model_metric</td><td>▁▁▁▁▁▁▁▁▁▁▁▁▁▁▁▁▁▁▁▁▁▁▁▁▁▁</td></tr><tr><td>val_loss</td><td>▁▁▁▁▁▁▁▁▁▁▁▁▁▁▁▁▁▁▁▁▁▁▁▁▁█</td></tr></table><br/></div><div class=\"wandb-col\"><h3>Run summary:</h3><br/><table class=\"wandb\"><tr><td>cos_sim</td><td>0.32424</td></tr><tr><td>gen_model_metric</td><td>1921894318080.0</td></tr><tr><td>loss_mse</td><td>16920247.83012</td></tr><tr><td>mape</td><td>0.93327</td></tr><tr><td>mse</td><td>1.746347174032539e+26</td></tr><tr><td>smape</td><td>0.4013</td></tr><tr><td>train_kl</td><td>4258335817728.0</td></tr><tr><td>train_loss</td><td>21178583.36753</td></tr><tr><td>true_model_metric</td><td>4968.94727</td></tr><tr><td>val_loss</td><td>215059887036.9437</td></tr></table><br/></div></div>"
            ],
            "text/plain": [
              "<IPython.core.display.HTML object>"
            ]
          },
          "metadata": {},
          "output_type": "display_data"
        },
        {
          "data": {
            "text/html": [
              " View run <strong style=\"color:#cdcd00\">linear, ae vae, old_dataset, emb=45*45, lr=0.0003</strong> at: <a href='https://wandb.ai/vanyamironov/netformer/runs/slo5rr11' target=\"_blank\">https://wandb.ai/vanyamironov/netformer/runs/slo5rr11</a><br/> View project at: <a href='https://wandb.ai/vanyamironov/netformer' target=\"_blank\">https://wandb.ai/vanyamironov/netformer</a><br/>Synced 5 W&B file(s), 0 media file(s), 0 artifact file(s) and 0 other file(s)"
            ],
            "text/plain": [
              "<IPython.core.display.HTML object>"
            ]
          },
          "metadata": {},
          "output_type": "display_data"
        },
        {
          "data": {
            "text/html": [
              "Find logs at: <code>./wandb/run-20240912_125926-slo5rr11/logs</code>"
            ],
            "text/plain": [
              "<IPython.core.display.HTML object>"
            ]
          },
          "metadata": {},
          "output_type": "display_data"
        },
        {
          "data": {
            "text/html": [
              "Successfully finished last run (ID:slo5rr11). Initializing new run:<br/>"
            ],
            "text/plain": [
              "<IPython.core.display.HTML object>"
            ]
          },
          "metadata": {},
          "output_type": "display_data"
        },
        {
          "data": {
            "text/html": [
              "Tracking run with wandb version 0.18.0"
            ],
            "text/plain": [
              "<IPython.core.display.HTML object>"
            ]
          },
          "metadata": {},
          "output_type": "display_data"
        },
        {
          "data": {
            "text/html": [
              "Run data is saved locally in <code>/content/wandb/run-20240912_154107-r2oq7ezh</code>"
            ],
            "text/plain": [
              "<IPython.core.display.HTML object>"
            ]
          },
          "metadata": {},
          "output_type": "display_data"
        },
        {
          "data": {
            "text/html": [
              "Syncing run <strong><a href='https://wandb.ai/vanyamironov/netformer/runs/r2oq7ezh' target=\"_blank\">linear, ae vae, old_dataset, emb=45*45, lr=0.0003</a></strong> to <a href='https://wandb.ai/vanyamironov/netformer' target=\"_blank\">Weights & Biases</a> (<a href='https://wandb.me/run' target=\"_blank\">docs</a>)<br/>"
            ],
            "text/plain": [
              "<IPython.core.display.HTML object>"
            ]
          },
          "metadata": {},
          "output_type": "display_data"
        },
        {
          "data": {
            "text/html": [
              " View project at <a href='https://wandb.ai/vanyamironov/netformer' target=\"_blank\">https://wandb.ai/vanyamironov/netformer</a>"
            ],
            "text/plain": [
              "<IPython.core.display.HTML object>"
            ]
          },
          "metadata": {},
          "output_type": "display_data"
        },
        {
          "data": {
            "text/html": [
              " View run at <a href='https://wandb.ai/vanyamironov/netformer/runs/r2oq7ezh' target=\"_blank\">https://wandb.ai/vanyamironov/netformer/runs/r2oq7ezh</a>"
            ],
            "text/plain": [
              "<IPython.core.display.HTML object>"
            ]
          },
          "metadata": {},
          "output_type": "display_data"
        }
      ],
      "source": [
        "run = wandb.init(\n",
        "    project=\"netformer\",\n",
        "    name=f\"linear, ae vae, old_dataset, emb=45*45, lr={lr}, kl_c={kl_c}\",\n",
        "    config={\n",
        "        \"learning_rate\": lr,\n",
        "        \"d_model\": 0,\n",
        "        \"num_heads\": 0,\n",
        "        \"num_layers\": 0,\n",
        "        \"d_ff\": 0,\n",
        "        \"dropout\": 0,\n",
        "        \"BATCHSIZE\": NETS_BATCHSIZE,\n",
        "        \"data\": \"random\",\n",
        "        \"edge_c\": 0\n",
        "    },\n",
        ")"
      ]
    },
    {
      "cell_type": "code",
      "execution_count": null,
      "metadata": {
        "id": "gcR1G9_bRAFo"
      },
      "outputs": [],
      "source": [
        "from torch.optim.lr_scheduler import StepLR\n",
        "cnnvae = AE_VAE()\n",
        "# cnnvae.to(device)\n",
        "criterion = nn.MSELoss()\n",
        "val_criterion = nn.MSELoss()\n",
        "optimizer = optim.AdamW(cnnvae.parameters(), lr=lr)\n",
        "# scheduler = StepLR(optimizer, step_size=20, gamma=0.1)"
      ]
    },
    {
      "cell_type": "code",
      "execution_count": null,
      "metadata": {
        "colab": {
          "background_save": true,
          "base_uri": "https://localhost:8080/"
        },
        "id": "aJFDWdh5Rcse",
        "outputId": "88925c28-9b11-455f-f04d-b954e5cb9577"
      },
      "outputs": [
        {
          "name": "stderr",
          "output_type": "stream",
          "text": [
            "  0%|          | 0/40 [00:00<?, ?it/s]<ipython-input-14-c7d25f251431>:27: UserWarning: To copy construct from a tensor, it is recommended to use sourceTensor.clone().detach() or sourceTensor.clone().detach().requires_grad_(True), rather than torch.tensor(sourceTensor).\n",
            "  nets[i] = torch.tensor(elem[0])\n",
            "100%|██████████| 40/40 [00:12<00:00,  3.23it/s]\n"
          ]
        },
        {
          "name": "stdout",
          "output_type": "stream",
          "text": [
            "train: epoch: 0 loss: 1.8613 kl: tensor(38855.1797, grad_fn=<DivBackward0>)\n"
          ]
        },
        {
          "name": "stderr",
          "output_type": "stream",
          "text": [
            "  0%|          | 0/12 [00:00<?, ?it/s]<ipython-input-100-c013130d0f30>:37: FutureWarning: You are using `torch.load` with `weights_only=False` (the current default value), which uses the default pickle module implicitly. It is possible to construct malicious pickle data which will execute arbitrary code during unpickling (See https://github.com/pytorch/pytorch/blob/main/SECURITY.md#untrusted-models for more details). In a future release, the default value for `weights_only` will be flipped to `True`. This limits the functions that could be executed during unpickling. Arbitrary objects will no longer be allowed to be loaded via this mode unless they are explicitly allowlisted by the user via `torch.serialization.add_safe_globals`. We recommend you start setting `weights_only=True` for any use case where you don't have full control of the loaded file. Please open an issue on GitHub for any issues related to this experimental feature.\n",
            "  true_net = torch.load(f\"/content/fitted 2/reg{int(reg[j])}/model{int(net_num[j])}.pt\", map_location=torch.device('cpu'))\n",
            "100%|██████████| 12/12 [00:40<00:00,  3.33s/it]\n"
          ]
        },
        {
          "name": "stdout",
          "output_type": "stream",
          "text": [
            "tensor(4968.9473) tensor(35056.2891)\n",
            "loss: 1.6944\n"
          ]
        },
        {
          "name": "stderr",
          "output_type": "stream",
          "text": [
            "100%|██████████| 40/40 [00:12<00:00,  3.24it/s]\n"
          ]
        },
        {
          "name": "stdout",
          "output_type": "stream",
          "text": [
            "train: epoch: 1 loss: 0.8142 kl: tensor(137008.0312, grad_fn=<DivBackward0>)\n"
          ]
        },
        {
          "name": "stderr",
          "output_type": "stream",
          "text": [
            "100%|██████████| 12/12 [00:39<00:00,  3.26s/it]\n"
          ]
        },
        {
          "name": "stdout",
          "output_type": "stream",
          "text": [
            "tensor(4968.9473) tensor(36535.6914)\n",
            "loss: 1.1971\n"
          ]
        },
        {
          "name": "stderr",
          "output_type": "stream",
          "text": [
            "100%|██████████| 40/40 [00:13<00:00,  2.93it/s]\n"
          ]
        },
        {
          "name": "stdout",
          "output_type": "stream",
          "text": [
            "train: epoch: 2 loss: 0.4245 kl: tensor(182427.5156, grad_fn=<DivBackward0>)\n"
          ]
        },
        {
          "name": "stderr",
          "output_type": "stream",
          "text": [
            "100%|██████████| 12/12 [00:38<00:00,  3.24s/it]\n"
          ]
        },
        {
          "name": "stdout",
          "output_type": "stream",
          "text": [
            "tensor(4968.9473) tensor(33925.)\n",
            "loss: 0.9954\n"
          ]
        },
        {
          "name": "stderr",
          "output_type": "stream",
          "text": [
            "100%|██████████| 40/40 [00:10<00:00,  3.84it/s]\n"
          ]
        },
        {
          "name": "stdout",
          "output_type": "stream",
          "text": [
            "train: epoch: 3 loss: 0.2553 kl: tensor(191270.6875, grad_fn=<DivBackward0>)\n"
          ]
        },
        {
          "name": "stderr",
          "output_type": "stream",
          "text": [
            "100%|██████████| 12/12 [00:39<00:00,  3.26s/it]\n"
          ]
        },
        {
          "name": "stdout",
          "output_type": "stream",
          "text": [
            "tensor(4968.9473) tensor(33430.3594)\n",
            "loss: 0.8321\n"
          ]
        },
        {
          "name": "stderr",
          "output_type": "stream",
          "text": [
            "100%|██████████| 40/40 [00:12<00:00,  3.13it/s]\n"
          ]
        },
        {
          "name": "stdout",
          "output_type": "stream",
          "text": [
            "train: epoch: 4 loss: 0.1726 kl: tensor(190914.2031, grad_fn=<DivBackward0>)\n"
          ]
        },
        {
          "name": "stderr",
          "output_type": "stream",
          "text": [
            "100%|██████████| 12/12 [00:39<00:00,  3.28s/it]\n"
          ]
        },
        {
          "name": "stdout",
          "output_type": "stream",
          "text": [
            "tensor(4968.9473) tensor(33423.0781)\n",
            "loss: 0.7606\n"
          ]
        },
        {
          "name": "stderr",
          "output_type": "stream",
          "text": [
            "100%|██████████| 40/40 [00:11<00:00,  3.53it/s]\n"
          ]
        },
        {
          "name": "stdout",
          "output_type": "stream",
          "text": [
            "train: epoch: 5 loss: 0.1336 kl: tensor(187834.9375, grad_fn=<DivBackward0>)\n"
          ]
        },
        {
          "name": "stderr",
          "output_type": "stream",
          "text": [
            "100%|██████████| 12/12 [00:39<00:00,  3.30s/it]\n"
          ]
        },
        {
          "name": "stdout",
          "output_type": "stream",
          "text": [
            "tensor(4968.9473) tensor(31321.1387)\n",
            "loss: 0.7218\n"
          ]
        },
        {
          "name": "stderr",
          "output_type": "stream",
          "text": [
            "100%|██████████| 40/40 [00:10<00:00,  3.77it/s]\n"
          ]
        },
        {
          "name": "stdout",
          "output_type": "stream",
          "text": [
            "train: epoch: 6 loss: 0.1246 kl: tensor(181413.4062, grad_fn=<DivBackward0>)\n"
          ]
        },
        {
          "name": "stderr",
          "output_type": "stream",
          "text": [
            "100%|██████████| 12/12 [00:39<00:00,  3.25s/it]\n"
          ]
        },
        {
          "name": "stdout",
          "output_type": "stream",
          "text": [
            "tensor(4968.9473) tensor(30619.6953)\n",
            "loss: 0.6928\n"
          ]
        },
        {
          "name": "stderr",
          "output_type": "stream",
          "text": [
            "100%|██████████| 40/40 [00:11<00:00,  3.59it/s]\n"
          ]
        },
        {
          "name": "stdout",
          "output_type": "stream",
          "text": [
            "train: epoch: 7 loss: 0.1113 kl: tensor(174624.7656, grad_fn=<DivBackward0>)\n"
          ]
        },
        {
          "name": "stderr",
          "output_type": "stream",
          "text": [
            "100%|██████████| 12/12 [00:40<00:00,  3.37s/it]\n"
          ]
        },
        {
          "name": "stdout",
          "output_type": "stream",
          "text": [
            "tensor(4968.9473) tensor(29784.8164)\n",
            "loss: 0.6644\n"
          ]
        },
        {
          "name": "stderr",
          "output_type": "stream",
          "text": [
            "100%|██████████| 40/40 [00:11<00:00,  3.56it/s]\n"
          ]
        },
        {
          "name": "stdout",
          "output_type": "stream",
          "text": [
            "train: epoch: 8 loss: 0.095 kl: tensor(169498.3594, grad_fn=<DivBackward0>)\n"
          ]
        },
        {
          "name": "stderr",
          "output_type": "stream",
          "text": [
            "100%|██████████| 12/12 [00:39<00:00,  3.27s/it]\n"
          ]
        },
        {
          "name": "stdout",
          "output_type": "stream",
          "text": [
            "tensor(4968.9473) tensor(29680.8574)\n",
            "loss: 0.6367\n"
          ]
        },
        {
          "name": "stderr",
          "output_type": "stream",
          "text": [
            "100%|██████████| 40/40 [00:11<00:00,  3.35it/s]\n"
          ]
        },
        {
          "name": "stdout",
          "output_type": "stream",
          "text": [
            "train: epoch: 9 loss: 0.0853 kl: tensor(163993.9062, grad_fn=<DivBackward0>)\n"
          ]
        },
        {
          "name": "stderr",
          "output_type": "stream",
          "text": [
            "100%|██████████| 12/12 [00:39<00:00,  3.28s/it]\n"
          ]
        },
        {
          "name": "stdout",
          "output_type": "stream",
          "text": [
            "tensor(4968.9473) tensor(29138.0762)\n",
            "loss: 0.6011\n"
          ]
        },
        {
          "name": "stderr",
          "output_type": "stream",
          "text": [
            "100%|██████████| 40/40 [00:12<00:00,  3.18it/s]\n"
          ]
        },
        {
          "name": "stdout",
          "output_type": "stream",
          "text": [
            "train: epoch: 10 loss: 0.0743 kl: tensor(159473.9062, grad_fn=<DivBackward0>)\n"
          ]
        },
        {
          "name": "stderr",
          "output_type": "stream",
          "text": [
            "100%|██████████| 12/12 [00:38<00:00,  3.20s/it]\n"
          ]
        },
        {
          "name": "stdout",
          "output_type": "stream",
          "text": [
            "tensor(4968.9473) tensor(29241.1328)\n",
            "loss: 0.5803\n"
          ]
        },
        {
          "name": "stderr",
          "output_type": "stream",
          "text": [
            "100%|██████████| 40/40 [00:10<00:00,  3.67it/s]\n"
          ]
        },
        {
          "name": "stdout",
          "output_type": "stream",
          "text": [
            "train: epoch: 11 loss: 0.0654 kl: tensor(155954.8281, grad_fn=<DivBackward0>)\n"
          ]
        },
        {
          "name": "stderr",
          "output_type": "stream",
          "text": [
            "100%|██████████| 12/12 [00:39<00:00,  3.27s/it]\n"
          ]
        },
        {
          "name": "stdout",
          "output_type": "stream",
          "text": [
            "tensor(4968.9473) tensor(28306.1895)\n",
            "loss: 0.5634\n"
          ]
        },
        {
          "name": "stderr",
          "output_type": "stream",
          "text": [
            "100%|██████████| 40/40 [00:12<00:00,  3.23it/s]\n"
          ]
        },
        {
          "name": "stdout",
          "output_type": "stream",
          "text": [
            "train: epoch: 12 loss: 0.0584 kl: tensor(152305.4688, grad_fn=<DivBackward0>)\n"
          ]
        },
        {
          "name": "stderr",
          "output_type": "stream",
          "text": [
            "100%|██████████| 12/12 [00:39<00:00,  3.27s/it]\n"
          ]
        },
        {
          "name": "stdout",
          "output_type": "stream",
          "text": [
            "tensor(4968.9473) tensor(27469.4727)\n",
            "loss: 0.5462\n"
          ]
        },
        {
          "name": "stderr",
          "output_type": "stream",
          "text": [
            "100%|██████████| 40/40 [00:13<00:00,  3.00it/s]\n"
          ]
        },
        {
          "name": "stdout",
          "output_type": "stream",
          "text": [
            "train: epoch: 13 loss: 0.0609 kl: tensor(148820.9062, grad_fn=<DivBackward0>)\n"
          ]
        },
        {
          "name": "stderr",
          "output_type": "stream",
          "text": [
            "100%|██████████| 12/12 [00:39<00:00,  3.29s/it]\n"
          ]
        },
        {
          "name": "stdout",
          "output_type": "stream",
          "text": [
            "tensor(4968.9473) tensor(27697.5742)\n",
            "loss: 0.5383\n"
          ]
        },
        {
          "name": "stderr",
          "output_type": "stream",
          "text": [
            "100%|██████████| 40/40 [00:11<00:00,  3.51it/s]\n"
          ]
        },
        {
          "name": "stdout",
          "output_type": "stream",
          "text": [
            "train: epoch: 14 loss: 0.061 kl: tensor(145414.1719, grad_fn=<DivBackward0>)\n"
          ]
        },
        {
          "name": "stderr",
          "output_type": "stream",
          "text": [
            "100%|██████████| 12/12 [00:38<00:00,  3.22s/it]\n"
          ]
        },
        {
          "name": "stdout",
          "output_type": "stream",
          "text": [
            "tensor(4968.9473) tensor(27440.2422)\n",
            "loss: 0.5191\n"
          ]
        },
        {
          "name": "stderr",
          "output_type": "stream",
          "text": [
            "100%|██████████| 40/40 [00:12<00:00,  3.25it/s]\n"
          ]
        },
        {
          "name": "stdout",
          "output_type": "stream",
          "text": [
            "train: epoch: 15 loss: 0.0567 kl: tensor(142486.1250, grad_fn=<DivBackward0>)\n"
          ]
        },
        {
          "name": "stderr",
          "output_type": "stream",
          "text": [
            "100%|██████████| 12/12 [00:38<00:00,  3.25s/it]\n"
          ]
        },
        {
          "name": "stdout",
          "output_type": "stream",
          "text": [
            "tensor(4968.9473) tensor(26612.3379)\n",
            "loss: 0.5115\n"
          ]
        },
        {
          "name": "stderr",
          "output_type": "stream",
          "text": [
            "100%|██████████| 40/40 [00:11<00:00,  3.59it/s]\n"
          ]
        },
        {
          "name": "stdout",
          "output_type": "stream",
          "text": [
            "train: epoch: 16 loss: 0.0709 kl: tensor(139212.8125, grad_fn=<DivBackward0>)\n"
          ]
        },
        {
          "name": "stderr",
          "output_type": "stream",
          "text": [
            "100%|██████████| 12/12 [00:39<00:00,  3.27s/it]\n"
          ]
        },
        {
          "name": "stdout",
          "output_type": "stream",
          "text": [
            "tensor(4968.9473) tensor(25425.6523)\n",
            "loss: 0.5048\n"
          ]
        },
        {
          "name": "stderr",
          "output_type": "stream",
          "text": [
            "100%|██████████| 40/40 [00:11<00:00,  3.52it/s]\n"
          ]
        },
        {
          "name": "stdout",
          "output_type": "stream",
          "text": [
            "train: epoch: 17 loss: 0.073 kl: tensor(136482.7812, grad_fn=<DivBackward0>)\n"
          ]
        },
        {
          "name": "stderr",
          "output_type": "stream",
          "text": [
            "100%|██████████| 12/12 [00:38<00:00,  3.21s/it]\n"
          ]
        },
        {
          "name": "stdout",
          "output_type": "stream",
          "text": [
            "tensor(4968.9473) tensor(24537.1328)\n",
            "loss: 0.4884\n"
          ]
        },
        {
          "name": "stderr",
          "output_type": "stream",
          "text": [
            "100%|██████████| 40/40 [00:11<00:00,  3.58it/s]\n"
          ]
        },
        {
          "name": "stdout",
          "output_type": "stream",
          "text": [
            "train: epoch: 18 loss: 0.0639 kl: tensor(135671.7031, grad_fn=<DivBackward0>)\n"
          ]
        },
        {
          "name": "stderr",
          "output_type": "stream",
          "text": [
            "100%|██████████| 12/12 [00:40<00:00,  3.35s/it]\n"
          ]
        },
        {
          "name": "stdout",
          "output_type": "stream",
          "text": [
            "tensor(4968.9473) tensor(25212.7207)\n",
            "loss: 0.4925\n"
          ]
        },
        {
          "name": "stderr",
          "output_type": "stream",
          "text": [
            "100%|██████████| 40/40 [00:11<00:00,  3.55it/s]\n"
          ]
        },
        {
          "name": "stdout",
          "output_type": "stream",
          "text": [
            "train: epoch: 19 loss: 0.0892 kl: tensor(133772.0312, grad_fn=<DivBackward0>)\n"
          ]
        },
        {
          "name": "stderr",
          "output_type": "stream",
          "text": [
            "100%|██████████| 12/12 [00:39<00:00,  3.28s/it]\n"
          ]
        },
        {
          "name": "stdout",
          "output_type": "stream",
          "text": [
            "tensor(4968.9473) tensor(24623.5078)\n",
            "loss: 0.4824\n"
          ]
        },
        {
          "name": "stderr",
          "output_type": "stream",
          "text": [
            "100%|██████████| 40/40 [00:11<00:00,  3.63it/s]\n"
          ]
        },
        {
          "name": "stdout",
          "output_type": "stream",
          "text": [
            "train: epoch: 20 loss: 0.3452 kl: tensor(146506.4062, grad_fn=<DivBackward0>)\n"
          ]
        },
        {
          "name": "stderr",
          "output_type": "stream",
          "text": [
            "100%|██████████| 12/12 [00:39<00:00,  3.26s/it]\n"
          ]
        },
        {
          "name": "stdout",
          "output_type": "stream",
          "text": [
            "tensor(4968.9473) tensor(28667.9004)\n",
            "loss: 0.7283\n"
          ]
        },
        {
          "name": "stderr",
          "output_type": "stream",
          "text": [
            "100%|██████████| 40/40 [00:12<00:00,  3.30it/s]\n"
          ]
        },
        {
          "name": "stdout",
          "output_type": "stream",
          "text": [
            "train: epoch: 21 loss: 398.3049 kl: tensor(33831192., grad_fn=<DivBackward0>)\n"
          ]
        },
        {
          "name": "stderr",
          "output_type": "stream",
          "text": [
            "100%|██████████| 12/12 [00:38<00:00,  3.22s/it]\n"
          ]
        },
        {
          "name": "stdout",
          "output_type": "stream",
          "text": [
            "tensor(4968.9473) tensor(37348.3125)\n",
            "loss: 49.152\n"
          ]
        },
        {
          "name": "stderr",
          "output_type": "stream",
          "text": [
            "100%|██████████| 40/40 [00:10<00:00,  3.65it/s]\n"
          ]
        },
        {
          "name": "stdout",
          "output_type": "stream",
          "text": [
            "train: epoch: 22 loss: 1573337.0196 kl: tensor(1.6139e+11, grad_fn=<DivBackward0>)\n"
          ]
        },
        {
          "name": "stderr",
          "output_type": "stream",
          "text": [
            "100%|██████████| 12/12 [00:39<00:00,  3.28s/it]\n"
          ]
        },
        {
          "name": "stdout",
          "output_type": "stream",
          "text": [
            "tensor(4968.9473) tensor(32972298.)\n",
            "loss: 866.77\n"
          ]
        },
        {
          "name": "stderr",
          "output_type": "stream",
          "text": [
            "100%|██████████| 40/40 [00:11<00:00,  3.60it/s]\n"
          ]
        },
        {
          "name": "stdout",
          "output_type": "stream",
          "text": [
            "train: epoch: 23 loss: 3118050620.4202 kl: tensor(5.4543e+13, grad_fn=<DivBackward0>)\n"
          ]
        },
        {
          "name": "stderr",
          "output_type": "stream",
          "text": [
            "100%|██████████| 12/12 [00:39<00:00,  3.28s/it]\n"
          ]
        },
        {
          "name": "stdout",
          "output_type": "stream",
          "text": [
            "tensor(4968.9473) tensor(5.4304e+09)\n",
            "loss: 140139.8582\n"
          ]
        },
        {
          "name": "stderr",
          "output_type": "stream",
          "text": [
            "100%|██████████| 40/40 [00:13<00:00,  2.87it/s]\n"
          ]
        },
        {
          "name": "stdout",
          "output_type": "stream",
          "text": [
            "train: epoch: 24 loss: 6.562752986613188e+20 kl: tensor(5.6945e+24, grad_fn=<DivBackward0>)\n"
          ]
        },
        {
          "name": "stderr",
          "output_type": "stream",
          "text": [
            "100%|██████████| 12/12 [00:38<00:00,  3.23s/it]\n"
          ]
        },
        {
          "name": "stdout",
          "output_type": "stream",
          "text": [
            "tensor(4968.9473) tensor(2.9400e+22)\n",
            "loss: 5.116896890734716e+16\n"
          ]
        },
        {
          "name": "stderr",
          "output_type": "stream",
          "text": [
            "100%|██████████| 40/40 [00:10<00:00,  3.81it/s]\n"
          ]
        },
        {
          "name": "stdout",
          "output_type": "stream",
          "text": [
            "train: epoch: 25 loss: 9.181348226085259e+27 kl: tensor(7.9782e+32, grad_fn=<DivBackward0>)\n"
          ]
        },
        {
          "name": "stderr",
          "output_type": "stream",
          "text": [
            "100%|██████████| 12/12 [00:39<00:00,  3.27s/it]\n"
          ]
        },
        {
          "name": "stdout",
          "output_type": "stream",
          "text": [
            "tensor(4968.9473) tensor(1.1337e+33)\n",
            "loss: 4.050641111488257e+31\n"
          ]
        },
        {
          "name": "stderr",
          "output_type": "stream",
          "text": [
            "100%|██████████| 40/40 [00:12<00:00,  3.24it/s]\n"
          ]
        },
        {
          "name": "stdout",
          "output_type": "stream",
          "text": [
            "train: epoch: 26 loss: nan kl: tensor(nan, grad_fn=<DivBackward0>)\n"
          ]
        },
        {
          "name": "stderr",
          "output_type": "stream",
          "text": [
            "100%|██████████| 12/12 [00:39<00:00,  3.28s/it]\n"
          ]
        },
        {
          "name": "stdout",
          "output_type": "stream",
          "text": [
            "tensor(4968.9473) tensor(nan)\n",
            "loss: nan\n"
          ]
        },
        {
          "name": "stderr",
          "output_type": "stream",
          "text": [
            "100%|██████████| 40/40 [00:15<00:00,  2.51it/s]\n"
          ]
        },
        {
          "name": "stdout",
          "output_type": "stream",
          "text": [
            "train: epoch: 27 loss: nan kl: tensor(nan, grad_fn=<DivBackward0>)\n"
          ]
        },
        {
          "name": "stderr",
          "output_type": "stream",
          "text": [
            "100%|██████████| 12/12 [00:39<00:00,  3.28s/it]\n"
          ]
        },
        {
          "name": "stdout",
          "output_type": "stream",
          "text": [
            "tensor(4968.9473) tensor(nan)\n",
            "loss: nan\n"
          ]
        },
        {
          "name": "stderr",
          "output_type": "stream",
          "text": [
            "100%|██████████| 40/40 [00:16<00:00,  2.46it/s]\n"
          ]
        },
        {
          "name": "stdout",
          "output_type": "stream",
          "text": [
            "train: epoch: 28 loss: nan kl: tensor(nan, grad_fn=<DivBackward0>)\n"
          ]
        },
        {
          "name": "stderr",
          "output_type": "stream",
          "text": [
            "100%|██████████| 12/12 [00:39<00:00,  3.25s/it]\n"
          ]
        },
        {
          "name": "stdout",
          "output_type": "stream",
          "text": [
            "tensor(4968.9473) tensor(nan)\n",
            "loss: nan\n"
          ]
        },
        {
          "name": "stderr",
          "output_type": "stream",
          "text": [
            "100%|██████████| 40/40 [00:16<00:00,  2.46it/s]\n"
          ]
        },
        {
          "name": "stdout",
          "output_type": "stream",
          "text": [
            "train: epoch: 29 loss: nan kl: tensor(nan, grad_fn=<DivBackward0>)\n"
          ]
        },
        {
          "name": "stderr",
          "output_type": "stream",
          "text": [
            "100%|██████████| 12/12 [00:40<00:00,  3.38s/it]\n"
          ]
        },
        {
          "name": "stdout",
          "output_type": "stream",
          "text": [
            "tensor(4968.9473) tensor(nan)\n",
            "loss: nan\n"
          ]
        },
        {
          "name": "stderr",
          "output_type": "stream",
          "text": [
            "100%|██████████| 40/40 [00:16<00:00,  2.43it/s]\n"
          ]
        },
        {
          "name": "stdout",
          "output_type": "stream",
          "text": [
            "train: epoch: 30 loss: nan kl: tensor(nan, grad_fn=<DivBackward0>)\n"
          ]
        },
        {
          "name": "stderr",
          "output_type": "stream",
          "text": [
            "100%|██████████| 12/12 [00:38<00:00,  3.25s/it]\n"
          ]
        },
        {
          "name": "stdout",
          "output_type": "stream",
          "text": [
            "tensor(4968.9473) tensor(nan)\n",
            "loss: nan\n"
          ]
        },
        {
          "name": "stderr",
          "output_type": "stream",
          "text": [
            "100%|██████████| 40/40 [00:15<00:00,  2.55it/s]\n"
          ]
        },
        {
          "name": "stdout",
          "output_type": "stream",
          "text": [
            "train: epoch: 31 loss: nan kl: tensor(nan, grad_fn=<DivBackward0>)\n"
          ]
        },
        {
          "name": "stderr",
          "output_type": "stream",
          "text": [
            "100%|██████████| 12/12 [00:39<00:00,  3.27s/it]\n"
          ]
        },
        {
          "name": "stdout",
          "output_type": "stream",
          "text": [
            "tensor(4968.9473) tensor(nan)\n",
            "loss: nan\n"
          ]
        },
        {
          "name": "stderr",
          "output_type": "stream",
          "text": [
            "100%|██████████| 40/40 [00:14<00:00,  2.73it/s]\n"
          ]
        },
        {
          "name": "stdout",
          "output_type": "stream",
          "text": [
            "train: epoch: 32 loss: nan kl: tensor(nan, grad_fn=<DivBackward0>)\n"
          ]
        },
        {
          "name": "stderr",
          "output_type": "stream",
          "text": [
            "100%|██████████| 12/12 [00:39<00:00,  3.26s/it]\n"
          ]
        },
        {
          "name": "stdout",
          "output_type": "stream",
          "text": [
            "tensor(4968.9473) tensor(nan)\n",
            "loss: nan\n"
          ]
        },
        {
          "name": "stderr",
          "output_type": "stream",
          "text": [
            "100%|██████████| 40/40 [00:14<00:00,  2.71it/s]\n"
          ]
        },
        {
          "name": "stdout",
          "output_type": "stream",
          "text": [
            "train: epoch: 33 loss: nan kl: tensor(nan, grad_fn=<DivBackward0>)\n"
          ]
        },
        {
          "name": "stderr",
          "output_type": "stream",
          "text": [
            "100%|██████████| 12/12 [00:39<00:00,  3.26s/it]\n"
          ]
        },
        {
          "name": "stdout",
          "output_type": "stream",
          "text": [
            "tensor(4968.9473) tensor(nan)\n",
            "loss: nan\n"
          ]
        },
        {
          "name": "stderr",
          "output_type": "stream",
          "text": [
            "100%|██████████| 40/40 [00:14<00:00,  2.72it/s]\n"
          ]
        },
        {
          "name": "stdout",
          "output_type": "stream",
          "text": [
            "train: epoch: 34 loss: nan kl: tensor(nan, grad_fn=<DivBackward0>)\n"
          ]
        },
        {
          "name": "stderr",
          "output_type": "stream",
          "text": [
            "100%|██████████| 12/12 [00:40<00:00,  3.38s/it]\n"
          ]
        },
        {
          "name": "stdout",
          "output_type": "stream",
          "text": [
            "tensor(4968.9473) tensor(nan)\n",
            "loss: nan\n"
          ]
        },
        {
          "name": "stderr",
          "output_type": "stream",
          "text": [
            "100%|██████████| 40/40 [00:14<00:00,  2.71it/s]\n"
          ]
        },
        {
          "name": "stdout",
          "output_type": "stream",
          "text": [
            "train: epoch: 35 loss: nan kl: tensor(nan, grad_fn=<DivBackward0>)\n"
          ]
        },
        {
          "name": "stderr",
          "output_type": "stream",
          "text": [
            "100%|██████████| 12/12 [00:39<00:00,  3.27s/it]\n"
          ]
        },
        {
          "name": "stdout",
          "output_type": "stream",
          "text": [
            "tensor(4968.9473) tensor(nan)\n",
            "loss: nan\n"
          ]
        },
        {
          "name": "stderr",
          "output_type": "stream",
          "text": [
            "100%|██████████| 40/40 [00:14<00:00,  2.72it/s]\n"
          ]
        },
        {
          "name": "stdout",
          "output_type": "stream",
          "text": [
            "train: epoch: 36 loss: nan kl: tensor(nan, grad_fn=<DivBackward0>)\n"
          ]
        },
        {
          "name": "stderr",
          "output_type": "stream",
          "text": [
            "100%|██████████| 12/12 [00:39<00:00,  3.30s/it]\n"
          ]
        },
        {
          "name": "stdout",
          "output_type": "stream",
          "text": [
            "tensor(4968.9473) tensor(nan)\n",
            "loss: nan\n"
          ]
        },
        {
          "name": "stderr",
          "output_type": "stream",
          "text": [
            "100%|██████████| 40/40 [00:15<00:00,  2.58it/s]\n"
          ]
        },
        {
          "name": "stdout",
          "output_type": "stream",
          "text": [
            "train: epoch: 37 loss: nan kl: tensor(nan, grad_fn=<DivBackward0>)\n"
          ]
        },
        {
          "name": "stderr",
          "output_type": "stream",
          "text": [
            "100%|██████████| 12/12 [00:39<00:00,  3.29s/it]\n"
          ]
        },
        {
          "name": "stdout",
          "output_type": "stream",
          "text": [
            "tensor(4968.9473) tensor(nan)\n",
            "loss: nan\n"
          ]
        },
        {
          "name": "stderr",
          "output_type": "stream",
          "text": [
            "100%|██████████| 40/40 [00:14<00:00,  2.67it/s]\n"
          ]
        },
        {
          "name": "stdout",
          "output_type": "stream",
          "text": [
            "train: epoch: 38 loss: nan kl: tensor(nan, grad_fn=<DivBackward0>)\n"
          ]
        },
        {
          "name": "stderr",
          "output_type": "stream",
          "text": [
            "100%|██████████| 12/12 [00:39<00:00,  3.28s/it]\n"
          ]
        },
        {
          "name": "stdout",
          "output_type": "stream",
          "text": [
            "tensor(4968.9473) tensor(nan)\n",
            "loss: nan\n"
          ]
        },
        {
          "name": "stderr",
          "output_type": "stream",
          "text": [
            "100%|██████████| 40/40 [00:14<00:00,  2.74it/s]\n"
          ]
        },
        {
          "name": "stdout",
          "output_type": "stream",
          "text": [
            "train: epoch: 39 loss: nan kl: tensor(nan, grad_fn=<DivBackward0>)\n"
          ]
        },
        {
          "name": "stderr",
          "output_type": "stream",
          "text": [
            "100%|██████████| 12/12 [00:40<00:00,  3.35s/it]\n"
          ]
        },
        {
          "name": "stdout",
          "output_type": "stream",
          "text": [
            "tensor(4968.9473) tensor(nan)\n",
            "loss: nan\n"
          ]
        },
        {
          "name": "stderr",
          "output_type": "stream",
          "text": [
            "100%|██████████| 40/40 [00:16<00:00,  2.45it/s]\n"
          ]
        },
        {
          "name": "stdout",
          "output_type": "stream",
          "text": [
            "train: epoch: 40 loss: nan kl: tensor(nan, grad_fn=<DivBackward0>)\n"
          ]
        },
        {
          "name": "stderr",
          "output_type": "stream",
          "text": [
            "100%|██████████| 12/12 [00:38<00:00,  3.22s/it]\n"
          ]
        },
        {
          "name": "stdout",
          "output_type": "stream",
          "text": [
            "tensor(4968.9473) tensor(nan)\n",
            "loss: nan\n"
          ]
        },
        {
          "name": "stderr",
          "output_type": "stream",
          "text": [
            "100%|██████████| 40/40 [00:15<00:00,  2.63it/s]\n"
          ]
        },
        {
          "name": "stdout",
          "output_type": "stream",
          "text": [
            "train: epoch: 41 loss: nan kl: tensor(nan, grad_fn=<DivBackward0>)\n"
          ]
        },
        {
          "name": "stderr",
          "output_type": "stream",
          "text": [
            "100%|██████████| 12/12 [00:38<00:00,  3.23s/it]\n"
          ]
        },
        {
          "name": "stdout",
          "output_type": "stream",
          "text": [
            "tensor(4968.9473) tensor(nan)\n",
            "loss: nan\n"
          ]
        },
        {
          "name": "stderr",
          "output_type": "stream",
          "text": [
            "100%|██████████| 40/40 [00:14<00:00,  2.76it/s]\n"
          ]
        },
        {
          "name": "stdout",
          "output_type": "stream",
          "text": [
            "train: epoch: 42 loss: nan kl: tensor(nan, grad_fn=<DivBackward0>)\n"
          ]
        },
        {
          "name": "stderr",
          "output_type": "stream",
          "text": [
            "100%|██████████| 12/12 [00:38<00:00,  3.24s/it]\n"
          ]
        },
        {
          "name": "stdout",
          "output_type": "stream",
          "text": [
            "tensor(4968.9473) tensor(nan)\n",
            "loss: nan\n"
          ]
        },
        {
          "name": "stderr",
          "output_type": "stream",
          "text": [
            "100%|██████████| 40/40 [00:14<00:00,  2.76it/s]\n"
          ]
        },
        {
          "name": "stdout",
          "output_type": "stream",
          "text": [
            "train: epoch: 43 loss: nan kl: tensor(nan, grad_fn=<DivBackward0>)\n"
          ]
        },
        {
          "name": "stderr",
          "output_type": "stream",
          "text": [
            "100%|██████████| 12/12 [00:38<00:00,  3.23s/it]\n"
          ]
        },
        {
          "name": "stdout",
          "output_type": "stream",
          "text": [
            "tensor(4968.9473) tensor(nan)\n",
            "loss: nan\n"
          ]
        },
        {
          "name": "stderr",
          "output_type": "stream",
          "text": [
            "100%|██████████| 40/40 [00:15<00:00,  2.66it/s]\n"
          ]
        },
        {
          "name": "stdout",
          "output_type": "stream",
          "text": [
            "train: epoch: 44 loss: nan kl: tensor(nan, grad_fn=<DivBackward0>)\n"
          ]
        },
        {
          "name": "stderr",
          "output_type": "stream",
          "text": [
            "100%|██████████| 12/12 [00:39<00:00,  3.32s/it]\n"
          ]
        },
        {
          "name": "stdout",
          "output_type": "stream",
          "text": [
            "tensor(4968.9473) tensor(nan)\n",
            "loss: nan\n"
          ]
        },
        {
          "name": "stderr",
          "output_type": "stream",
          "text": [
            "100%|██████████| 40/40 [00:14<00:00,  2.75it/s]\n"
          ]
        },
        {
          "name": "stdout",
          "output_type": "stream",
          "text": [
            "train: epoch: 45 loss: nan kl: tensor(nan, grad_fn=<DivBackward0>)\n"
          ]
        },
        {
          "name": "stderr",
          "output_type": "stream",
          "text": [
            "100%|██████████| 12/12 [00:40<00:00,  3.34s/it]\n"
          ]
        },
        {
          "name": "stdout",
          "output_type": "stream",
          "text": [
            "tensor(4968.9473) tensor(nan)\n",
            "loss: nan\n"
          ]
        },
        {
          "name": "stderr",
          "output_type": "stream",
          "text": [
            "100%|██████████| 40/40 [00:16<00:00,  2.47it/s]\n"
          ]
        },
        {
          "name": "stdout",
          "output_type": "stream",
          "text": [
            "train: epoch: 46 loss: nan kl: tensor(nan, grad_fn=<DivBackward0>)\n"
          ]
        },
        {
          "name": "stderr",
          "output_type": "stream",
          "text": [
            "100%|██████████| 12/12 [00:38<00:00,  3.21s/it]\n"
          ]
        },
        {
          "name": "stdout",
          "output_type": "stream",
          "text": [
            "tensor(4968.9473) tensor(nan)\n",
            "loss: nan\n"
          ]
        },
        {
          "name": "stderr",
          "output_type": "stream",
          "text": [
            "100%|██████████| 40/40 [00:16<00:00,  2.44it/s]\n"
          ]
        },
        {
          "name": "stdout",
          "output_type": "stream",
          "text": [
            "train: epoch: 47 loss: nan kl: tensor(nan, grad_fn=<DivBackward0>)\n"
          ]
        },
        {
          "name": "stderr",
          "output_type": "stream",
          "text": [
            "100%|██████████| 12/12 [00:38<00:00,  3.21s/it]\n"
          ]
        },
        {
          "name": "stdout",
          "output_type": "stream",
          "text": [
            "tensor(4968.9473) tensor(nan)\n",
            "loss: nan\n"
          ]
        },
        {
          "name": "stderr",
          "output_type": "stream",
          "text": [
            "100%|██████████| 40/40 [00:15<00:00,  2.61it/s]\n"
          ]
        },
        {
          "name": "stdout",
          "output_type": "stream",
          "text": [
            "train: epoch: 48 loss: nan kl: tensor(nan, grad_fn=<DivBackward0>)\n"
          ]
        },
        {
          "name": "stderr",
          "output_type": "stream",
          "text": [
            "100%|██████████| 12/12 [00:38<00:00,  3.19s/it]\n"
          ]
        },
        {
          "name": "stdout",
          "output_type": "stream",
          "text": [
            "tensor(4968.9473) tensor(nan)\n",
            "loss: nan\n"
          ]
        },
        {
          "name": "stderr",
          "output_type": "stream",
          "text": [
            "100%|██████████| 40/40 [00:15<00:00,  2.57it/s]\n"
          ]
        },
        {
          "name": "stdout",
          "output_type": "stream",
          "text": [
            "train: epoch: 49 loss: nan kl: tensor(nan, grad_fn=<DivBackward0>)\n"
          ]
        },
        {
          "name": "stderr",
          "output_type": "stream",
          "text": [
            "100%|██████████| 12/12 [00:39<00:00,  3.31s/it]\n"
          ]
        },
        {
          "name": "stdout",
          "output_type": "stream",
          "text": [
            "tensor(4968.9473) tensor(nan)\n",
            "loss: nan\n"
          ]
        },
        {
          "name": "stderr",
          "output_type": "stream",
          "text": [
            "100%|██████████| 40/40 [00:16<00:00,  2.38it/s]\n"
          ]
        },
        {
          "name": "stdout",
          "output_type": "stream",
          "text": [
            "train: epoch: 50 loss: nan kl: tensor(nan, grad_fn=<DivBackward0>)\n"
          ]
        },
        {
          "name": "stderr",
          "output_type": "stream",
          "text": [
            "100%|██████████| 12/12 [00:38<00:00,  3.19s/it]\n"
          ]
        },
        {
          "name": "stdout",
          "output_type": "stream",
          "text": [
            "tensor(4968.9473) tensor(nan)\n",
            "loss: nan\n"
          ]
        },
        {
          "name": "stderr",
          "output_type": "stream",
          "text": [
            "100%|██████████| 40/40 [00:14<00:00,  2.72it/s]\n"
          ]
        },
        {
          "name": "stdout",
          "output_type": "stream",
          "text": [
            "train: epoch: 51 loss: nan kl: tensor(nan, grad_fn=<DivBackward0>)\n"
          ]
        },
        {
          "name": "stderr",
          "output_type": "stream",
          "text": [
            "100%|██████████| 12/12 [00:37<00:00,  3.17s/it]\n"
          ]
        },
        {
          "name": "stdout",
          "output_type": "stream",
          "text": [
            "tensor(4968.9473) tensor(nan)\n",
            "loss: nan\n"
          ]
        },
        {
          "name": "stderr",
          "output_type": "stream",
          "text": [
            "100%|██████████| 40/40 [00:14<00:00,  2.70it/s]\n"
          ]
        },
        {
          "name": "stdout",
          "output_type": "stream",
          "text": [
            "train: epoch: 52 loss: nan kl: tensor(nan, grad_fn=<DivBackward0>)\n"
          ]
        },
        {
          "name": "stderr",
          "output_type": "stream",
          "text": [
            "100%|██████████| 12/12 [00:37<00:00,  3.17s/it]\n"
          ]
        },
        {
          "name": "stdout",
          "output_type": "stream",
          "text": [
            "tensor(4968.9473) tensor(nan)\n",
            "loss: nan\n"
          ]
        },
        {
          "name": "stderr",
          "output_type": "stream",
          "text": [
            "100%|██████████| 40/40 [00:16<00:00,  2.49it/s]\n"
          ]
        },
        {
          "name": "stdout",
          "output_type": "stream",
          "text": [
            "train: epoch: 53 loss: nan kl: tensor(nan, grad_fn=<DivBackward0>)\n"
          ]
        },
        {
          "name": "stderr",
          "output_type": "stream",
          "text": [
            "100%|██████████| 12/12 [00:38<00:00,  3.19s/it]\n"
          ]
        },
        {
          "name": "stdout",
          "output_type": "stream",
          "text": [
            "tensor(4968.9473) tensor(nan)\n",
            "loss: nan\n"
          ]
        },
        {
          "name": "stderr",
          "output_type": "stream",
          "text": [
            "100%|██████████| 40/40 [00:14<00:00,  2.73it/s]\n"
          ]
        },
        {
          "name": "stdout",
          "output_type": "stream",
          "text": [
            "train: epoch: 54 loss: nan kl: tensor(nan, grad_fn=<DivBackward0>)\n"
          ]
        },
        {
          "name": "stderr",
          "output_type": "stream",
          "text": [
            "100%|██████████| 12/12 [00:40<00:00,  3.34s/it]\n"
          ]
        },
        {
          "name": "stdout",
          "output_type": "stream",
          "text": [
            "tensor(4968.9473) tensor(nan)\n",
            "loss: nan\n"
          ]
        },
        {
          "name": "stderr",
          "output_type": "stream",
          "text": [
            "100%|██████████| 40/40 [00:15<00:00,  2.65it/s]\n"
          ]
        },
        {
          "name": "stdout",
          "output_type": "stream",
          "text": [
            "train: epoch: 55 loss: nan kl: tensor(nan, grad_fn=<DivBackward0>)\n"
          ]
        },
        {
          "name": "stderr",
          "output_type": "stream",
          "text": [
            "100%|██████████| 12/12 [00:38<00:00,  3.18s/it]\n"
          ]
        },
        {
          "name": "stdout",
          "output_type": "stream",
          "text": [
            "tensor(4968.9473) tensor(nan)\n",
            "loss: nan\n"
          ]
        },
        {
          "name": "stderr",
          "output_type": "stream",
          "text": [
            "100%|██████████| 40/40 [00:17<00:00,  2.31it/s]\n"
          ]
        },
        {
          "name": "stdout",
          "output_type": "stream",
          "text": [
            "train: epoch: 56 loss: nan kl: tensor(nan, grad_fn=<DivBackward0>)\n"
          ]
        },
        {
          "name": "stderr",
          "output_type": "stream",
          "text": [
            "100%|██████████| 12/12 [00:38<00:00,  3.17s/it]\n"
          ]
        },
        {
          "name": "stdout",
          "output_type": "stream",
          "text": [
            "tensor(4968.9473) tensor(nan)\n",
            "loss: nan\n"
          ]
        },
        {
          "name": "stderr",
          "output_type": "stream",
          "text": [
            "100%|██████████| 40/40 [00:14<00:00,  2.71it/s]\n"
          ]
        },
        {
          "name": "stdout",
          "output_type": "stream",
          "text": [
            "train: epoch: 57 loss: nan kl: tensor(nan, grad_fn=<DivBackward0>)\n"
          ]
        },
        {
          "name": "stderr",
          "output_type": "stream",
          "text": [
            "100%|██████████| 12/12 [00:38<00:00,  3.20s/it]\n"
          ]
        },
        {
          "name": "stdout",
          "output_type": "stream",
          "text": [
            "tensor(4968.9473) tensor(nan)\n",
            "loss: nan\n"
          ]
        },
        {
          "name": "stderr",
          "output_type": "stream",
          "text": [
            "100%|██████████| 40/40 [00:14<00:00,  2.75it/s]\n"
          ]
        },
        {
          "name": "stdout",
          "output_type": "stream",
          "text": [
            "train: epoch: 58 loss: nan kl: tensor(nan, grad_fn=<DivBackward0>)\n"
          ]
        },
        {
          "name": "stderr",
          "output_type": "stream",
          "text": [
            "100%|██████████| 12/12 [00:38<00:00,  3.22s/it]\n"
          ]
        },
        {
          "name": "stdout",
          "output_type": "stream",
          "text": [
            "tensor(4968.9473) tensor(nan)\n",
            "loss: nan\n"
          ]
        },
        {
          "name": "stderr",
          "output_type": "stream",
          "text": [
            "100%|██████████| 40/40 [00:16<00:00,  2.45it/s]\n"
          ]
        },
        {
          "name": "stdout",
          "output_type": "stream",
          "text": [
            "train: epoch: 59 loss: nan kl: tensor(nan, grad_fn=<DivBackward0>)\n"
          ]
        },
        {
          "name": "stderr",
          "output_type": "stream",
          "text": [
            "100%|██████████| 12/12 [00:39<00:00,  3.28s/it]\n"
          ]
        },
        {
          "name": "stdout",
          "output_type": "stream",
          "text": [
            "tensor(4968.9473) tensor(nan)\n",
            "loss: nan\n"
          ]
        },
        {
          "name": "stderr",
          "output_type": "stream",
          "text": [
            "100%|██████████| 40/40 [00:14<00:00,  2.71it/s]\n"
          ]
        },
        {
          "name": "stdout",
          "output_type": "stream",
          "text": [
            "train: epoch: 60 loss: nan kl: tensor(nan, grad_fn=<DivBackward0>)\n"
          ]
        },
        {
          "name": "stderr",
          "output_type": "stream",
          "text": [
            "100%|██████████| 12/12 [00:38<00:00,  3.21s/it]\n"
          ]
        },
        {
          "name": "stdout",
          "output_type": "stream",
          "text": [
            "tensor(4968.9473) tensor(nan)\n",
            "loss: nan\n"
          ]
        },
        {
          "name": "stderr",
          "output_type": "stream",
          "text": [
            "100%|██████████| 40/40 [00:14<00:00,  2.73it/s]\n"
          ]
        },
        {
          "name": "stdout",
          "output_type": "stream",
          "text": [
            "train: epoch: 61 loss: nan kl: tensor(nan, grad_fn=<DivBackward0>)\n"
          ]
        },
        {
          "name": "stderr",
          "output_type": "stream",
          "text": [
            "100%|██████████| 12/12 [00:38<00:00,  3.22s/it]\n"
          ]
        },
        {
          "name": "stdout",
          "output_type": "stream",
          "text": [
            "tensor(4968.9473) tensor(nan)\n",
            "loss: nan\n"
          ]
        },
        {
          "name": "stderr",
          "output_type": "stream",
          "text": [
            "100%|██████████| 40/40 [00:14<00:00,  2.78it/s]\n"
          ]
        },
        {
          "name": "stdout",
          "output_type": "stream",
          "text": [
            "train: epoch: 62 loss: nan kl: tensor(nan, grad_fn=<DivBackward0>)\n"
          ]
        },
        {
          "name": "stderr",
          "output_type": "stream",
          "text": [
            "100%|██████████| 12/12 [00:38<00:00,  3.20s/it]\n"
          ]
        },
        {
          "name": "stdout",
          "output_type": "stream",
          "text": [
            "tensor(4968.9473) tensor(nan)\n",
            "loss: nan\n"
          ]
        },
        {
          "name": "stderr",
          "output_type": "stream",
          "text": [
            "100%|██████████| 40/40 [00:15<00:00,  2.59it/s]\n"
          ]
        },
        {
          "name": "stdout",
          "output_type": "stream",
          "text": [
            "train: epoch: 63 loss: nan kl: tensor(nan, grad_fn=<DivBackward0>)\n"
          ]
        },
        {
          "name": "stderr",
          "output_type": "stream",
          "text": [
            "100%|██████████| 12/12 [00:38<00:00,  3.25s/it]\n"
          ]
        },
        {
          "name": "stdout",
          "output_type": "stream",
          "text": [
            "tensor(4968.9473) tensor(nan)\n",
            "loss: nan\n"
          ]
        },
        {
          "name": "stderr",
          "output_type": "stream",
          "text": [
            "100%|██████████| 40/40 [00:14<00:00,  2.75it/s]\n"
          ]
        },
        {
          "name": "stdout",
          "output_type": "stream",
          "text": [
            "train: epoch: 64 loss: nan kl: tensor(nan, grad_fn=<DivBackward0>)\n"
          ]
        },
        {
          "name": "stderr",
          "output_type": "stream",
          "text": [
            "100%|██████████| 12/12 [00:39<00:00,  3.30s/it]\n"
          ]
        },
        {
          "name": "stdout",
          "output_type": "stream",
          "text": [
            "tensor(4968.9473) tensor(nan)\n",
            "loss: nan\n"
          ]
        },
        {
          "name": "stderr",
          "output_type": "stream",
          "text": [
            "100%|██████████| 40/40 [00:16<00:00,  2.45it/s]\n"
          ]
        },
        {
          "name": "stdout",
          "output_type": "stream",
          "text": [
            "train: epoch: 65 loss: nan kl: tensor(nan, grad_fn=<DivBackward0>)\n"
          ]
        },
        {
          "name": "stderr",
          "output_type": "stream",
          "text": [
            "100%|██████████| 12/12 [00:38<00:00,  3.19s/it]\n"
          ]
        },
        {
          "name": "stdout",
          "output_type": "stream",
          "text": [
            "tensor(4968.9473) tensor(nan)\n",
            "loss: nan\n"
          ]
        },
        {
          "name": "stderr",
          "output_type": "stream",
          "text": [
            "100%|██████████| 40/40 [00:16<00:00,  2.50it/s]\n"
          ]
        },
        {
          "name": "stdout",
          "output_type": "stream",
          "text": [
            "train: epoch: 66 loss: nan kl: tensor(nan, grad_fn=<DivBackward0>)\n"
          ]
        },
        {
          "name": "stderr",
          "output_type": "stream",
          "text": [
            "100%|██████████| 12/12 [00:38<00:00,  3.19s/it]\n"
          ]
        },
        {
          "name": "stdout",
          "output_type": "stream",
          "text": [
            "tensor(4968.9473) tensor(nan)\n",
            "loss: nan\n"
          ]
        },
        {
          "name": "stderr",
          "output_type": "stream",
          "text": [
            "100%|██████████| 40/40 [00:14<00:00,  2.79it/s]\n"
          ]
        },
        {
          "name": "stdout",
          "output_type": "stream",
          "text": [
            "train: epoch: 67 loss: nan kl: tensor(nan, grad_fn=<DivBackward0>)\n"
          ]
        },
        {
          "name": "stderr",
          "output_type": "stream",
          "text": [
            "100%|██████████| 12/12 [00:38<00:00,  3.22s/it]\n"
          ]
        },
        {
          "name": "stdout",
          "output_type": "stream",
          "text": [
            "tensor(4968.9473) tensor(nan)\n",
            "loss: nan\n"
          ]
        },
        {
          "name": "stderr",
          "output_type": "stream",
          "text": [
            "100%|██████████| 40/40 [00:14<00:00,  2.70it/s]\n"
          ]
        },
        {
          "name": "stdout",
          "output_type": "stream",
          "text": [
            "train: epoch: 68 loss: nan kl: tensor(nan, grad_fn=<DivBackward0>)\n"
          ]
        },
        {
          "name": "stderr",
          "output_type": "stream",
          "text": [
            "100%|██████████| 12/12 [00:38<00:00,  3.22s/it]\n"
          ]
        },
        {
          "name": "stdout",
          "output_type": "stream",
          "text": [
            "tensor(4968.9473) tensor(nan)\n",
            "loss: nan\n"
          ]
        },
        {
          "name": "stderr",
          "output_type": "stream",
          "text": [
            "100%|██████████| 40/40 [00:16<00:00,  2.45it/s]\n"
          ]
        },
        {
          "name": "stdout",
          "output_type": "stream",
          "text": [
            "train: epoch: 69 loss: nan kl: tensor(nan, grad_fn=<DivBackward0>)\n"
          ]
        },
        {
          "name": "stderr",
          "output_type": "stream",
          "text": [
            "100%|██████████| 12/12 [00:39<00:00,  3.33s/it]\n"
          ]
        },
        {
          "name": "stdout",
          "output_type": "stream",
          "text": [
            "tensor(4968.9473) tensor(nan)\n",
            "loss: nan\n"
          ]
        },
        {
          "name": "stderr",
          "output_type": "stream",
          "text": [
            "100%|██████████| 40/40 [00:15<00:00,  2.62it/s]\n"
          ]
        },
        {
          "name": "stdout",
          "output_type": "stream",
          "text": [
            "train: epoch: 70 loss: nan kl: tensor(nan, grad_fn=<DivBackward0>)\n"
          ]
        },
        {
          "name": "stderr",
          "output_type": "stream",
          "text": [
            "100%|██████████| 12/12 [00:38<00:00,  3.21s/it]\n"
          ]
        },
        {
          "name": "stdout",
          "output_type": "stream",
          "text": [
            "tensor(4968.9473) tensor(nan)\n",
            "loss: nan\n"
          ]
        },
        {
          "name": "stderr",
          "output_type": "stream",
          "text": [
            "100%|██████████| 40/40 [00:14<00:00,  2.71it/s]\n"
          ]
        },
        {
          "name": "stdout",
          "output_type": "stream",
          "text": [
            "train: epoch: 71 loss: nan kl: tensor(nan, grad_fn=<DivBackward0>)\n"
          ]
        },
        {
          "name": "stderr",
          "output_type": "stream",
          "text": [
            "100%|██████████| 12/12 [00:38<00:00,  3.22s/it]\n"
          ]
        },
        {
          "name": "stdout",
          "output_type": "stream",
          "text": [
            "tensor(4968.9473) tensor(nan)\n",
            "loss: nan\n"
          ]
        },
        {
          "name": "stderr",
          "output_type": "stream",
          "text": [
            "100%|██████████| 40/40 [00:14<00:00,  2.78it/s]\n"
          ]
        },
        {
          "name": "stdout",
          "output_type": "stream",
          "text": [
            "train: epoch: 72 loss: nan kl: tensor(nan, grad_fn=<DivBackward0>)\n"
          ]
        },
        {
          "name": "stderr",
          "output_type": "stream",
          "text": [
            "100%|██████████| 12/12 [00:38<00:00,  3.24s/it]\n"
          ]
        },
        {
          "name": "stdout",
          "output_type": "stream",
          "text": [
            "tensor(4968.9473) tensor(nan)\n",
            "loss: nan\n"
          ]
        },
        {
          "name": "stderr",
          "output_type": "stream",
          "text": [
            "100%|██████████| 40/40 [00:15<00:00,  2.63it/s]\n"
          ]
        },
        {
          "name": "stdout",
          "output_type": "stream",
          "text": [
            "train: epoch: 73 loss: nan kl: tensor(nan, grad_fn=<DivBackward0>)\n"
          ]
        },
        {
          "name": "stderr",
          "output_type": "stream",
          "text": [
            "100%|██████████| 12/12 [00:38<00:00,  3.25s/it]\n"
          ]
        },
        {
          "name": "stdout",
          "output_type": "stream",
          "text": [
            "tensor(4968.9473) tensor(nan)\n",
            "loss: nan\n"
          ]
        },
        {
          "name": "stderr",
          "output_type": "stream",
          "text": [
            "100%|██████████| 40/40 [00:14<00:00,  2.73it/s]\n"
          ]
        },
        {
          "name": "stdout",
          "output_type": "stream",
          "text": [
            "train: epoch: 74 loss: nan kl: tensor(nan, grad_fn=<DivBackward0>)\n"
          ]
        },
        {
          "name": "stderr",
          "output_type": "stream",
          "text": [
            "100%|██████████| 12/12 [00:39<00:00,  3.32s/it]\n"
          ]
        },
        {
          "name": "stdout",
          "output_type": "stream",
          "text": [
            "tensor(4968.9473) tensor(nan)\n",
            "loss: nan\n"
          ]
        },
        {
          "name": "stderr",
          "output_type": "stream",
          "text": [
            "100%|██████████| 40/40 [00:14<00:00,  2.75it/s]\n"
          ]
        },
        {
          "name": "stdout",
          "output_type": "stream",
          "text": [
            "train: epoch: 75 loss: nan kl: tensor(nan, grad_fn=<DivBackward0>)\n"
          ]
        },
        {
          "name": "stderr",
          "output_type": "stream",
          "text": [
            "100%|██████████| 12/12 [00:38<00:00,  3.23s/it]\n"
          ]
        },
        {
          "name": "stdout",
          "output_type": "stream",
          "text": [
            "tensor(4968.9473) tensor(nan)\n",
            "loss: nan\n"
          ]
        },
        {
          "name": "stderr",
          "output_type": "stream",
          "text": [
            "100%|██████████| 40/40 [00:16<00:00,  2.46it/s]\n"
          ]
        },
        {
          "name": "stdout",
          "output_type": "stream",
          "text": [
            "train: epoch: 76 loss: nan kl: tensor(nan, grad_fn=<DivBackward0>)\n"
          ]
        },
        {
          "name": "stderr",
          "output_type": "stream",
          "text": [
            "100%|██████████| 12/12 [00:39<00:00,  3.28s/it]\n"
          ]
        },
        {
          "name": "stdout",
          "output_type": "stream",
          "text": [
            "tensor(4968.9473) tensor(nan)\n",
            "loss: nan\n"
          ]
        },
        {
          "name": "stderr",
          "output_type": "stream",
          "text": [
            "100%|██████████| 40/40 [00:15<00:00,  2.64it/s]\n"
          ]
        },
        {
          "name": "stdout",
          "output_type": "stream",
          "text": [
            "train: epoch: 77 loss: nan kl: tensor(nan, grad_fn=<DivBackward0>)\n"
          ]
        },
        {
          "name": "stderr",
          "output_type": "stream",
          "text": [
            "100%|██████████| 12/12 [00:38<00:00,  3.22s/it]\n"
          ]
        },
        {
          "name": "stdout",
          "output_type": "stream",
          "text": [
            "tensor(4968.9473) tensor(nan)\n",
            "loss: nan\n"
          ]
        },
        {
          "name": "stderr",
          "output_type": "stream",
          "text": [
            "100%|██████████| 40/40 [00:14<00:00,  2.78it/s]\n"
          ]
        },
        {
          "name": "stdout",
          "output_type": "stream",
          "text": [
            "train: epoch: 78 loss: nan kl: tensor(nan, grad_fn=<DivBackward0>)\n"
          ]
        },
        {
          "name": "stderr",
          "output_type": "stream",
          "text": [
            "100%|██████████| 12/12 [00:39<00:00,  3.26s/it]\n"
          ]
        },
        {
          "name": "stdout",
          "output_type": "stream",
          "text": [
            "tensor(4968.9473) tensor(nan)\n",
            "loss: nan\n"
          ]
        },
        {
          "name": "stderr",
          "output_type": "stream",
          "text": [
            "100%|██████████| 40/40 [00:15<00:00,  2.51it/s]\n"
          ]
        },
        {
          "name": "stdout",
          "output_type": "stream",
          "text": [
            "train: epoch: 79 loss: nan kl: tensor(nan, grad_fn=<DivBackward0>)\n"
          ]
        },
        {
          "name": "stderr",
          "output_type": "stream",
          "text": [
            "100%|██████████| 12/12 [00:39<00:00,  3.33s/it]\n"
          ]
        },
        {
          "name": "stdout",
          "output_type": "stream",
          "text": [
            "tensor(4968.9473) tensor(nan)\n",
            "loss: nan\n"
          ]
        },
        {
          "name": "stderr",
          "output_type": "stream",
          "text": [
            "100%|██████████| 40/40 [00:14<00:00,  2.71it/s]\n"
          ]
        },
        {
          "name": "stdout",
          "output_type": "stream",
          "text": [
            "train: epoch: 80 loss: nan kl: tensor(nan, grad_fn=<DivBackward0>)\n"
          ]
        },
        {
          "name": "stderr",
          "output_type": "stream",
          "text": [
            "100%|██████████| 12/12 [00:38<00:00,  3.22s/it]\n"
          ]
        },
        {
          "name": "stdout",
          "output_type": "stream",
          "text": [
            "tensor(4968.9473) tensor(nan)\n",
            "loss: nan\n"
          ]
        },
        {
          "name": "stderr",
          "output_type": "stream",
          "text": [
            "100%|██████████| 40/40 [00:14<00:00,  2.75it/s]\n"
          ]
        },
        {
          "name": "stdout",
          "output_type": "stream",
          "text": [
            "train: epoch: 81 loss: nan kl: tensor(nan, grad_fn=<DivBackward0>)\n"
          ]
        },
        {
          "name": "stderr",
          "output_type": "stream",
          "text": [
            "100%|██████████| 12/12 [00:38<00:00,  3.23s/it]\n"
          ]
        },
        {
          "name": "stdout",
          "output_type": "stream",
          "text": [
            "tensor(4968.9473) tensor(nan)\n",
            "loss: nan\n"
          ]
        },
        {
          "name": "stderr",
          "output_type": "stream",
          "text": [
            "100%|██████████| 40/40 [00:14<00:00,  2.75it/s]\n"
          ]
        },
        {
          "name": "stdout",
          "output_type": "stream",
          "text": [
            "train: epoch: 82 loss: nan kl: tensor(nan, grad_fn=<DivBackward0>)\n"
          ]
        },
        {
          "name": "stderr",
          "output_type": "stream",
          "text": [
            "100%|██████████| 12/12 [00:38<00:00,  3.22s/it]\n"
          ]
        },
        {
          "name": "stdout",
          "output_type": "stream",
          "text": [
            "tensor(4968.9473) tensor(nan)\n",
            "loss: nan\n"
          ]
        },
        {
          "name": "stderr",
          "output_type": "stream",
          "text": [
            "100%|██████████| 40/40 [00:16<00:00,  2.46it/s]\n"
          ]
        },
        {
          "name": "stdout",
          "output_type": "stream",
          "text": [
            "train: epoch: 83 loss: nan kl: tensor(nan, grad_fn=<DivBackward0>)\n"
          ]
        },
        {
          "name": "stderr",
          "output_type": "stream",
          "text": [
            "100%|██████████| 12/12 [00:38<00:00,  3.23s/it]\n"
          ]
        },
        {
          "name": "stdout",
          "output_type": "stream",
          "text": [
            "tensor(4968.9473) tensor(nan)\n",
            "loss: nan\n"
          ]
        },
        {
          "name": "stderr",
          "output_type": "stream",
          "text": [
            "100%|██████████| 40/40 [00:14<00:00,  2.75it/s]\n"
          ]
        },
        {
          "name": "stdout",
          "output_type": "stream",
          "text": [
            "train: epoch: 84 loss: nan kl: tensor(nan, grad_fn=<DivBackward0>)\n"
          ]
        },
        {
          "name": "stderr",
          "output_type": "stream",
          "text": [
            "100%|██████████| 12/12 [00:39<00:00,  3.32s/it]\n"
          ]
        },
        {
          "name": "stdout",
          "output_type": "stream",
          "text": [
            "tensor(4968.9473) tensor(nan)\n",
            "loss: nan\n"
          ]
        },
        {
          "name": "stderr",
          "output_type": "stream",
          "text": [
            "100%|██████████| 40/40 [00:14<00:00,  2.71it/s]\n"
          ]
        },
        {
          "name": "stdout",
          "output_type": "stream",
          "text": [
            "train: epoch: 85 loss: nan kl: tensor(nan, grad_fn=<DivBackward0>)\n"
          ]
        },
        {
          "name": "stderr",
          "output_type": "stream",
          "text": [
            "100%|██████████| 12/12 [00:38<00:00,  3.25s/it]\n"
          ]
        },
        {
          "name": "stdout",
          "output_type": "stream",
          "text": [
            "tensor(4968.9473) tensor(nan)\n",
            "loss: nan\n"
          ]
        },
        {
          "name": "stderr",
          "output_type": "stream",
          "text": [
            "100%|██████████| 40/40 [00:14<00:00,  2.72it/s]\n"
          ]
        },
        {
          "name": "stdout",
          "output_type": "stream",
          "text": [
            "train: epoch: 86 loss: nan kl: tensor(nan, grad_fn=<DivBackward0>)\n"
          ]
        },
        {
          "name": "stderr",
          "output_type": "stream",
          "text": [
            "100%|██████████| 12/12 [00:38<00:00,  3.21s/it]\n"
          ]
        },
        {
          "name": "stdout",
          "output_type": "stream",
          "text": [
            "tensor(4968.9473) tensor(nan)\n",
            "loss: nan\n"
          ]
        },
        {
          "name": "stderr",
          "output_type": "stream",
          "text": [
            "100%|██████████| 40/40 [00:15<00:00,  2.56it/s]\n"
          ]
        },
        {
          "name": "stdout",
          "output_type": "stream",
          "text": [
            "train: epoch: 87 loss: nan kl: tensor(nan, grad_fn=<DivBackward0>)\n"
          ]
        },
        {
          "name": "stderr",
          "output_type": "stream",
          "text": [
            "100%|██████████| 12/12 [00:38<00:00,  3.21s/it]\n"
          ]
        },
        {
          "name": "stdout",
          "output_type": "stream",
          "text": [
            "tensor(4968.9473) tensor(nan)\n",
            "loss: nan\n"
          ]
        },
        {
          "name": "stderr",
          "output_type": "stream",
          "text": [
            "100%|██████████| 40/40 [00:14<00:00,  2.69it/s]\n"
          ]
        },
        {
          "name": "stdout",
          "output_type": "stream",
          "text": [
            "train: epoch: 88 loss: nan kl: tensor(nan, grad_fn=<DivBackward0>)\n"
          ]
        },
        {
          "name": "stderr",
          "output_type": "stream",
          "text": [
            "100%|██████████| 12/12 [00:38<00:00,  3.23s/it]\n"
          ]
        },
        {
          "name": "stdout",
          "output_type": "stream",
          "text": [
            "tensor(4968.9473) tensor(nan)\n",
            "loss: nan\n"
          ]
        },
        {
          "name": "stderr",
          "output_type": "stream",
          "text": [
            "100%|██████████| 40/40 [00:16<00:00,  2.41it/s]\n"
          ]
        },
        {
          "name": "stdout",
          "output_type": "stream",
          "text": [
            "train: epoch: 89 loss: nan kl: tensor(nan, grad_fn=<DivBackward0>)\n"
          ]
        },
        {
          "name": "stderr",
          "output_type": "stream",
          "text": [
            "100%|██████████| 12/12 [00:39<00:00,  3.33s/it]\n"
          ]
        },
        {
          "name": "stdout",
          "output_type": "stream",
          "text": [
            "tensor(4968.9473) tensor(nan)\n",
            "loss: nan\n"
          ]
        },
        {
          "name": "stderr",
          "output_type": "stream",
          "text": [
            "100%|██████████| 40/40 [00:14<00:00,  2.70it/s]\n"
          ]
        },
        {
          "name": "stdout",
          "output_type": "stream",
          "text": [
            "train: epoch: 90 loss: nan kl: tensor(nan, grad_fn=<DivBackward0>)\n"
          ]
        },
        {
          "name": "stderr",
          "output_type": "stream",
          "text": [
            "100%|██████████| 12/12 [00:38<00:00,  3.24s/it]\n"
          ]
        },
        {
          "name": "stdout",
          "output_type": "stream",
          "text": [
            "tensor(4968.9473) tensor(nan)\n",
            "loss: nan\n"
          ]
        },
        {
          "name": "stderr",
          "output_type": "stream",
          "text": [
            "100%|██████████| 40/40 [00:14<00:00,  2.67it/s]\n"
          ]
        },
        {
          "name": "stdout",
          "output_type": "stream",
          "text": [
            "train: epoch: 91 loss: nan kl: tensor(nan, grad_fn=<DivBackward0>)\n"
          ]
        },
        {
          "name": "stderr",
          "output_type": "stream",
          "text": [
            "100%|██████████| 12/12 [00:38<00:00,  3.20s/it]\n"
          ]
        },
        {
          "name": "stdout",
          "output_type": "stream",
          "text": [
            "tensor(4968.9473) tensor(nan)\n",
            "loss: nan\n"
          ]
        },
        {
          "name": "stderr",
          "output_type": "stream",
          "text": [
            "100%|██████████| 40/40 [00:15<00:00,  2.55it/s]\n"
          ]
        },
        {
          "name": "stdout",
          "output_type": "stream",
          "text": [
            "train: epoch: 92 loss: nan kl: tensor(nan, grad_fn=<DivBackward0>)\n"
          ]
        },
        {
          "name": "stderr",
          "output_type": "stream",
          "text": [
            "100%|██████████| 12/12 [00:38<00:00,  3.18s/it]\n"
          ]
        },
        {
          "name": "stdout",
          "output_type": "stream",
          "text": [
            "tensor(4968.9473) tensor(nan)\n",
            "loss: nan\n"
          ]
        },
        {
          "name": "stderr",
          "output_type": "stream",
          "text": [
            "100%|██████████| 40/40 [00:17<00:00,  2.34it/s]\n"
          ]
        },
        {
          "name": "stdout",
          "output_type": "stream",
          "text": [
            "train: epoch: 93 loss: nan kl: tensor(nan, grad_fn=<DivBackward0>)\n"
          ]
        },
        {
          "name": "stderr",
          "output_type": "stream",
          "text": [
            "100%|██████████| 12/12 [00:38<00:00,  3.17s/it]\n"
          ]
        },
        {
          "name": "stdout",
          "output_type": "stream",
          "text": [
            "tensor(4968.9473) tensor(nan)\n",
            "loss: nan\n"
          ]
        },
        {
          "name": "stderr",
          "output_type": "stream",
          "text": [
            "100%|██████████| 40/40 [00:14<00:00,  2.71it/s]\n"
          ]
        },
        {
          "name": "stdout",
          "output_type": "stream",
          "text": [
            "train: epoch: 94 loss: nan kl: tensor(nan, grad_fn=<DivBackward0>)\n"
          ]
        },
        {
          "name": "stderr",
          "output_type": "stream",
          "text": [
            "100%|██████████| 12/12 [00:39<00:00,  3.29s/it]\n"
          ]
        },
        {
          "name": "stdout",
          "output_type": "stream",
          "text": [
            "tensor(4968.9473) tensor(nan)\n",
            "loss: nan\n"
          ]
        },
        {
          "name": "stderr",
          "output_type": "stream",
          "text": [
            "100%|██████████| 40/40 [00:16<00:00,  2.48it/s]\n"
          ]
        },
        {
          "name": "stdout",
          "output_type": "stream",
          "text": [
            "train: epoch: 95 loss: nan kl: tensor(nan, grad_fn=<DivBackward0>)\n"
          ]
        },
        {
          "name": "stderr",
          "output_type": "stream",
          "text": [
            "100%|██████████| 12/12 [00:38<00:00,  3.17s/it]\n"
          ]
        },
        {
          "name": "stdout",
          "output_type": "stream",
          "text": [
            "tensor(4968.9473) tensor(nan)\n",
            "loss: nan\n"
          ]
        },
        {
          "name": "stderr",
          "output_type": "stream",
          "text": [
            "100%|██████████| 40/40 [00:14<00:00,  2.72it/s]\n"
          ]
        },
        {
          "name": "stdout",
          "output_type": "stream",
          "text": [
            "train: epoch: 96 loss: nan kl: tensor(nan, grad_fn=<DivBackward0>)\n"
          ]
        },
        {
          "name": "stderr",
          "output_type": "stream",
          "text": [
            "100%|██████████| 12/12 [00:38<00:00,  3.20s/it]\n"
          ]
        },
        {
          "name": "stdout",
          "output_type": "stream",
          "text": [
            "tensor(4968.9473) tensor(nan)\n",
            "loss: nan\n"
          ]
        },
        {
          "name": "stderr",
          "output_type": "stream",
          "text": [
            "100%|██████████| 40/40 [00:16<00:00,  2.46it/s]\n"
          ]
        },
        {
          "name": "stdout",
          "output_type": "stream",
          "text": [
            "train: epoch: 97 loss: nan kl: tensor(nan, grad_fn=<DivBackward0>)\n"
          ]
        },
        {
          "name": "stderr",
          "output_type": "stream",
          "text": [
            "100%|██████████| 12/12 [00:38<00:00,  3.21s/it]\n"
          ]
        },
        {
          "name": "stdout",
          "output_type": "stream",
          "text": [
            "tensor(4968.9473) tensor(nan)\n",
            "loss: nan\n"
          ]
        },
        {
          "name": "stderr",
          "output_type": "stream",
          "text": [
            "100%|██████████| 40/40 [00:16<00:00,  2.41it/s]\n"
          ]
        },
        {
          "name": "stdout",
          "output_type": "stream",
          "text": [
            "train: epoch: 98 loss: nan kl: tensor(nan, grad_fn=<DivBackward0>)\n"
          ]
        },
        {
          "name": "stderr",
          "output_type": "stream",
          "text": [
            "100%|██████████| 12/12 [00:38<00:00,  3.19s/it]\n"
          ]
        },
        {
          "name": "stdout",
          "output_type": "stream",
          "text": [
            "tensor(4968.9473) tensor(nan)\n",
            "loss: nan\n"
          ]
        },
        {
          "name": "stderr",
          "output_type": "stream",
          "text": [
            "100%|██████████| 40/40 [00:16<00:00,  2.36it/s]\n"
          ]
        },
        {
          "name": "stdout",
          "output_type": "stream",
          "text": [
            "train: epoch: 99 loss: nan kl: tensor(nan, grad_fn=<DivBackward0>)\n"
          ]
        },
        {
          "name": "stderr",
          "output_type": "stream",
          "text": [
            "100%|██████████| 12/12 [00:38<00:00,  3.18s/it]"
          ]
        },
        {
          "name": "stdout",
          "output_type": "stream",
          "text": [
            "tensor(4968.9473) tensor(nan)\n",
            "loss: nan\n"
          ]
        },
        {
          "name": "stderr",
          "output_type": "stream",
          "text": [
            "\n"
          ]
        }
      ],
      "source": [
        "for epoch in range(100):\n",
        "    train_metrics = {'train_loss': 0, 'train_kl': 0, 'loss_mse': 0}\n",
        "    val_metrics = {'val_loss': 0, 'mse':0, 'mape':0, 'true_model_metric': 0, 'gen_model_metric': 0, 'cos_sim': 0, 'smape': 0}\n",
        "\n",
        "    cnnvae.train()\n",
        "    for batch in tqdm(train_dataloader):\n",
        "        data = batch[0].to(device)\n",
        "        optimizer.zero_grad()\n",
        "        output = cnnvae(data.view(NETS_BATCHSIZE, 1, 64 * 64)).view(NETS_BATCHSIZE, 1, 64, 64)\n",
        "        data.detach()\n",
        "        loss_mse = criterion(output, data)\n",
        "        loss = loss_mse + cnnvae.vae.kl * kl_c\n",
        "        loss.backward()\n",
        "        optimizer.step()\n",
        "        train_metrics['train_kl'] += cnnvae.vae.kl * kl_c\n",
        "        train_metrics['train_loss'] += loss.item()\n",
        "        train_metrics['loss_mse'] += loss_mse.item()\n",
        "\n",
        "    train_metrics['train_loss'] /= len(train_dataloader)\n",
        "    train_metrics['loss_mse'] /= len(train_dataloader)\n",
        "    train_metrics['train_kl'] /= len(train_dataloader)\n",
        "\n",
        "    print(\"train: epoch:\", epoch,\n",
        "          \"loss:\", round(train_metrics['train_loss'], 4),\n",
        "          \"kl:\", train_metrics['train_kl'])\n",
        "\n",
        "\n",
        "    cnnvae.eval()\n",
        "    for batch in tqdm(valid_dataloader):\n",
        "        data, net_num, reg = batch\n",
        "        with torch.no_grad():\n",
        "            output = cnnvae(data.to(device))\n",
        "            val_loss = val_criterion(output, data.to(device))\n",
        "\n",
        "        val_metrics['val_loss'] += val_loss.item()\n",
        "        for j in range(NETS_BATCHSIZE):\n",
        "            true_net = torch.load(f\"/content/fitted 2/reg{int(reg[j])}/model{int(net_num[j])}.pt\", map_location=torch.device('cpu'))\n",
        "            # true_net = torch.load(f\"/content/model{net_num[j]}.pt\", map_location=torch.device('cpu'))\n",
        "            true_net = RNet([layer for layer in true_net.layers])\n",
        "            net = reverse_converter(output[j][0], true_net)\n",
        "\n",
        "            net.to(device).eval()\n",
        "            true_net.to(device).eval()\n",
        "\n",
        "            true_model_mse, true_model_smape  = (valid_model(true_net, reg_dataloaders[int(reg[j])][1]))\n",
        "            gen_model_mse, gen_model_smape  = (valid_model(net, reg_dataloaders[int(reg[j])][1]))\n",
        "\n",
        "            cos_sim = valid_cos_sim(net, true_net, reg_dataloaders[int(reg[j])][1])\n",
        "\n",
        "            val_metrics['smape'] += gen_model_smape\n",
        "            val_metrics['mse'] += (true_model_mse - gen_model_mse)**2\n",
        "            val_metrics['mape'] += (true_model_mse - gen_model_mse).abs()/gen_model_mse\n",
        "            val_metrics['true_model_metric'] += true_model_mse\n",
        "            val_metrics['gen_model_metric'] += gen_model_mse\n",
        "            val_metrics['cos_sim'] += cos_sim\n",
        "\n",
        "    val_metrics['smape'] /= (len(valid_dataloader) * NETS_BATCHSIZE)\n",
        "    val_metrics['cos_sim'] /= (len(valid_dataloader) * NETS_BATCHSIZE)\n",
        "    val_metrics['val_loss'] /= (len(valid_dataloader))\n",
        "    val_metrics['mse'] /= (len(valid_dataloader) * NETS_BATCHSIZE)\n",
        "    val_metrics['mape'] /= (len(valid_dataloader) * NETS_BATCHSIZE)\n",
        "    val_metrics['true_model_metric'] /= (len(valid_dataloader) * NETS_BATCHSIZE)\n",
        "    val_metrics['gen_model_metric'] /= (len(valid_dataloader) * NETS_BATCHSIZE)\n",
        "\n",
        "    print(val_metrics['true_model_metric'], val_metrics['gen_model_metric'])\n",
        "    print(\"loss:\", round(val_metrics['val_loss'], 4))\n",
        "\n",
        "    wandb.log(val_metrics | train_metrics)"
      ]
    },
    {
      "cell_type": "code",
      "execution_count": null,
      "metadata": {
        "colab": {
          "base_uri": "https://localhost:8080/",
          "height": 35
        },
        "id": "ETJ5PwXjsUxQ",
        "outputId": "8fcba9c7-73a0-46ea-feb6-c6441f4d743a"
      },
      "outputs": [
        {
          "data": {
            "application/vnd.google.colaboratory.intrinsic+json": {
              "type": "string"
            },
            "text/plain": [
              "'sdkjfdksj'"
            ]
          },
          "execution_count": 35,
          "metadata": {},
          "output_type": "execute_result"
        }
      ],
      "source": [
        "'sdkjfdksj'"
      ]
    },
    {
      "cell_type": "code",
      "execution_count": null,
      "metadata": {
        "id": "L59QlR2GFeCJ"
      },
      "outputs": [],
      "source": [
        "torch.save(cnnvae, 'fitted_model_07.pt')"
      ]
    },
    {
      "cell_type": "code",
      "execution_count": null,
      "metadata": {
        "colab": {
          "base_uri": "https://localhost:8080/"
        },
        "id": "B6ioR6yS9BjV",
        "outputId": "fa3d2da6-9712-49f4-c2f6-41850a452ae7"
      },
      "outputs": [
        {
          "name": "stderr",
          "output_type": "stream",
          "text": [
            "<ipython-input-76-de66ffa3bb94>:1: FutureWarning: You are using `torch.load` with `weights_only=False` (the current default value), which uses the default pickle module implicitly. It is possible to construct malicious pickle data which will execute arbitrary code during unpickling (See https://github.com/pytorch/pytorch/blob/main/SECURITY.md#untrusted-models for more details). In a future release, the default value for `weights_only` will be flipped to `True`. This limits the functions that could be executed during unpickling. Arbitrary objects will no longer be allowed to be loaded via this mode unless they are explicitly allowlisted by the user via `torch.serialization.add_safe_globals`. We recommend you start setting `weights_only=True` for any use case where you don't have full control of the loaded file. Please open an issue on GitHub for any issues related to this experimental feature.\n",
            "  cnnvae = torch.load('fitted_model_07.pt')\n"
          ]
        }
      ],
      "source": [
        "cnnvae = torch.load('fitted_model_07.pt')"
      ]
    },
    {
      "cell_type": "code",
      "execution_count": null,
      "metadata": {
        "colab": {
          "base_uri": "https://localhost:8080/"
        },
        "id": "mI8JkpG8ZgO5",
        "outputId": "d34a3c14-016a-4134-ebc3-360d8367e752"
      },
      "outputs": [
        {
          "data": {
            "text/plain": [
              "AE_VAE(\n",
              "  (ae): AE(\n",
              "    (encoder): Encoder(\n",
              "      (down1): Linear(in_features=4096, out_features=2025, bias=True)\n",
              "    )\n",
              "    (decoder): Decoder(\n",
              "      (up1): Linear(in_features=2025, out_features=4096, bias=True)\n",
              "    )\n",
              "  )\n",
              "  (vae): VAE(\n",
              "    (fc_sigma): Linear(in_features=2025, out_features=2025, bias=True)\n",
              "    (fc_mu): Linear(in_features=2025, out_features=2025, bias=True)\n",
              "  )\n",
              ")"
            ]
          },
          "execution_count": 77,
          "metadata": {},
          "output_type": "execute_result"
        }
      ],
      "source": [
        "cnnvae"
      ]
    },
    {
      "cell_type": "code",
      "execution_count": null,
      "metadata": {
        "id": "bOjKzj-VaBgD"
      },
      "outputs": [],
      "source": [
        "N = torch.distributions.Normal(0, 1)"
      ]
    },
    {
      "cell_type": "code",
      "execution_count": null,
      "metadata": {
        "colab": {
          "base_uri": "https://localhost:8080/"
        },
        "id": "QaY20Vn9aj54",
        "outputId": "a52cae5a-2132-4e30-a00a-d291fb242166"
      },
      "outputs": [
        {
          "data": {
            "text/plain": [
              "tensor([[ 0.2061, -2.1742,  0.9353,  ...,  0.3444,  1.1068, -2.7100]])"
            ]
          },
          "execution_count": 88,
          "metadata": {},
          "output_type": "execute_result"
        }
      ],
      "source": [
        "N.sample((1, 2025))"
      ]
    },
    {
      "cell_type": "code",
      "execution_count": null,
      "metadata": {
        "colab": {
          "base_uri": "https://localhost:8080/"
        },
        "id": "J_ep0M8Pay6T",
        "outputId": "d84a575a-e864-49f4-c9b8-622210e2b008"
      },
      "outputs": [
        {
          "data": {
            "text/plain": [
              "tensor([[ 5.8646e-01,  2.0577e-01,  8.0944e-01,  8.7942e-01, -1.3159e-01,\n",
              "         -4.7344e-02,  6.7567e-01, -3.3706e-01,  2.3950e-02,  1.3367e-01],\n",
              "        [-6.3919e-01, -4.8537e-01, -7.6817e-01, -1.0644e-01, -3.6743e-01,\n",
              "         -7.9478e-02, -1.1275e+00, -6.5370e-01, -5.3133e-01, -4.3214e-01],\n",
              "        [ 1.2598e+00,  5.4323e-01,  2.1792e+00,  1.0824e+00,  9.9124e-01,\n",
              "          2.1665e-01,  1.9723e+00,  1.4416e+00,  1.0375e+00,  1.1934e+00],\n",
              "        [ 6.5013e-03,  4.6656e-01,  6.8867e-01,  2.9081e-01,  8.6360e-01,\n",
              "          4.9176e-02,  3.9378e-01,  6.1263e-01,  9.1799e-01,  5.3902e-01],\n",
              "        [-3.4143e-01, -1.8439e-01, -2.7598e-01, -4.8941e-01,  3.4199e-02,\n",
              "         -2.2404e-01, -1.3024e-01,  6.8110e-02,  4.5147e-01, -6.6847e-01],\n",
              "        [ 5.4834e-01,  6.6446e-01,  6.5057e-01,  1.9468e-01,  7.3856e-01,\n",
              "          9.5361e-02,  6.2071e-01,  4.9931e-01,  1.7214e-01,  6.2273e-01],\n",
              "        [-4.3661e-01, -4.3044e-01, -7.9496e-01, -4.1557e-01, -6.2904e-01,\n",
              "         -8.1536e-02, -2.0586e-01, -6.1146e-01, -1.2077e-01, -5.4378e-01],\n",
              "        [-1.8339e-02,  2.4320e-02,  2.4250e-02,  3.9357e-03, -4.2513e-03,\n",
              "          1.5262e-02,  9.2130e-03,  3.3833e-03,  2.0724e-02, -1.3186e-03],\n",
              "        [-6.8735e-04, -8.6678e-03,  1.9203e-02, -1.7471e-02, -1.7122e-02,\n",
              "          2.2292e-02, -4.7491e-03,  2.5936e-02, -2.5682e-02, -3.6174e-02],\n",
              "        [ 6.9101e-03,  1.6876e-02, -5.4406e-02,  2.5785e-02, -1.5831e-02,\n",
              "         -2.3969e-02, -6.7018e-03, -2.3715e-02,  3.6794e-02, -2.6597e-02]],\n",
              "       grad_fn=<SliceBackward0>)"
            ]
          },
          "execution_count": 92,
          "metadata": {},
          "output_type": "execute_result"
        }
      ],
      "source": [
        "NETS_BATCHSIZE = 1\n",
        "cnnvae.ae.decoder(N.sample((1, 2025)))[0][0][:10, :10]"
      ]
    },
    {
      "cell_type": "code",
      "execution_count": null,
      "metadata": {
        "id": "EpHMRF7jayuH"
      },
      "outputs": [],
      "source": []
    },
    {
      "cell_type": "code",
      "execution_count": null,
      "metadata": {
        "id": "pfv_8OS5ApiT"
      },
      "outputs": [],
      "source": [
        "act_map = {nn.ReLU: 2,\n",
        "           nn.Tanh: 3,\n",
        "           nn.Sigmoid: 1}\n",
        "\n",
        "def matrix_converter(net):\n",
        "\n",
        "    matrix = torch.zeros(64, 64) + torch.full((64, 64), 0)\n",
        "    count_matrix = torch.zeros(64, 64)\n",
        "    dims = [0, 0]\n",
        "    last_layer = 0\n",
        "    layer_count = 1\n",
        "\n",
        "    if net.__class__ != nn.Sequential:\n",
        "        net = net.layers\n",
        "    for i in range(len(net)):\n",
        "        layer = net[i]\n",
        "        if layer.__class__ in act_map.keys():\n",
        "            for _ in range(last_layer):\n",
        "                matrix[dims[0], dims[1]] = act_map[layer.__class__]\n",
        "                count_matrix[dims[0], dims[1]] = layer_count\n",
        "                dims[0] += 1\n",
        "                dims[1] += 1\n",
        "            layer_count += 1\n",
        "        else:\n",
        "            matrix[dims[0]:dims[0]+layer.out_features, dims[1]:dims[1]+layer.in_features] = layer.weight\n",
        "            count_matrix[dims[0]:dims[0]+layer.out_features, dims[1]:dims[1]+layer.in_features] = layer_count * torch.eye(layer.out_features, layer.in_features)\n",
        "            dims[0] += layer.out_features\n",
        "            dims[1] += layer.in_features\n",
        "            last_layer = layer.out_features\n",
        "            layer_count += 1\n",
        "    return matrix, count_matrix"
      ]
    },
    {
      "cell_type": "code",
      "execution_count": null,
      "metadata": {
        "colab": {
          "base_uri": "https://localhost:8080/"
        },
        "id": "yybp9aGPkjA8",
        "outputId": "91358971-9718-47cd-bb6a-b69b50d1bd8c"
      },
      "outputs": [
        {
          "data": {
            "text/plain": [
              "Net(\n",
              "  (layers): Sequential(\n",
              "    (0): Linear(in_features=10, out_features=6, bias=True)\n",
              "    (1): Sigmoid()\n",
              "    (2): Linear(in_features=6, out_features=8, bias=False)\n",
              "    (3): Tanh()\n",
              "    (4): Linear(in_features=8, out_features=4, bias=False)\n",
              "    (5): Tanh()\n",
              "    (6): Linear(in_features=4, out_features=1, bias=True)\n",
              "  )\n",
              ")"
            ]
          },
          "execution_count": 54,
          "metadata": {},
          "output_type": "execute_result"
        }
      ],
      "source": [
        "net = Net(10, 1)\n",
        "net"
      ]
    },
    {
      "cell_type": "code",
      "execution_count": null,
      "metadata": {
        "colab": {
          "base_uri": "https://localhost:8080/"
        },
        "id": "_OlRr10Jkkkq",
        "outputId": "b4d1c11d-6686-4946-e552-d0ab7b50e73c"
      },
      "outputs": [
        {
          "data": {
            "text/plain": [
              "tensor([[1., 0., 0., 0., 0., 0., 0., 0., 0., 0., 0., 0., 0., 0., 0., 0., 0., 0.],\n",
              "        [0., 1., 0., 0., 0., 0., 0., 0., 0., 0., 0., 0., 0., 0., 0., 0., 0., 0.],\n",
              "        [0., 0., 1., 0., 0., 0., 0., 0., 0., 0., 0., 0., 0., 0., 0., 0., 0., 0.],\n",
              "        [0., 0., 0., 1., 0., 0., 0., 0., 0., 0., 0., 0., 0., 0., 0., 0., 0., 0.],\n",
              "        [0., 0., 0., 0., 1., 0., 0., 0., 0., 0., 0., 0., 0., 0., 0., 0., 0., 0.],\n",
              "        [0., 0., 0., 0., 0., 1., 0., 0., 0., 0., 0., 0., 0., 0., 0., 0., 0., 0.],\n",
              "        [0., 0., 0., 0., 0., 0., 0., 0., 0., 0., 2., 0., 0., 0., 0., 0., 0., 0.],\n",
              "        [0., 0., 0., 0., 0., 0., 0., 0., 0., 0., 0., 2., 0., 0., 0., 0., 0., 0.],\n",
              "        [0., 0., 0., 0., 0., 0., 0., 0., 0., 0., 0., 0., 2., 0., 0., 0., 0., 0.],\n",
              "        [0., 0., 0., 0., 0., 0., 0., 0., 0., 0., 0., 0., 0., 2., 0., 0., 0., 0.],\n",
              "        [0., 0., 0., 0., 0., 0., 0., 0., 0., 0., 0., 0., 0., 0., 2., 0., 0., 0.],\n",
              "        [0., 0., 0., 0., 0., 0., 0., 0., 0., 0., 0., 0., 0., 0., 0., 2., 0., 0.],\n",
              "        [0., 0., 0., 0., 0., 0., 0., 0., 0., 0., 0., 0., 0., 0., 0., 0., 3., 0.],\n",
              "        [0., 0., 0., 0., 0., 0., 0., 0., 0., 0., 0., 0., 0., 0., 0., 0., 0., 3.],\n",
              "        [0., 0., 0., 0., 0., 0., 0., 0., 0., 0., 0., 0., 0., 0., 0., 0., 0., 0.],\n",
              "        [0., 0., 0., 0., 0., 0., 0., 0., 0., 0., 0., 0., 0., 0., 0., 0., 0., 0.],\n",
              "        [0., 0., 0., 0., 0., 0., 0., 0., 0., 0., 0., 0., 0., 0., 0., 0., 0., 0.],\n",
              "        [0., 0., 0., 0., 0., 0., 0., 0., 0., 0., 0., 0., 0., 0., 0., 0., 0., 0.],\n",
              "        [0., 0., 0., 0., 0., 0., 0., 0., 0., 0., 0., 0., 0., 0., 0., 0., 0., 0.],\n",
              "        [0., 0., 0., 0., 0., 0., 0., 0., 0., 0., 0., 0., 0., 0., 0., 0., 0., 0.]])"
            ]
          },
          "execution_count": 57,
          "metadata": {},
          "output_type": "execute_result"
        }
      ],
      "source": [
        "matrix_converter(net)[1][:20, :18]"
      ]
    },
    {
      "cell_type": "code",
      "execution_count": null,
      "metadata": {
        "colab": {
          "base_uri": "https://localhost:8080/"
        },
        "id": "7TKEYf39k5Cl",
        "outputId": "b8497fdb-3c1e-4bb5-8d45-804b8ac27c81"
      },
      "outputs": [
        {
          "data": {
            "text/plain": [
              "tensor([[ 0.0780, -0.0778, -0.1396,  ...,  0.0000,  0.0000,  0.0000],\n",
              "        [ 0.0427, -0.1252, -0.0733,  ...,  0.0000,  0.0000,  0.0000],\n",
              "        [-0.2523,  0.1257,  0.0805,  ...,  0.0000,  0.0000,  0.0000],\n",
              "        ...,\n",
              "        [ 0.0000,  0.0000,  0.0000,  ...,  0.0000,  0.0000,  0.0000],\n",
              "        [ 0.0000,  0.0000,  0.0000,  ...,  0.0000,  0.0000,  0.0000],\n",
              "        [ 0.0000,  0.0000,  0.0000,  ...,  0.0000,  0.0000,  0.0000]],\n",
              "       grad_fn=<CopySlices>)"
            ]
          },
          "execution_count": 56,
          "metadata": {},
          "output_type": "execute_result"
        }
      ],
      "source": [
        "matrix_converter(net)[0]"
      ]
    },
    {
      "cell_type": "code",
      "execution_count": null,
      "metadata": {
        "colab": {
          "base_uri": "https://localhost:8080/"
        },
        "id": "FiucCNank6bP",
        "outputId": "2926b8eb-2dd5-4123-839d-6857d5e07a4a"
      },
      "outputs": [
        {
          "data": {
            "text/plain": [
              "tensor([[1., 0., 0., 0., 0., 0., 0., 0.],\n",
              "        [0., 1., 0., 0., 0., 0., 0., 0.],\n",
              "        [0., 0., 1., 0., 0., 0., 0., 0.],\n",
              "        [0., 0., 0., 1., 0., 0., 0., 0.],\n",
              "        [0., 0., 0., 0., 1., 0., 0., 0.],\n",
              "        [0., 0., 0., 0., 0., 1., 0., 0.],\n",
              "        [0., 0., 0., 0., 0., 0., 1., 0.],\n",
              "        [0., 0., 0., 0., 0., 0., 0., 1.],\n",
              "        [0., 0., 0., 0., 0., 0., 0., 0.],\n",
              "        [0., 0., 0., 0., 0., 0., 0., 0.]])"
            ]
          },
          "execution_count": 60,
          "metadata": {},
          "output_type": "execute_result"
        }
      ],
      "source": [
        "torch.eye(10, 8)"
      ]
    }
  ],
  "metadata": {
    "colab": {
      "provenance": []
    },
    "kernelspec": {
      "display_name": "Python 3",
      "name": "python3"
    },
    "language_info": {
      "name": "python"
    },
    "widgets": {
      "application/vnd.jupyter.widget-state+json": {
        "2df1bfee7f4f4086a72e249547599b68": {
          "model_module": "@jupyter-widgets/controls",
          "model_module_version": "1.5.0",
          "model_name": "LabelModel",
          "state": {
            "_dom_classes": [],
            "_model_module": "@jupyter-widgets/controls",
            "_model_module_version": "1.5.0",
            "_model_name": "LabelModel",
            "_view_count": null,
            "_view_module": "@jupyter-widgets/controls",
            "_view_module_version": "1.5.0",
            "_view_name": "LabelView",
            "description": "",
            "description_tooltip": null,
            "layout": "IPY_MODEL_7a448bebdf7049a485f2daa8078d7b71",
            "placeholder": "​",
            "style": "IPY_MODEL_5952e00e1240438f87752f29fb05c201",
            "value": "0.020 MB of 0.020 MB uploaded\r"
          }
        },
        "52550b6d511c4e958a7cc862433e74cf": {
          "model_module": "@jupyter-widgets/base",
          "model_module_version": "1.2.0",
          "model_name": "LayoutModel",
          "state": {
            "_model_module": "@jupyter-widgets/base",
            "_model_module_version": "1.2.0",
            "_model_name": "LayoutModel",
            "_view_count": null,
            "_view_module": "@jupyter-widgets/base",
            "_view_module_version": "1.2.0",
            "_view_name": "LayoutView",
            "align_content": null,
            "align_items": null,
            "align_self": null,
            "border": null,
            "bottom": null,
            "display": null,
            "flex": null,
            "flex_flow": null,
            "grid_area": null,
            "grid_auto_columns": null,
            "grid_auto_flow": null,
            "grid_auto_rows": null,
            "grid_column": null,
            "grid_gap": null,
            "grid_row": null,
            "grid_template_areas": null,
            "grid_template_columns": null,
            "grid_template_rows": null,
            "height": null,
            "justify_content": null,
            "justify_items": null,
            "left": null,
            "margin": null,
            "max_height": null,
            "max_width": null,
            "min_height": null,
            "min_width": null,
            "object_fit": null,
            "object_position": null,
            "order": null,
            "overflow": null,
            "overflow_x": null,
            "overflow_y": null,
            "padding": null,
            "right": null,
            "top": null,
            "visibility": null,
            "width": null
          }
        },
        "5952e00e1240438f87752f29fb05c201": {
          "model_module": "@jupyter-widgets/controls",
          "model_module_version": "1.5.0",
          "model_name": "DescriptionStyleModel",
          "state": {
            "_model_module": "@jupyter-widgets/controls",
            "_model_module_version": "1.5.0",
            "_model_name": "DescriptionStyleModel",
            "_view_count": null,
            "_view_module": "@jupyter-widgets/base",
            "_view_module_version": "1.2.0",
            "_view_name": "StyleView",
            "description_width": ""
          }
        },
        "5f1af8c9a56d488581a35e8ed12d0759": {
          "model_module": "@jupyter-widgets/controls",
          "model_module_version": "1.5.0",
          "model_name": "VBoxModel",
          "state": {
            "_dom_classes": [],
            "_model_module": "@jupyter-widgets/controls",
            "_model_module_version": "1.5.0",
            "_model_name": "VBoxModel",
            "_view_count": null,
            "_view_module": "@jupyter-widgets/controls",
            "_view_module_version": "1.5.0",
            "_view_name": "VBoxView",
            "box_style": "",
            "children": [
              "IPY_MODEL_2df1bfee7f4f4086a72e249547599b68",
              "IPY_MODEL_9f095a769e74452ba9df1a3308a02f77"
            ],
            "layout": "IPY_MODEL_644a4d5099114a0fbd9ce67edd53ba42"
          }
        },
        "644a4d5099114a0fbd9ce67edd53ba42": {
          "model_module": "@jupyter-widgets/base",
          "model_module_version": "1.2.0",
          "model_name": "LayoutModel",
          "state": {
            "_model_module": "@jupyter-widgets/base",
            "_model_module_version": "1.2.0",
            "_model_name": "LayoutModel",
            "_view_count": null,
            "_view_module": "@jupyter-widgets/base",
            "_view_module_version": "1.2.0",
            "_view_name": "LayoutView",
            "align_content": null,
            "align_items": null,
            "align_self": null,
            "border": null,
            "bottom": null,
            "display": null,
            "flex": null,
            "flex_flow": null,
            "grid_area": null,
            "grid_auto_columns": null,
            "grid_auto_flow": null,
            "grid_auto_rows": null,
            "grid_column": null,
            "grid_gap": null,
            "grid_row": null,
            "grid_template_areas": null,
            "grid_template_columns": null,
            "grid_template_rows": null,
            "height": null,
            "justify_content": null,
            "justify_items": null,
            "left": null,
            "margin": null,
            "max_height": null,
            "max_width": null,
            "min_height": null,
            "min_width": null,
            "object_fit": null,
            "object_position": null,
            "order": null,
            "overflow": null,
            "overflow_x": null,
            "overflow_y": null,
            "padding": null,
            "right": null,
            "top": null,
            "visibility": null,
            "width": null
          }
        },
        "7a448bebdf7049a485f2daa8078d7b71": {
          "model_module": "@jupyter-widgets/base",
          "model_module_version": "1.2.0",
          "model_name": "LayoutModel",
          "state": {
            "_model_module": "@jupyter-widgets/base",
            "_model_module_version": "1.2.0",
            "_model_name": "LayoutModel",
            "_view_count": null,
            "_view_module": "@jupyter-widgets/base",
            "_view_module_version": "1.2.0",
            "_view_name": "LayoutView",
            "align_content": null,
            "align_items": null,
            "align_self": null,
            "border": null,
            "bottom": null,
            "display": null,
            "flex": null,
            "flex_flow": null,
            "grid_area": null,
            "grid_auto_columns": null,
            "grid_auto_flow": null,
            "grid_auto_rows": null,
            "grid_column": null,
            "grid_gap": null,
            "grid_row": null,
            "grid_template_areas": null,
            "grid_template_columns": null,
            "grid_template_rows": null,
            "height": null,
            "justify_content": null,
            "justify_items": null,
            "left": null,
            "margin": null,
            "max_height": null,
            "max_width": null,
            "min_height": null,
            "min_width": null,
            "object_fit": null,
            "object_position": null,
            "order": null,
            "overflow": null,
            "overflow_x": null,
            "overflow_y": null,
            "padding": null,
            "right": null,
            "top": null,
            "visibility": null,
            "width": null
          }
        },
        "9f095a769e74452ba9df1a3308a02f77": {
          "model_module": "@jupyter-widgets/controls",
          "model_module_version": "1.5.0",
          "model_name": "FloatProgressModel",
          "state": {
            "_dom_classes": [],
            "_model_module": "@jupyter-widgets/controls",
            "_model_module_version": "1.5.0",
            "_model_name": "FloatProgressModel",
            "_view_count": null,
            "_view_module": "@jupyter-widgets/controls",
            "_view_module_version": "1.5.0",
            "_view_name": "ProgressView",
            "bar_style": "",
            "description": "",
            "description_tooltip": null,
            "layout": "IPY_MODEL_52550b6d511c4e958a7cc862433e74cf",
            "max": 1,
            "min": 0,
            "orientation": "horizontal",
            "style": "IPY_MODEL_fd4cfe23b2824a88b3ee32dfe7d7ca28",
            "value": 1
          }
        },
        "fd4cfe23b2824a88b3ee32dfe7d7ca28": {
          "model_module": "@jupyter-widgets/controls",
          "model_module_version": "1.5.0",
          "model_name": "ProgressStyleModel",
          "state": {
            "_model_module": "@jupyter-widgets/controls",
            "_model_module_version": "1.5.0",
            "_model_name": "ProgressStyleModel",
            "_view_count": null,
            "_view_module": "@jupyter-widgets/base",
            "_view_module_version": "1.2.0",
            "_view_name": "StyleView",
            "bar_color": null,
            "description_width": ""
          }
        }
      }
    }
  },
  "nbformat": 4,
  "nbformat_minor": 0
}